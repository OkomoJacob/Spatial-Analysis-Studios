{
 "cells": [
  {
   "cell_type": "markdown",
   "metadata": {},
   "source": [
    "< [Contents](contents.ipynb) | [The PCRaster Dynamic Modelling Framework](PCRasterDynamicModellingFramework.ipynb) >"
   ]
  },
  {
   "cell_type": "markdown",
   "metadata": {},
   "source": [
    "# 1. Introduction\n",
    "In this tutorial you'll learn how to build a dynamic model with PCRaster.\n",
    "After this tutorial you'll be able to:\n",
    "1. Use the PCRaster Python Dynamic Modelling Framework\n",
    "2. Use PCRaster operations for initializing models\n",
    "3. Use PCRaster operations for dynamic modelling\n",
    "4. Use PCRaster operations for reporting spatial and/or temporal model results\n",
    "5. Develop your own spatial dynamic models."
   ]
  },
  {
   "cell_type": "markdown",
   "metadata": {},
   "source": [
    "We are going to implement a rainfall runoff model based on the STREAM model. We'll apply it to the Upper Mara River Basin in Kenya. STREAM is a GIS-based hydrological model. It uses GIS layers in combination with a PCRaster Python script to describe hydrological processes in a catchment.\n",
    "\n",
    "In the next section you'll be introduced to the PCRaster Dynamic Modelling Framework. Next, we'll start builing the `initial` section of the model, followed by the `dynamic` section."
   ]
  },
  {
   "cell_type": "markdown",
   "metadata": {},
   "source": [
    "## References\n",
    "*Aerts, J., de Moel, H., 2004. STREAM : a spatial tool for analyses in river basins. Clim. Coast. Coop. 152–154.*\n",
    "\n",
    "*Kiptala, J.K., Mul, M.L., Mohamed, Y.A., Van Der Zaag, P., 2014. Modelling stream flow and quantifying  blue  water  using  a  modified  STREAM  model  for  a  heterogeneous,  highly utilized  and  data-scarce  river  basin  in  Africa.  Hydrol.  Earth  Syst.  Sci.  18,  2287–2303. https://doi.org/10.5194/hess-18-2287-2014*\n",
    "\n",
    "## Acknowledgements\n",
    "*Thanks to [Shisiali Ashiono](https://www.linkedin.com/in/shisiali-ashiono-7b36b0120/) for providing data and scripts as basis for this tutorial.*"
   ]
  },
  {
   "cell_type": "markdown",
   "metadata": {},
   "source": [
    "< [Contents](contents.ipynb) | [The PCRaster Dynamic Modelling Framework](PCRasterDynamicModellingFramework.ipynb) >"
   ]
  }
 ],
 "metadata": {
  "kernelspec": {
   "display_name": "Python 3",
   "language": "python",
   "name": "python3"
  },
  "language_info": {
   "codemirror_mode": {
    "name": "ipython",
    "version": 3
   },
   "file_extension": ".py",
   "mimetype": "text/x-python",
   "name": "python",
   "nbconvert_exporter": "python",
   "pygments_lexer": "ipython3",
   "version": "3.7.9"
  }
 },
 "nbformat": 4,
 "nbformat_minor": 4
}
