{
 "cells": [
  {
   "cell_type": "markdown",
   "metadata": {},
   "source": [
    "<!--NAVIGATION-->\n",
    "< [Introduction](Introduction_Catchment_Delineation.ipynb) | [Contents](ContentsCatchmentDelineation.ipynb) | [Reproject and Subset](reprojectAndSubset.ipynb) >"
   ]
  },
  {
   "cell_type": "markdown",
   "metadata": {},
   "source": [
    "# 2. Mosaic DEM tiles"
   ]
  },
  {
   "cell_type": "markdown",
   "metadata": {},
   "source": [
    "The first step is to mosaic the DEM tiles into one raster layer.\n",
    "\n",
    "Data used in this tutorial are in the `Data` folder. Let's set the path first."
   ]
  },
  {
   "cell_type": "code",
   "execution_count": null,
   "metadata": {},
   "outputs": [],
   "source": [
    "import os\n",
    "os.chdir('./Data')\n",
    "print(os.getcwd())"
   ]
  },
  {
   "cell_type": "markdown",
   "metadata": {},
   "source": [
    "Now we can make a list of all GeoTIFF files in a folder. We use the <code>glob</code> module to find all files matching the <code>.tif</code> extension."
   ]
  },
  {
   "cell_type": "code",
   "execution_count": null,
   "metadata": {},
   "outputs": [],
   "source": [
    "import glob\n",
    "from osgeo import gdal\n",
    "\n",
    "inputFiles = glob.glob('*.tif')\n",
    "print(inputFiles)"
   ]
  },
  {
   "cell_type": "markdown",
   "metadata": {},
   "source": [
    "As you see we've created a list of all the GeoTIFF files in the folder.\n",
    "Now we're going to use that list to create a mosaic in a virtual file (<code>.vrt</code>). A virtual file is very efficient in this case, because it doesn't recreate the wholde dataset, but just describes how the tiles are connected. We use <code>gdal.BuildVRT</code> for that, with the default settings. It only needs the output filename (<code>mosaic.vrt</code>) and the list of input files. We need to add <code>FlushCache()</code> to write the layer to disk."
   ]
  },
  {
   "cell_type": "code",
   "execution_count": null,
   "metadata": {},
   "outputs": [],
   "source": [
    "mosaic = gdal.BuildVRT('mosaic.vrt',inputFiles)\n",
    "mosaic.FlushCache()"
   ]
  },
  {
   "cell_type": "markdown",
   "metadata": {},
   "source": [
    "You can now open the <code>mosaic.vrt</code> layer in QGIS to check the result."
   ]
  },
  {
   "cell_type": "markdown",
   "metadata": {},
   "source": [
    "The next step is to reproject and subset the mosaic so we have a smaller area to continue with."
   ]
  },
  {
   "cell_type": "markdown",
   "metadata": {},
   "source": [
    "<!--NAVIGATION-->\n",
    "< [Introduction](Introduction_Catchment_Delineation.ipynb) | [Contents](ContentsCatchmentDelineation.ipynb) | [Reproject and Subset](reprojectAndSubset.ipynb) >"
   ]
  }
 ],
 "metadata": {
  "kernelspec": {
   "display_name": "Python 3",
   "language": "python",
   "name": "python3"
  },
  "language_info": {
   "codemirror_mode": {
    "name": "ipython",
    "version": 3
   },
   "file_extension": ".py",
   "mimetype": "text/x-python",
   "name": "python",
   "nbconvert_exporter": "python",
   "pygments_lexer": "ipython3",
   "version": "3.7.9"
  }
 },
 "nbformat": 4,
 "nbformat_minor": 4
}
