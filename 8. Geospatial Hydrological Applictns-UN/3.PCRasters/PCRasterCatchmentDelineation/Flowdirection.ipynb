{
 "cells": [
  {
   "cell_type": "markdown",
   "metadata": {},
   "source": [
    "<!--NAVIGATION-->\n",
    "< [Convert to PCRaster Format](ConvertToPcraster.ipynb) | [Contents](ContentsCatchmentDelineation.ipynb) | [Delineate streams](Streams.ipynb) >"
   ]
  },
  {
   "cell_type": "markdown",
   "metadata": {},
   "source": [
    "# 5. Calculate the flow direction\n",
    "In the stream and catchment delineation procedure we need to first remove the pits in the DEM. Pits are pixels surrounded by only higher pixels. A catchment can have only one pit, the outlet, so the other pits have to be removed by a procedure called \"fill sinks\".\n",
    "In PCRaster the <code>lddcreate</code> operation will both fill the DEM and derive the flow direction. The <code>lddcreate</code> operation needs the DEM as input and has 4 arguments to control thresholds for the filling algorithm. Details can be found in the [PCRaster documention](https://pcraster.geo.uu.nl/pcraster/4.3.0/documentation/pcraster_manual/sphinx/op_lddcreate.html).\n",
    "\n",
    "Here we want to remove all pits, so we set the thresholds to a very high number, 1e31.\n",
    "\n",
    "Be patient when you run the code below, it will take time."
   ]
  },
  {
   "cell_type": "code",
   "execution_count": null,
   "metadata": {},
   "outputs": [],
   "source": [
    "import os\n",
    "from pcraster import *\n",
    "os.chdir('./Data/')\n",
    "\n",
    "DEM = readmap('dem.map')\n",
    "FlowDirection = lddcreate(DEM,1e31,1e31,1e31,1e31)\n",
    "report(FlowDirection,'flowdir.map')\n",
    "aguila(FlowDirection)"
   ]
  },
  {
   "cell_type": "markdown",
   "metadata": {},
   "source": [
    "Check the result by zooming in. The flow direction map has the data type ldd. Aguila recognises that and visualises the flow direction more intuitively by connected lines. Each catchment has a pit, indicated by a square.\n",
    "\n",
    "*What is the general direction of the flow?*\n",
    "\n",
    "*Why do we have so many pits at the sides of the map?*"
   ]
  },
  {
   "cell_type": "markdown",
   "metadata": {},
   "source": [
    "Although we can proceed with the flow direction map, you might want to create a DEM that is filled. You can use the <code>lddcreatedem</code> operation for that, which has the same arguments as <code>lddcreate</code> but results in a hydrologically corrected DEM."
   ]
  },
  {
   "cell_type": "code",
   "execution_count": null,
   "metadata": {},
   "outputs": [],
   "source": [
    "DEMFilled = lddcreatedem(DEM,1e31,1e31,1e31,1e31)"
   ]
  },
  {
   "cell_type": "markdown",
   "metadata": {},
   "source": [
    "In the field below visualise the result and calculate the difference between <code>DEM</code> and <code>DEMFilled</code> using map algebra."
   ]
  },
  {
   "cell_type": "code",
   "execution_count": null,
   "metadata": {},
   "outputs": [],
   "source": []
  },
  {
   "cell_type": "markdown",
   "metadata": {},
   "source": [
    "In the next step we're going to delineate the streams."
   ]
  },
  {
   "cell_type": "markdown",
   "metadata": {},
   "source": [
    "<!--NAVIGATION-->\n",
    "< [Convert to PCRaster Format](ConvertToPcraster.ipynb) | [Contents](ContentsCatchmentDelineation.ipynb) | [Delineate streams](Streams.ipynb) >"
   ]
  }
 ],
 "metadata": {
  "kernelspec": {
   "display_name": "Python 3",
   "language": "python",
   "name": "python3"
  },
  "language_info": {
   "codemirror_mode": {
    "name": "ipython",
    "version": 3
   },
   "file_extension": ".py",
   "mimetype": "text/x-python",
   "name": "python",
   "nbconvert_exporter": "python",
   "pygments_lexer": "ipython3",
   "version": "3.7.9"
  }
 },
 "nbformat": 4,
 "nbformat_minor": 4
}
