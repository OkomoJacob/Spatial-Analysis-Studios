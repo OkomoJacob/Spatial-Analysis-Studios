{
 "cells": [
  {
   "cell_type": "markdown",
   "metadata": {},
   "source": [
    "<!--NAVIGATION-->\n",
    "< [Condition 1](Condition_1.ipynb) | [Contents](Contents.ipynb) | [Condition 3](Condition_3.ipynb) >"
   ]
  },
  {
   "cell_type": "markdown",
   "metadata": {},
   "source": [
    "# 4. Condition 2: No Industry, Mine, or Landfill within 300 Meters from Wells\n",
    "## 4.1 Introduction\n",
    "For the second condition we first need to reclassify the `buildg` layer in such a way that the result is a Boolean map with True (1) for industry, mine, and landfill and False (0) for the other classes. Then we need to calculate the distance to the True pixels and finally calculate the pixels that are further than 300 m from industry, mine, and landfill.\n",
    "\n",
    "## 4.2 Create a Boolean Raster with True for Industry, Mine, and Landfill, and False for Other Buildings\n",
    "\n",
    "Let's first reclassify `buildg.map`. For reclassifications we use so called *Lookup tables*.\n",
    "These lookup tables can be used by PCRaster witht the [`lookup...` operations](https://pcraster.geo.uu.nl/pcraster/4.3.0/documentation/pcraster_manual/sphinx/op_lookup.html). For these operations you need to know the data type of the output and use one of these operations:\n",
    "\n",
    "| output data type | operation |\n",
    "|:-------:|:-------:|\n",
    "| boolean | `lookupboolean` |\n",
    "| nominal | `lookupnominal` |\n",
    "| ordinal | `lookupordinal` |\n",
    "| scalar | `lookupscalar` |\n",
    "| directional | `lookupdirectional` |\n",
    "| ldd | `lookupldd` |\n",
    "\n",
    "The general syntax is:\n",
    "`Result = lookup<datatype>(lookuptable,input map)`\n",
    "\n",
    "In our case we need to reclassify `buildg.map` to a boolean result, so the operation is `lookupboolean`.\n",
    "\n",
    "In this case the table should be a text file with the following contents:\n",
    "\n",
    "`0 0\n",
    " 1 0\n",
    " 2 0\n",
    " 3 1\n",
    " 4 1\n",
    " 5 1`\n",
    "\n",
    "You can prepare this text file in notepad or another plain text editor. You can give it any extension, but here we'll use `.tbl` so it's clear that it's a table. Here we'll use the one provided in the `data` folder: `industry.tbl`.\n",
    "\n",
    "We can also reclassify ranges of values and use multiple input maps. We will look at that later.\n",
    "\n",
    "Now we can use the `lookupboolean` operation.\n",
    "\n",
    "Every new Jupyter notebook page we need to import the necessary libraries first. Here we import PCRaster.\n"
   ]
  },
  {
   "cell_type": "code",
   "execution_count": null,
   "metadata": {},
   "outputs": [],
   "source": [
    "from pcraster import *"
   ]
  },
  {
   "cell_type": "markdown",
   "metadata": {},
   "source": [
    "Now we set the data folder."
   ]
  },
  {
   "cell_type": "code",
   "execution_count": null,
   "metadata": {},
   "outputs": [],
   "source": [
    "os.chdir(\"./data\")"
   ]
  },
  {
   "cell_type": "markdown",
   "metadata": {},
   "source": [
    "Now we need to read `buildg.map` from disk. In each Jupyter notebook page we need to define the variables again."
   ]
  },
  {
   "cell_type": "code",
   "execution_count": null,
   "metadata": {},
   "outputs": [],
   "source": [
    "Buildings = readmap(\"buildg.map\")"
   ]
  },
  {
   "cell_type": "markdown",
   "metadata": {},
   "source": [
    "Now let's apply the lookup table."
   ]
  },
  {
   "cell_type": "code",
   "execution_count": null,
   "metadata": {},
   "outputs": [],
   "source": [
    "Industry = lookupboolean(\"industry.tbl\", Buildings)"
   ]
  },
  {
   "cell_type": "markdown",
   "metadata": {},
   "source": [
    "Visualise the result."
   ]
  },
  {
   "cell_type": "code",
   "execution_count": null,
   "metadata": {},
   "outputs": [],
   "source": []
  },
  {
   "cell_type": "markdown",
   "metadata": {},
   "source": [
    "## 4.3 Create Zones of 300 Meters Around Industry, Mine, and Landfill\n",
    "Now we have the industry pixels we can create a boolean map with True for pixels that are at least 300 m from industry and False for pixels that are closer than 300 m from industry.\n",
    "\n",
    "Previously we used the `spreadmaxzone` operation. There is, however, no `spreadminzone` operation.\n",
    "There are different ways to solve this:\n",
    "1. We can use `spreadmaxzone` and invert the result by using the NOT operator `~`.\n",
    "2. We can calculate all distances with the `spread` operation and use the `>=` operator to create the required boolean map.\n",
    "3. We can use a lookup table reclassifying the ranges.\n",
    "\n",
    "Method 1 is the fastest. Let's try that first."
   ]
  },
  {
   "cell_type": "code",
   "execution_count": null,
   "metadata": {},
   "outputs": [],
   "source": [
    "IndustryMax300m = spreadmaxzone(Industry, 0, 1, 300)\n",
    "IndustryMin300m = ~ IndustryMax300m"
   ]
  },
  {
   "cell_type": "markdown",
   "metadata": {},
   "source": [
    "Visualise the result."
   ]
  },
  {
   "cell_type": "code",
   "execution_count": null,
   "metadata": {},
   "outputs": [],
   "source": []
  },
  {
   "cell_type": "markdown",
   "metadata": {},
   "source": [
    "Let's look also at the other methods and see if they give the same result.\n",
    "\n",
    "Calculate the distances to Industry:"
   ]
  },
  {
   "cell_type": "code",
   "execution_count": null,
   "metadata": {},
   "outputs": [],
   "source": [
    "IndustryDistance = spread(Industry,0,1)"
   ]
  },
  {
   "cell_type": "markdown",
   "metadata": {},
   "source": [
    "Create the boolean condition:"
   ]
  },
  {
   "cell_type": "code",
   "execution_count": null,
   "metadata": {},
   "outputs": [],
   "source": [
    "IndustryMin300m_2 = IndustryDistance >= 300"
   ]
  },
  {
   "cell_type": "markdown",
   "metadata": {},
   "source": [
    "Visualise the result."
   ]
  },
  {
   "cell_type": "code",
   "execution_count": null,
   "metadata": {},
   "outputs": [],
   "source": []
  },
  {
   "cell_type": "markdown",
   "metadata": {},
   "source": [
    "For the third method we're going to use a lookup table with ranges. In the text file the first column containst the ranges and the second column the output values. `[` and `]` are used to include the value in the range and `<` and `>` are used to exclude the value in the range.\n",
    "\n",
    "So here our text file looks like:\n",
    "\n",
    "`<,300> 0\n",
    "[300,> 1`\n",
    "\n",
    "Where the first row means: all values < 300 get boolean zero. The second row means all values >= 300 get boolean 1.\n",
    "\n",
    "We're going to reclassify `IndustryDistance` using the lookup table `industry300m.tbl` which is in the `data` folder. Write the code below and write the result to `IndustryMin300m_3`:"
   ]
  },
  {
   "cell_type": "code",
   "execution_count": null,
   "metadata": {},
   "outputs": [],
   "source": []
  },
  {
   "cell_type": "markdown",
   "metadata": {},
   "source": [
    "Visualise the result."
   ]
  },
  {
   "cell_type": "code",
   "execution_count": null,
   "metadata": {},
   "outputs": [],
   "source": []
  },
  {
   "cell_type": "markdown",
   "metadata": {},
   "source": [
    "You can see that the results are the same.\n",
    "In GIS you often get to the same result in different ways. You need to find the most efficient route to the desired result."
   ]
  },
  {
   "cell_type": "markdown",
   "metadata": {},
   "source": [
    "Save the result as `ind300m.map`."
   ]
  },
  {
   "cell_type": "code",
   "execution_count": null,
   "metadata": {},
   "outputs": [],
   "source": []
  },
  {
   "cell_type": "markdown",
   "metadata": {},
   "source": [
    "<!--NAVIGATION-->\n",
    "< [Condition 1](Condition_1.ipynb) | [Contents](Contents.ipynb) | [Condition 3](Condition_3.ipynb) >"
   ]
  }
 ],
 "metadata": {
  "kernelspec": {
   "display_name": "Python 3",
   "language": "python",
   "name": "python3"
  },
  "language_info": {
   "codemirror_mode": {
    "name": "ipython",
    "version": 3
   },
   "file_extension": ".py",
   "mimetype": "text/x-python",
   "name": "python",
   "nbconvert_exporter": "python",
   "pygments_lexer": "ipython3",
   "version": "3.7.9"
  }
 },
 "nbformat": 4,
 "nbformat_minor": 4
}
