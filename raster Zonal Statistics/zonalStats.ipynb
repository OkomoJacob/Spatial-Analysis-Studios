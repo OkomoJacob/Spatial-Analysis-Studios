{
 "cells": [
  {
   "cell_type": "markdown",
   "id": "impressed-fifteen",
   "metadata": {},
   "source": [
    "## Calculating Zonal Statistics of Raster Using Python 3"
   ]
  },
  {
   "cell_type": "code",
   "execution_count": 1,
   "id": "baking-salmon",
   "metadata": {},
   "outputs": [],
   "source": [
    "from matplotlib import pyplot as plt\n",
    "from rasterio.plot import show_hist\n",
    "from rasterio.plot import show #To plot raster alone\n",
    "import geopandas as gpd\n",
    "import pandas as pd\n",
    "import rasterstats\n",
    "import rasterio"
   ]
  },
  {
   "cell_type": "markdown",
   "id": "defined-elements",
   "metadata": {},
   "source": [
    "## Read the Districts shapefile and Rainfall Tifs from Local Disks"
   ]
  },
  {
   "cell_type": "code",
   "execution_count": 2,
   "id": "combined-translation",
   "metadata": {},
   "outputs": [
    {
     "data": {
      "image/png": "[encoded data removed]",
      "text/plain": [
       "<Figure size 432x288 with 1 Axes>"
      ]
     },
     "metadata": {
      "needs_background": "light"
     },
     "output_type": "display_data"
    },
    {
     "data": {
      "text/plain": [
       "<AxesSubplot:>"
      ]
     },
     "execution_count": 2,
     "metadata": {},
     "output_type": "execute_result"
    }
   ],
   "source": [
    "# Read the districts shapefile \n",
    "districts = gpd.read_file(r'./Districts/districts.shp')\n",
    "\n",
    "# Read the rainfall raster of 2020-04-15\n",
    "rf = rasterio.open(r'./Rainfall Data Rasters/2020-4-15.tif', mode = 'r')\n",
    "rainFall = rasterio.open('Rainfall Data Rasters/2020-4-3.tif', mode='r')\n",
    "show(rainFall) #This is to plot and show a single Raster as opened above"
   ]
  },
  {
   "cell_type": "markdown",
   "id": "physical-singer",
   "metadata": {},
   "source": [
    "## Plotting the raster and the districts shapefile together "
   ]
  },
  {
   "cell_type": "code",
   "execution_count": 3,
   "id": "supreme-gateway",
   "metadata": {},
   "outputs": [],
   "source": [
    "\"\"\"\n",
    "Creates a plotting axis and then plots on them\n",
    "Facecolor(Fill color) = 'None' when ploting .shps to only display bounds\n",
    "set edge color to sth distinct e.g 'Yellow'\n",
    "\"\"\"\n",
    "def makePlot():\n",
    "    fig, (ax1, ax2) = plt.subplots(1,2, figsize = (20,8))\n",
    "    show(rf, ax = ax1, title = 'Rainfall')\n",
    "    districts.plot(ax = ax1, facecolor = 'None', edgecolor = 'yellow')\n",
    "    show_hist(rf, title = 'Histogram', ax = ax2)\n",
    "    plt.show()"
   ]
  },
  {
   "cell_type": "code",
   "execution_count": null,
   "id": "adopted-survival",
   "metadata": {},
   "outputs": [],
   "source": []
  }
 ],
 "metadata": {
  "kernelspec": {
   "display_name": "Python 3",
   "language": "python",
   "name": "python3"
  },
  "language_info": {
   "codemirror_mode": {
    "name": "ipython",
    "version": 3
   },
   "file_extension": ".py",
   "mimetype": "text/x-python",
   "name": "python",
   "nbconvert_exporter": "python",
   "pygments_lexer": "ipython3",
   "version": "3.8.5"
  }
 },
 "nbformat": 4,
 "nbformat_minor": 5
}
