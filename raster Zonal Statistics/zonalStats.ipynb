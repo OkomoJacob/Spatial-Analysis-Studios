{
 "cells": [
  {
   "cell_type": "markdown",
   "id": "several-sister",
   "metadata": {},
   "source": [
    "## Calculating Zonal Statistics of Raster Using Python 3"
   ]
  },
  {
   "cell_type": "code",
   "execution_count": 1,
   "id": "improved-teacher",
   "metadata": {},
   "outputs": [],
   "source": [
    "from matplotlib import pyplot as plt\n",
    "from rasterio.plot import show_hist\n",
    "from rasterio.plot import show #To plot raster alone\n",
    "import geopandas as gpd\n",
    "import pandas as pd\n",
    "import rasterstats\n",
    "import rasterio"
   ]
  },
  {
   "cell_type": "markdown",
   "id": "little-latex",
   "metadata": {},
   "source": [
    "## Read the Districts shapefile and "
   ]
  },
  {
   "cell_type": "code",
   "execution_count": null,
   "id": "copyrighted-alliance",
   "metadata": {},
   "outputs": [],
   "source": [
    "# Read the districts shapefile \n",
    "districts = gpd.read_file(r'./Districts/districts.shp')\n",
    "\n",
    "# Read the rainfall raster of 2020-04-15\n",
    "rf = rasterio.open(r'./Rainfall Data Rasters/2020-4-15.tif', mode = 'r')\n",
    "rainFall = rasterio.open('Rainfall Data Rasters/2020-4-3.tif', mode='r')\n",
    "show(rainFall) #This is to plot and show a single Raster as opened above"
   ]
  }
 ],
 "metadata": {
  "kernelspec": {
   "display_name": "Python 3",
   "language": "python",
   "name": "python3"
  },
  "language_info": {
   "codemirror_mode": {
    "name": "ipython",
    "version": 3
   },
   "file_extension": ".py",
   "mimetype": "text/x-python",
   "name": "python",
   "nbconvert_exporter": "python",
   "pygments_lexer": "ipython3",
   "version": "3.8.5"
  }
 },
 "nbformat": 4,
 "nbformat_minor": 5
}
