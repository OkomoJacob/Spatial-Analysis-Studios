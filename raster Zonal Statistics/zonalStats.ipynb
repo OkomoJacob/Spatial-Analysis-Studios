{
 "cells": [
  {
   "cell_type": "code",
   "execution_count": 1,
   "id": "center-closer",
   "metadata": {},
   "outputs": [],
   "source": [
    "from matplotlib import pyplot as plt\n",
    "from rasterio.plot import show_hist\n",
    "from rasterio.plot import show #To plot raster alone\n",
    "import geopandas as gpd\n",
    "import pandas as pd\n",
    "import rasterstats\n",
    "import rasterio"
   ]
  },
  {
   "cell_type": "code",
   "execution_count": null,
   "id": "incorporate-dynamics",
   "metadata": {},
   "outputs": [],
   "source": []
  }
 ],
 "metadata": {
  "kernelspec": {
   "display_name": "Python 3",
   "language": "python",
   "name": "python3"
  },
  "language_info": {
   "codemirror_mode": {
    "name": "ipython",
    "version": 3
   },
   "file_extension": ".py",
   "mimetype": "text/x-python",
   "name": "python",
   "nbconvert_exporter": "python",
   "pygments_lexer": "ipython3",
   "version": "3.8.5"
  }
 },
 "nbformat": 4,
 "nbformat_minor": 5
}
