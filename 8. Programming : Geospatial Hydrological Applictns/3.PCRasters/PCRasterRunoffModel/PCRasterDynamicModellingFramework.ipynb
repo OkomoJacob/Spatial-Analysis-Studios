{
 "cells": [
  {
   "cell_type": "markdown",
   "metadata": {},
   "source": [
    "< [Introduction](Introduction.ipynb) | [Contents](Contents.ipynb) | [Prepare the initial section of the model](STREAM_Initial.ipynb) >"
   ]
  },
  {
   "cell_type": "markdown",
   "metadata": {},
   "source": [
    "# 2. The PCRaster Dynamic Modelling Framework\n",
    "In the previous tutorials you've worked with the PCRaster library for map algebra. PCRaster's real power, however, is the dynamic modelling framework. In this section you'll learn more about the dynamic modelling framework. In the next secions we're going to build the STREAM model to simulate runoff in the Upper Mara River Basin, Kenya."
   ]
  },
  {
   "cell_type": "markdown",
   "metadata": {},
   "source": [
    "The PCRaster Dynamic Modelling Framework can be used with the following template:\n",
    "```Python\n",
    "from pcraster import *\n",
    "from pcraster.framework import *\n",
    "\n",
    "class RunoffModel(DynamicModel):\n",
    "  def __init__(self, cloneMap):\n",
    "    DynamicModel.__init__(self)\n",
    "    setclone(cloneMap)\n",
    "\n",
    "  def initial(self):\n",
    "      # Here you write the code that has to be run only once.\n",
    "  \n",
    "  def dynamic(self):\n",
    "      # Here you write the code that needs to be executed every time step.\n",
    "  \n",
    "myModel = RunoffModel(\"mask.map\")\n",
    "dynModelFw = DynamicFramework(myModel, lastTimeStep=100, firstTimestep=1)\n",
    "dynModelFw.run()\n",
    "```\n"
   ]
  },
  {
   "cell_type": "markdown",
   "metadata": {},
   "source": [
    "When you make your own model you need to change the following in this template:\n",
    "1. Define the clone map. In this case it's called `mask.map`. All raster maps need to have the same properties as the clone map (i.e. same number of rows and collumns, coordinate system, extent, pixels size). PCRaster checks this when the code is run.\n",
    "2. Define the time steps. Here `lastTimeStep=100` and `firstTimestep=1` means that the model runs 100 time steps starting at time step 1.\n",
    "3. Under `def initial(self)` you write code that needs to be run only once, i.e. for model initialisation.\n",
    "4. Under `def dynamic(self)` you write code that needs to be executed every time step., i.e. the iterations.\n",
    "\n",
    "Let's have a look at how this works by running the code below.\n"
   ]
  },
  {
   "cell_type": "code",
   "execution_count": null,
   "metadata": {},
   "outputs": [],
   "source": [
    "from pcraster import *\n",
    "from pcraster.framework import *\n",
    "\n",
    "class RunoffModel(DynamicModel):\n",
    "    def __init__(self, cloneMap):\n",
    "        DynamicModel.__init__(self)\n",
    "        setclone(cloneMap)\n",
    "    \n",
    "    def initial(self):\n",
    "        pass\n",
    "        \n",
    "        \n",
    "        \n",
    "    \n",
    "    def dynamic(self):\n",
    "        pass\n",
    "        \n",
    "        \n",
    "\n",
    "  \n",
    "myModel = RunoffModel(\"./Data/mask.map\")\n",
    "dynModelFw = DynamicFramework(myModel, lastTimeStep=10, firstTimestep=1)\n",
    "dynModelFw.run()"
   ]
  },
  {
   "cell_type": "markdown",
   "metadata": {},
   "source": [
    "Note that for each iteration in the `dynamic` section it prints a `.`."
   ]
  },
  {
   "cell_type": "markdown",
   "metadata": {},
   "source": [
    "If we want to use variables and constants, we can do that in different ways.\n",
    "Have a look at the script below and run it."
   ]
  },
  {
   "cell_type": "code",
   "execution_count": null,
   "metadata": {},
   "outputs": [],
   "source": [
    "from pcraster import *\n",
    "from pcraster.framework import *\n",
    "\n",
    "class RunoffModel(DynamicModel):\n",
    "    def __init__(self, cloneMap):\n",
    "        DynamicModel.__init__(self)\n",
    "        setclone(cloneMap)\n",
    "    \n",
    "    def initial(self):\n",
    "        a = 0\n",
    "        b = a + 1\n",
    "        print(b)\n",
    "    \n",
    "    def dynamic(self):\n",
    "        c = 1\n",
    "        d = c + 1\n",
    "        print(d)\n",
    "        \n",
    "myModel = RunoffModel(\"./Data/mask.map\")\n",
    "dynModelFw = DynamicFramework(myModel, lastTimeStep=10, firstTimestep=1)\n",
    "dynModelFw.run()"
   ]
  },
  {
   "cell_type": "markdown",
   "metadata": {},
   "source": [
    "These are called *local variables*. They can only be used in the function where they are defined, but not outside. Check what happens if we run the code below."
   ]
  },
  {
   "cell_type": "code",
   "execution_count": null,
   "metadata": {},
   "outputs": [],
   "source": [
    "from pcraster import *\n",
    "from pcraster.framework import *\n",
    "\n",
    "class RunoffModel(DynamicModel):\n",
    "    def __init__(self, cloneMap):\n",
    "        DynamicModel.__init__(self)\n",
    "        setclone(cloneMap)\n",
    "    \n",
    "    def initial(self):\n",
    "        a = 0\n",
    "    \n",
    "    def dynamic(self):\n",
    "        b = a + 1\n",
    "        print(b)\n",
    "        \n",
    "myModel = RunoffModel(\"./Data/mask.map\")\n",
    "dynModelFw = DynamicFramework(myModel, lastTimeStep=10, firstTimestep=1)\n",
    "dynModelFw.run()"
   ]
  },
  {
   "cell_type": "markdown",
   "metadata": {},
   "source": [
    "`NameError: name 'a' is not defined` means that in line 13 Python doesn't know variable `a` yet. If we want to use variable `a` in the `dynamic` section, we need to make it a *global variable*. We do this by adding `self.` before the variable. Check the modified script below and run it."
   ]
  },
  {
   "cell_type": "code",
   "execution_count": null,
   "metadata": {},
   "outputs": [],
   "source": [
    "from pcraster import *\n",
    "from pcraster.framework import *\n",
    "\n",
    "class RunoffModel(DynamicModel):\n",
    "    def __init__(self, cloneMap):\n",
    "        DynamicModel.__init__(self)\n",
    "        setclone(cloneMap)\n",
    "    \n",
    "    def initial(self):\n",
    "        self.a = 0\n",
    "    \n",
    "    def dynamic(self):\n",
    "        b = self.a + 1\n",
    "        print(b)\n",
    "        \n",
    "myModel = RunoffModel(\"./Data/mask.map\")\n",
    "dynModelFw = DynamicFramework(myModel, lastTimeStep=10, firstTimestep=1)\n",
    "dynModelFw.run()"
   ]
  },
  {
   "cell_type": "markdown",
   "metadata": {},
   "source": [
    "Now we can easily increase variable `b` each time step. Check the following code and run it."
   ]
  },
  {
   "cell_type": "code",
   "execution_count": null,
   "metadata": {},
   "outputs": [],
   "source": [
    "from pcraster import *\n",
    "from pcraster.framework import *\n",
    "\n",
    "class RunoffModel(DynamicModel):\n",
    "    def __init__(self, cloneMap):\n",
    "        DynamicModel.__init__(self)\n",
    "        setclone(cloneMap)\n",
    "    \n",
    "    def initial(self):\n",
    "        self.a = 0\n",
    "    \n",
    "    def dynamic(self):\n",
    "        b = self.a + 1\n",
    "        self.a = b\n",
    "        print(self.a)\n",
    "        \n",
    "myModel = RunoffModel(\"./Data/mask.map\")\n",
    "dynModelFw = DynamicFramework(myModel, lastTimeStep=10, firstTimestep=1)\n",
    "dynModelFw.run()"
   ]
  },
  {
   "cell_type": "markdown",
   "metadata": {},
   "source": [
    "In the map algebra tutorial you've learned that with `readmap` you can read PCRaster maps from disk and with `report` you can write PCRaster maps to disk. In the dynamic modelling framework this is still the case, but the format it reads and write depends on where you use `readmap` and `report`.\n",
    "\n",
    "In the `initial` section we can read land-use map and soil map from disk using the code below. You can run it to see if it works."
   ]
  },
  {
   "cell_type": "code",
   "execution_count": null,
   "metadata": {},
   "outputs": [],
   "source": [
    "from pcraster import *\n",
    "from pcraster.framework import *\n",
    "\n",
    "class RunoffModel(DynamicModel):\n",
    "    def __init__(self, cloneMap):\n",
    "        DynamicModel.__init__(self)\n",
    "        setclone(cloneMap)\n",
    "    \n",
    "    def initial(self):\n",
    "        self.landuse = self.readmap(\"./Data/landuse\")\n",
    "        self.soil = self.readmap(\"./Data/soil\")\n",
    "    \n",
    "    def dynamic(self):\n",
    "        pass\n",
    "        \n",
    "myModel = RunoffModel(\"./Data/mask.map\")\n",
    "dynModelFw = DynamicFramework(myModel, lastTimeStep=10, firstTimestep=1)\n",
    "dynModelFw.run()"
   ]
  },
  {
   "cell_type": "markdown",
   "metadata": {},
   "source": [
    "Although we didn't give the file extension, the script runs without errors. That is because the framework understands that if you use `self.readmap` in the `initial` section it will always be a static map with the `.map` file extension.\n",
    "\n",
    "It will also understand that if you use `self.readmap` in the `dynamic` section that it needs to look for PCRaster dynamic map stacks. These time series of maps have a naming convention: at least one alphabetic character followed by zeros until the total number of characters before the dot is eight. After the dot (the file extention part of the file name) it will have 001 for the first time step, 002 for the second, etc.\n",
    "\n",
    "In the `Data` folder you can find a PCRaster dynamic map stack for precipitation (mm/10 days). These are the following files for the 10 time steps of our model:\n",
    "```\n",
    "pr000000.001\n",
    "pr000000.002\n",
    "pr000000.003\n",
    "pr000000.004\n",
    "pr000000.005\n",
    "pr000000.006\n",
    "pr000000.007\n",
    "pr000000.008\n",
    "pr000000.009\n",
    "pr000000.010\n",
    "```\n",
    "\n",
    "Let's read them in the `dynamic` section and see if the script runs."
   ]
  },
  {
   "cell_type": "code",
   "execution_count": null,
   "metadata": {},
   "outputs": [],
   "source": [
    "from pcraster import *\n",
    "from pcraster.framework import *\n",
    "\n",
    "class RunoffModel(DynamicModel):\n",
    "    def __init__(self, cloneMap):\n",
    "        DynamicModel.__init__(self)\n",
    "        setclone(cloneMap)\n",
    "    \n",
    "    def initial(self):\n",
    "        landuse = self.readmap(\"./Data/landuse\")\n",
    "        soil = self.readmap(\"./Data/soil\")\n",
    "    \n",
    "    def dynamic(self):\n",
    "        Precipitation = self.readmap(\"./Data/pr\") \n",
    "        \n",
    "myModel = RunoffModel(\"./Data/mask.map\")\n",
    "dynModelFw = DynamicFramework(myModel, lastTimeStep=10, firstTimestep=1)\n",
    "dynModelFw.run()"
   ]
  },
  {
   "cell_type": "markdown",
   "metadata": {},
   "source": [
    "The script runs without errors and both the static and dynamic maps have been read and we can use them in the script.\n",
    "\n",
    "Let's use a lookup table to create a map with the interception threshold from the land-use map. We'll use the land-use map from [FAO WaPOR](https://wapor.apps.fao.org/). In the `Data` folder you can find `d.tbl` which has the interception threshold for different land-use types.\n",
    "\n",
    "| Cell value | Land use | Interception threshold (mm)\n",
    "| ---------- | -------- | ---------------------------\n",
    "| 1 | Forest | 60\n",
    "| 2 | Bushland dense | 50\n",
    "| 3 | Woodland | 40\n",
    "| 4 | Bushland sparse | 40\n",
    "| 5 | Grassland | 10\n",
    "| 11 | Dense agriculture | 25\n",
    "| 12 | Sparse agriculture | 20\n",
    "| 13 | Plantation | 15\n",
    "\n",
    "\n",
    "We also write the result to disk using `self.report`."
   ]
  },
  {
   "cell_type": "code",
   "execution_count": null,
   "metadata": {},
   "outputs": [],
   "source": [
    "from pcraster import *\n",
    "from pcraster.framework import *\n",
    "\n",
    "class RunoffModel(DynamicModel):\n",
    "    def __init__(self, cloneMap):\n",
    "        DynamicModel.__init__(self)\n",
    "        setclone(cloneMap)\n",
    "    \n",
    "    def initial(self):\n",
    "        landuse = self.readmap(\"./Data/landuse\")\n",
    "        soil = self.readmap(\"./Data/soil\")\n",
    "        self.InterceptionThreshold = lookupscalar(\"./Data/d.tbl\",landuse)\n",
    "        self.report(self.InterceptionThreshold,\"./Data/d\")\n",
    "    \n",
    "    def dynamic(self):\n",
    "        Precipitation = self.readmap(\"./Data/pr\") \n",
    "        \n",
    "myModel = RunoffModel(\"./Data/mask.map\")\n",
    "dynModelFw = DynamicFramework(myModel, lastTimeStep=10, firstTimestep=1)\n",
    "dynModelFw.run()"
   ]
  },
  {
   "cell_type": "markdown",
   "metadata": {},
   "source": [
    "Visualise the land-use map and map with the interception threshold."
   ]
  },
  {
   "cell_type": "code",
   "execution_count": null,
   "metadata": {},
   "outputs": [],
   "source": [
    "aguila(\"./Data/landuse.map\",\"./Data/d.map\")"
   ]
  },
  {
   "cell_type": "markdown",
   "metadata": {},
   "source": [
    "Now we're a bit more familiar with the PCRaster Dynamic Modelling Framework we can start further developing the `initial` section of the model."
   ]
  },
  {
   "cell_type": "markdown",
   "metadata": {},
   "source": [
    "< [Introduction](Introduction.ipynb) | [Contents](Contents.ipynb) | [Prepare the initial section of the model](STREAM_Initial.ipynb) >"
   ]
  }
 ],
 "metadata": {
  "kernelspec": {
   "display_name": "Python 3",
   "language": "python",
   "name": "python3"
  },
  "language_info": {
   "codemirror_mode": {
    "name": "ipython",
    "version": 3
   },
   "file_extension": ".py",
   "mimetype": "text/x-python",
   "name": "python",
   "nbconvert_exporter": "python",
   "pygments_lexer": "ipython3",
   "version": "3.7.10"
  }
 },
 "nbformat": 4,
 "nbformat_minor": 4
}
