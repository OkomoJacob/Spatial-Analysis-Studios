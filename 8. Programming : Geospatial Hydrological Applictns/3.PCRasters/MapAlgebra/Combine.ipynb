{
 "cells": [
  {
   "cell_type": "markdown",
   "metadata": {},
   "source": [
    "<!--NAVIGATION-->\n",
    "< [Condition 3](Condition_3.ipynb) | [Contents](Contents.ipynb) | [What is the advantage of scripting map algebra?](Conclusion_map_algebra.ipynb) >"
   ]
  },
  {
   "cell_type": "markdown",
   "metadata": {},
   "source": [
    "# 6. Combine the Three Conditions\n",
    "After calculating the Boolean maps for the three conditions we need to combine them to come to the final result.\n",
    "\n",
    "Let's first import the PCRaster library and change to the `data` folder."
   ]
  },
  {
   "cell_type": "code",
   "execution_count": null,
   "metadata": {},
   "outputs": [],
   "source": [
    "from pcraster import *\n",
    "os.chdir(\"./data\")"
   ]
  },
  {
   "cell_type": "markdown",
   "metadata": {},
   "source": [
    "Read the boolean results of the three conditions from disk."
   ]
  },
  {
   "cell_type": "code",
   "execution_count": null,
   "metadata": {},
   "outputs": [],
   "source": [
    "Houses150m = readmap(\"houses150m.map\")\n",
    "Roads150m = readmap(\"roads150m.map\")\n",
    "Industry300m = readmap(\"ind300m.map\")\n",
    "NotDeep = readmap(\"notdeep.map\")"
   ]
  },
  {
   "cell_type": "markdown",
   "metadata": {},
   "source": [
    "Visualise all four boolean maps."
   ]
  },
  {
   "cell_type": "code",
   "execution_count": null,
   "metadata": {},
   "outputs": [],
   "source": []
  },
  {
   "cell_type": "markdown",
   "metadata": {},
   "source": [
    "The result should be a boolean map where accessible wells are located at cells where all conditions are True. Other cells should be False. Which boolean operator should we use?\n",
    "\n",
    "A. OR\n",
    "\n",
    "B. NOT\n",
    "\n",
    "C. AND\n",
    "\n",
    "D. XOR\n",
    "\n",
    "Type the code in the field below. Use the correct [operator](https://pcraster.geo.uu.nl/pcraster/4.3.0/documentation/python/quickstart.html#operators). Write the results to variable `AccessibleWells`."
   ]
  },
  {
   "cell_type": "code",
   "execution_count": null,
   "metadata": {},
   "outputs": [],
   "source": []
  },
  {
   "cell_type": "markdown",
   "metadata": {},
   "source": [
    "Visualise the result and save it disk as `accessiblewells.map`."
   ]
  },
  {
   "cell_type": "code",
   "execution_count": null,
   "metadata": {},
   "outputs": [],
   "source": []
  },
  {
   "cell_type": "code",
   "execution_count": null,
   "metadata": {},
   "outputs": [],
   "source": []
  },
  {
   "cell_type": "markdown",
   "metadata": {},
   "source": [
    "Now you can open the result map in e.g. QGIS to style it further. Because the PCRaster format is supported by GDAL you can open it in QGIS as any other raster layer."
   ]
  },
  {
   "cell_type": "markdown",
   "metadata": {},
   "source": [
    "<!--NAVIGATION-->\n",
    "< [Condition 3](Condition_3.ipynb) | [Contents](Contents.ipynb) | [What is the advantage of scripting map algebra?](Conclusion_map_algebra.ipynb) >"
   ]
  }
 ],
 "metadata": {
  "kernelspec": {
   "display_name": "Python 3",
   "language": "python",
   "name": "python3"
  },
  "language_info": {
   "codemirror_mode": {
    "name": "ipython",
    "version": 3
   },
   "file_extension": ".py",
   "mimetype": "text/x-python",
   "name": "python",
   "nbconvert_exporter": "python",
   "pygments_lexer": "ipython3",
   "version": "3.7.9"
  }
 },
 "nbformat": 4,
 "nbformat_minor": 4
}
