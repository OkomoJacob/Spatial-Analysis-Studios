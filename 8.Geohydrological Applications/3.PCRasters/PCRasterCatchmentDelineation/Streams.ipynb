{
 "cells": [
  {
   "cell_type": "markdown",
   "metadata": {},
   "source": [
    "<!--NAVIGATION-->\n",
    "< [Calculate Flow Direction](Flowdirection.ipynb) | [Contents](ContentsCatchmentDelineation.ipynb) | [Catchment Delineation](CatchmentDelineation.ipynb) >"
   ]
  },
  {
   "cell_type": "markdown",
   "metadata": {},
   "source": [
    "# 6. Delineate streams\n",
    "In this step we're going to delineate the streams. There are two methods that we're going to apply:\n",
    "* Using Strahler orders\n",
    "* Using flow accumulation\n",
    "\n",
    "## 6.1 Strahler method\n",
    "Let's start with deriving the Strahler orders using the <code>streamorder</code> operation.\n",
    "The <code>streamorder</code> operation needs the flow direction map created in the previous section as an input. A detailed description of the <code>streamorder</code> operation can be found in the [PCRaster documentation](https://pcraster.geo.uu.nl/pcraster/4.3.0/documentation/pcraster_manual/sphinx/op_streamorder.html)."
   ]
  },
  {
   "cell_type": "code",
   "execution_count": null,
   "metadata": {},
   "outputs": [],
   "source": [
    "import os\n",
    "from pcraster import *\n",
    "os.chdir('./Data/')\n",
    "\n",
    "FlowDirection = readmap('flowdir.map')\n",
    "StrahlerOrders = streamorder(FlowDirection)\n",
    "aguila(StrahlerOrders)"
   ]
  },
  {
   "cell_type": "markdown",
   "metadata": {},
   "source": [
    "Change the legend in Aguila to a ramp from yellow to blue, so the higher orders are blue, like rivers.\n",
    "\n",
    "The data type of the Strahler order map is ordinal, starting at 1. Now we need to determine after which Strahler order we consider the the flow big enough to call it a river. We do that through calibration. Let's calculate maps with Strahler order 1 to the maximum and compare them with OpenStreetMap.\n",
    "First we determine the maximum Strahler order by using the <code>mapmaximum</code> operation. The <code>mapmaximum</code> operation is a global operation. More info can be found in the [PCRaster documentation](https://pcraster.geo.uu.nl/pcraster/4.3.0/documentation/pcraster_manual/sphinx/op_mapmaximum.html)."
   ]
  },
  {
   "cell_type": "code",
   "execution_count": null,
   "metadata": {},
   "outputs": [],
   "source": [
    "MaximumStrahlerOrder = mapmaximum(StrahlerOrders)"
   ]
  },
  {
   "cell_type": "markdown",
   "metadata": {},
   "source": [
    "Visualise the result with Aguila."
   ]
  },
  {
   "cell_type": "code",
   "execution_count": null,
   "metadata": {},
   "outputs": [],
   "source": []
  },
  {
   "cell_type": "markdown",
   "metadata": {},
   "source": [
    "The problem is that the result is a PCRaster map with for each pixel the maximum value of the map. In order to iterate over the Strahler orders we need to get the value. We can use the <code>cellvalue</code> operation. The <code>cellvalue</code> operation needs the raster for which it has the give the cell value as input as well as a row and column index number. Here all cells are the same, so we can simply use 0 for the index, refering to the first row and first column of the input raster."
   ]
  },
  {
   "cell_type": "code",
   "execution_count": null,
   "metadata": {},
   "outputs": [],
   "source": [
    "MaximumStrahlerOrderTuple = cellvalue(MaximumStrahlerOrder,0,0)\n",
    "print(MaximumStrahlerOrderTuple)"
   ]
  },
  {
   "cell_type": "markdown",
   "metadata": {},
   "source": [
    "The <code>cellvalue</code> operation returns a tuple with two elements: the first is the cell value, the second is a boolean value which shows whether the first element, is valid or not. If the second element is False, the cell contains a missing value. So if we want to have the value we need to take the first element of the tuple."
   ]
  },
  {
   "cell_type": "code",
   "execution_count": null,
   "metadata": {},
   "outputs": [],
   "source": [
    "MaximumStrahlerOrderValue = MaximumStrahlerOrderTuple[0]\n",
    "print(MaximumStrahlerOrderValue)"
   ]
  },
  {
   "cell_type": "markdown",
   "metadata": {},
   "source": [
    "Now we can loop over the Strahler orders and save each map larger or equal to that order."
   ]
  },
  {
   "cell_type": "code",
   "execution_count": null,
   "metadata": {},
   "outputs": [],
   "source": [
    "for order in range (1,MaximumStrahlerOrderValue + 1):\n",
    "    Stream = ifthen(StrahlerOrders >= order, boolean(1))\n",
    "    report(Stream,'stream'+str(order)+'.map')"
   ]
  },
  {
   "cell_type": "markdown",
   "metadata": {},
   "source": [
    "Visualise the different results and choose which best matches with OpenStreetMap or Google Satellite. You can load the layers in QGIS to do this."
   ]
  },
  {
   "cell_type": "markdown",
   "metadata": {},
   "source": [
    "## 6.2 Flow accumulation method\n",
    "In order to estimate where the river is we can also use the flow accumulation method. In PCRaster that's done with the [accuflux](https://pcraster.geo.uu.nl/pcraster/4.3.0/documentation/pcraster_manual/sphinx/op_accuflux.html) operation. Accuflux will accumulate material (second argument) over the flow direction. Here we choose 1 for all cells as material."
   ]
  },
  {
   "cell_type": "code",
   "execution_count": null,
   "metadata": {},
   "outputs": [],
   "source": [
    "FlowAccumulation = accuflux(FlowDirection,1)"
   ]
  },
  {
   "cell_type": "markdown",
   "metadata": {},
   "source": [
    "Visualise the result with Aguila. Change the legend to shifted logarithmic, because of the large range of values."
   ]
  },
  {
   "cell_type": "code",
   "execution_count": null,
   "metadata": {},
   "outputs": [],
   "source": []
  },
  {
   "cell_type": "markdown",
   "metadata": {},
   "source": [
    "In the same way as with the Strahler method we need to determine the minimum flow accumulation that we consider a river. We do this again by comparing boolean maps with a reference map. Let's start wit 9000 pixels."
   ]
  },
  {
   "cell_type": "code",
   "execution_count": null,
   "metadata": {},
   "outputs": [],
   "source": [
    "RiverFlow = ifthen(FlowAccumulation > 9000, boolean(1))"
   ]
  },
  {
   "cell_type": "markdown",
   "metadata": {},
   "source": [
    "Try this for different values and check how well it matches with for example OpenStreetMap in QGIS.\n",
    "\n",
    "After calibration, write the one that fits best to disk with `report`."
   ]
  },
  {
   "cell_type": "code",
   "execution_count": null,
   "metadata": {},
   "outputs": [],
   "source": []
  },
  {
   "cell_type": "markdown",
   "metadata": {},
   "source": [
    "The next step is to delineate the catchment belonging to a selected outlet."
   ]
  },
  {
   "cell_type": "markdown",
   "metadata": {},
   "source": [
    "<!--NAVIGATION-->\n",
    "< [Calculate Flow Direction](Flowdirection.ipynb) | [Contents](ContentsCatchmentDelineation.ipynb) | [Catchment Delineation](CatchmentDelineation.ipynb) >"
   ]
  }
 ],
 "metadata": {
  "kernelspec": {
   "display_name": "Python 3",
   "language": "python",
   "name": "python3"
  },
  "language_info": {
   "codemirror_mode": {
    "name": "ipython",
    "version": 3
   },
   "file_extension": ".py",
   "mimetype": "text/x-python",
   "name": "python",
   "nbconvert_exporter": "python",
   "pygments_lexer": "ipython3",
   "version": "3.7.9"
  }
 },
 "nbformat": 4,
 "nbformat_minor": 4
}
