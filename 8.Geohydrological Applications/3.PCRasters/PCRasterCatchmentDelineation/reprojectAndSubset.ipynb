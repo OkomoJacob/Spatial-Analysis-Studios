{
 "cells": [
  {
   "cell_type": "markdown",
   "metadata": {},
   "source": [
    "<!--NAVIGATION-->\n",
    "< [Mosaic](Mosaic.ipynb) | [Contents](ContentsCatchmentDelineation.ipynb) | [Convert to PCRaster Format](ConvertToPCRaster.ipynb) >"
   ]
  },
  {
   "cell_type": "markdown",
   "metadata": {},
   "source": [
    "# 3. Reproject and subset the DEM"
   ]
  },
  {
   "cell_type": "markdown",
   "metadata": {},
   "source": [
    "In this section we'll clip the mosaic to a smaller bounding box to reduce calculation times. In reality you'll have to estimate the approximate boundary. In the same step we reproject the DEM to UTM Zone 32 N / WGS-84 (EPSG: 32632).\n",
    "\n",
    "Let's first set the path."
   ]
  },
  {
   "cell_type": "code",
   "execution_count": null,
   "metadata": {},
   "outputs": [],
   "source": [
    "import os\n",
    "os.chdir('./Data/')\n",
    "print(os.getcwd())"
   ]
  },
  {
   "cell_type": "markdown",
   "metadata": {},
   "source": [
    "Now we'll create a function to reproject and clip the mosaic using <code>gdal.Warp</code>. With <code>gdal.WarpOptions</code> you can choose different options that are described [here](https://gdal.org/python/osgeo.gdal-module.html#WarpOptions).\n",
    "\n",
    "In this case we use:\n",
    "\n",
    "* <code>cutlineDSName=shapefile</code> to define the shapefile that we use for clipping. In our case <code>boundingbox.shp</code>\n",
    "* <code>cropToCutline=True</code> to use the cutline extent for the output bounds\n",
    "* <code>format='GTIFF'</code> to indicate that the output format is GeoTIFF\n",
    "* <code>dstSRS=projection</code> to define the output target projection, which is in our case EPSG: 32632.\n",
    "* <code>xRes,yRes</code> are the x and y pixel dimensions which we set both to 30 m.\n",
    "\n",
    "Then <code>gdal.Warp</code> uses <code>srcDSOrSrcDSTab</code> to define the input raster and <code>destNameOrDestDS</code> to define the output raster. We also add the <code>options</code> from <code>gdal.WarpOptions</code>.\n",
    "\n",
    "We write this in a function to keep it readable."
   ]
  },
  {
   "cell_type": "code",
   "execution_count": null,
   "metadata": {},
   "outputs": [],
   "source": [
    "from osgeo import gdal\n",
    "def reprojectAndClip(inputraster,outputraster,projection,shapefile,resolution):\n",
    "    options = gdal.WarpOptions(cutlineDSName=shapefile,\n",
    "                           cropToCutline=True,\n",
    "                           format='GTIFF',\n",
    "                           dstSRS=projection,\n",
    "                           xRes=resolution,\n",
    "                           yRes=resolution)\n",
    "    outimage=gdal.Warp(srcDSOrSrcDSTab=inputraster,\n",
    "                           destNameOrDestDS=outputraster,\n",
    "                           options=options)\n",
    "Mosaic = 'mosaic.vrt'\n",
    "Polygon = 'boundingbox.shp'\n",
    "EPSG = 'EPSG:32632'\n",
    "spatialResolution = 30\n",
    "DEMSubset = 'DEMsubset.tif'\n",
    "reprojectAndClip(Mosaic,DEMSubset,EPSG,Polygon,spatialResolution)"
   ]
  },
  {
   "cell_type": "markdown",
   "metadata": {},
   "source": [
    "Check the result in QGIS.\n",
    "\n",
    "The rest of the workflow will be done with PCRaster. So in the next section we're going to convert the DEM subset to the PCRaster format using GDAL in Python."
   ]
  },
  {
   "cell_type": "markdown",
   "metadata": {},
   "source": [
    "<!--NAVIGATION-->\n",
    "< [Mosaic](Mosaic.ipynb) | [Contents](ContentsCatchmentDelineation.ipynb) | [Convert to PCRaster Format](ConvertToPCRaster.ipynb) >"
   ]
  }
 ],
 "metadata": {
  "kernelspec": {
   "display_name": "Python 3",
   "language": "python",
   "name": "python3"
  },
  "language_info": {
   "codemirror_mode": {
    "name": "ipython",
    "version": 3
   },
   "file_extension": ".py",
   "mimetype": "text/x-python",
   "name": "python",
   "nbconvert_exporter": "python",
   "pygments_lexer": "ipython3",
   "version": "3.7.9"
  }
 },
 "nbformat": 4,
 "nbformat_minor": 4
}
