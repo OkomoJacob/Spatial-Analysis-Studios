{
 "cells": [
  {
   "cell_type": "markdown",
   "metadata": {},
   "source": [
    "<!--NAVIGATION-->\n",
    "< [Contents](ContentsCatchmentDelineation.ipynb) | [Mosaic SRTM DEM tiles](Mosaic.ipynb) >"
   ]
  },
  {
   "cell_type": "markdown",
   "metadata": {},
   "source": [
    "# 1. Introduction\n",
    "In this lesson we're going to delineate streams and a catchment boundary from a DEM.\n",
    "In the `Data` folder you can find 4 SRTM DEM tiles in GeoTIFF format and shapefile with a rough bounding box of the study area.\n",
    "\n",
    "The steps are:\n",
    "1. Mosaic SRTM DEM tiles\n",
    "2. Reproject and clip the DEM\n",
    "3. Calculate the flow direction\n",
    "4. Delineate the streams\n",
    "5. Define the outlet\n",
    "6. Delineate the catchment\n",
    "\n",
    "Steps 1 and 2 are done with GDAL in Python. Then we convert the output to PCRaster format and continue with PCRaster operations in Python.\n",
    "\n",
    "Let's start with creating a mosaic from the SRTM tiles in the section."
   ]
  },
  {
   "cell_type": "markdown",
   "metadata": {},
   "source": [
    "<!--NAVIGATION-->\n",
    "< [Contents](ContentsCatchmentDelineation.ipynb) | [Mosaic SRTM DEM tiles](Mosaic.ipynb) >"
   ]
  }
 ],
 "metadata": {
  "kernelspec": {
   "display_name": "Python 3",
   "language": "python",
   "name": "python3"
  },
  "language_info": {
   "codemirror_mode": {
    "name": "ipython",
    "version": 3
   },
   "file_extension": ".py",
   "mimetype": "text/x-python",
   "name": "python",
   "nbconvert_exporter": "python",
   "pygments_lexer": "ipython3",
   "version": "3.7.9"
  }
 },
 "nbformat": 4,
 "nbformat_minor": 4
}
