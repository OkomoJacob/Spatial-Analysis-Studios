{
 "cells": [
  {
   "cell_type": "markdown",
   "metadata": {},
   "source": [
    "<!--NAVIGATION-->\n",
    "< [Introduction](Introduction_Catchment_Delineation.ipynb) >"
   ]
  },
  {
   "cell_type": "markdown",
   "metadata": {},
   "source": [
    "# Tutorial Stream and Catchment Delineation\n",
    "## Table of Contents\n",
    "\n",
    "1. __[Introduction](Introduction_Catchment_Delineation.ipynb)__\n",
    "2. __[Mosaic DEM Tiles](Mosaic.ipynb)__\n",
    "3. __[Reproject and Subset the DEM](reprojectAndSubset.ipynb)__\n",
    "4. __[Convert to PCRaster Format](ConvertToPcraster.ipynb)__\n",
    "5. __[Calculate the Flow Direction](Flowdirection.ipynb)__\n",
    "6. __[Delineate Streams](Streams.ipynb)__\n",
    "7. __[Catchment Delineation](CatchmentDelineation.ipynb)__\n",
    "8. __[Automate Stream and Catchment Delineation](AutomateDelineation.ipynb)__"
   ]
  },
  {
   "cell_type": "markdown",
   "metadata": {},
   "source": [
    "*By __[Hans van der Kwast](http://www.linkedin.com/in/jvdkwast)__*<br>\n",
    "*__[IHE Delft Institute for Water Education](http://www.un-ihe.org)__*<br>\n",
    "*Twitter: @hansakwast*\n",
    "\n",
    "*These materials are OpenCourseWare, licensed as [CC By-NC 4.0](https://creativecommons.org/licenses/by-nc/4.0/)*"
   ]
  },
  {
   "cell_type": "markdown",
   "metadata": {},
   "source": [
    "<!--NAVIGATION-->\n",
    "< [Introduction](Introduction_Catchment_Delineation.ipynb) >"
   ]
  }
 ],
 "metadata": {
  "kernelspec": {
   "display_name": "Python 3",
   "language": "python",
   "name": "python3"
  },
  "language_info": {
   "codemirror_mode": {
    "name": "ipython",
    "version": 3
   },
   "file_extension": ".py",
   "mimetype": "text/x-python",
   "name": "python",
   "nbconvert_exporter": "python",
   "pygments_lexer": "ipython3",
   "version": "3.7.9"
  }
 },
 "nbformat": 4,
 "nbformat_minor": 4
}
