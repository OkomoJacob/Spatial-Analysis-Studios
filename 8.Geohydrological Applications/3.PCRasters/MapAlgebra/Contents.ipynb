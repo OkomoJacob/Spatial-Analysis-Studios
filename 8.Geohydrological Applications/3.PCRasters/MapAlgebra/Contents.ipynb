{
 "cells": [
  {
   "cell_type": "markdown",
   "metadata": {},
   "source": [
    "<!--NAVIGATION-->\n",
    "< [Introduction](Introduction.ipynb)>"
   ]
  },
  {
   "cell_type": "markdown",
   "metadata": {},
   "source": [
    "# Map algebra with PCRaster Python\n",
    "\n",
    "\n",
    "## Contents\n",
    "### __[1. Introduction](Introduction.ipynb)__\n",
    "### __[2. Preparation](Preparation.ipynb)__\n",
    "### __[3. Condition 1: Wells within 150 Meters of Houses or Roads](Condition_1.ipynb)__\n",
    "### __[4. Condition 2: No Industry, Mine, or Landfill within 300 Meters from Wells](Condition_2.ipynb)__\n",
    "### __[5. Condition 3: Wells Less than 40 Meters Deep](Condition_2.ipynb)__\n",
    "### __[6. Combine the Three Conditions](Combine.ipynb)__\n",
    "### __[7. What is the advantage of scripting map algebra?](Conclusion_map_algebra.ipynb)__"
   ]
  },
  {
   "cell_type": "markdown",
   "metadata": {},
   "source": [
    "*By __[Hans van der Kwast](http://www.linkedin.com/in/jvdkwast)__*<br>\n",
    "*__[IHE Delft Institute for Water Education](http://www.un-ihe.org)__*<br>\n",
    "*Twitter: @hansakwast*\n",
    "\n",
    "*These materials are OpenCourseWare, licensed as [CC By-NC 4.0](https://creativecommons.org/licenses/by-nc/4.0/)*"
   ]
  },
  {
   "cell_type": "markdown",
   "metadata": {},
   "source": [
    "<!--NAVIGATION-->\n",
    "< [Introduction](Introduction.ipynb)>"
   ]
  }
 ],
 "metadata": {
  "kernelspec": {
   "display_name": "Python 3",
   "language": "python",
   "name": "python3"
  },
  "language_info": {
   "codemirror_mode": {
    "name": "ipython",
    "version": 3
   },
   "file_extension": ".py",
   "mimetype": "text/x-python",
   "name": "python",
   "nbconvert_exporter": "python",
   "pygments_lexer": "ipython3",
   "version": "3.7.9"
  }
 },
 "nbformat": 4,
 "nbformat_minor": 4
}
