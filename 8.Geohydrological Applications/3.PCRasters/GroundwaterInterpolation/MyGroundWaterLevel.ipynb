{
 "cells": [
  {
   "cell_type": "markdown",
   "id": "olympic-category",
   "metadata": {},
   "source": [
    "#  Create a groundwater level map from borehole data and a DEM \n",
    "<hr >\n",
    "\n",
    "## 1. Introduction\n",
    "\n",
    "In this exercise you'll learn how to convert a Comma Separated Values file with borehole depth and coordinates to a PCRaster map. Next, we're going to interpolate the borehole depths to continuous raster using the Inverse Distance Weighting (IDW) method and the Thiessen method.\n",
    "\n",
    "Let's first import PCRaster and set the path to the `data` folder where we have the input data for this exercise."
   ]
  },
  {
   "cell_type": "code",
   "execution_count": 1,
   "id": "scenic-dallas",
   "metadata": {},
   "outputs": [
    {
     "name": "stdout",
     "output_type": "stream",
     "text": [
      "/home/jacob/3.9.4/3.8.4/4.GIS_DEV/Spatial-Analysis-Studios/8.Geohydrological Applications/3.PCRasters/GroundwaterInterpolation\n"
     ]
    }
   ],
   "source": [
    "from pcraster import *\n",
    "import os\n",
    "print(os.getcwd())\n",
    "os.chdir(\"./data\")"
   ]
  },
  {
   "cell_type": "markdown",
   "id": "ancient-slope",
   "metadata": {},
   "source": [
    "## 2. Convert a CSV file to PCRaster map format\n",
    "Open the `boreholesdhxy.csv` file in the `data` folder in a text editor and check the contents.\n",
    "Which columns are the coordinates and which column gives the depth of the borehole?\n",
    "\n",
    "PCRaster has a few command line applications that are useful for these tasks. You can find these applications [here](https://pcraster.geo.uu.nl/pcraster/4.3.0/documentation/pcraster_manual/sphinx/applications.html). We will use <code>col2map</code> to convert the CSV file to a PCRaster map.\n",
    "\n",
    "The syntax of <code>col2map</code> is <code>col2map [options] columnfile PCRresult</code>.\n",
    "Here we'll use some options to indicate the output data type (Scalar) and order of the x, y and data column (v). We also need to indicate a clone map that has the raster properties (coordinate system, cell size, nr of rows/columns) of the desired output.\n",
    "\n",
    "We can run command line commands from Python using <code>os.system(stringWithCommand)</code>:"
   ]
  },
  {
   "cell_type": "code",
   "execution_count": null,
   "id": "bizarre-emergency",
   "metadata": {},
   "outputs": [],
   "source": []
  }
 ],
 "metadata": {
  "kernelspec": {
   "display_name": "condaPySpatial",
   "language": "python",
   "name": "condapyspatial"
  },
  "language_info": {
   "codemirror_mode": {
    "name": "ipython",
    "version": 3
   },
   "file_extension": ".py",
   "mimetype": "text/x-python",
   "name": "python",
   "nbconvert_exporter": "python",
   "pygments_lexer": "ipython3",
   "version": "3.8.8"
  }
 },
 "nbformat": 4,
 "nbformat_minor": 5
}
