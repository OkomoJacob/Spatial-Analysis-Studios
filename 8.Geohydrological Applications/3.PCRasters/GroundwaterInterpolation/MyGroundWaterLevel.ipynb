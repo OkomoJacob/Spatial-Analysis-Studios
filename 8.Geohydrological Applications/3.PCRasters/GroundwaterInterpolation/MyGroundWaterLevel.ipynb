{
 "cells": [
  {
   "cell_type": "markdown",
   "id": "native-attack",
   "metadata": {},
   "source": [
    "#  Create a groundwater level map from borehole data and a DEM \n",
    "<hr >\n",
    "\n",
    "## 1. Introduction\n",
    "\n",
    "In this exercise you'll learn how to convert a Comma Separated Values file with borehole depth and coordinates to a PCRaster map. Next, we're going to interpolate the borehole depths to continuous raster using the Inverse Distance Weighting (IDW) method and the Thiessen method.\n",
    "\n",
    "Let's first import PCRaster and set the path to the `data` folder where we have the input data for this exercise."
   ]
  },
  {
   "cell_type": "code",
   "execution_count": 1,
   "id": "municipal-donor",
   "metadata": {},
   "outputs": [
    {
     "name": "stdout",
     "output_type": "stream",
     "text": [
      "/home/jacob/3.9.4/3.8.4/4.GIS_DEV/Spatial-Analysis-Studios/8.Geohydrological Applications/3.PCRasters/GroundwaterInterpolation\n"
     ]
    }
   ],
   "source": [
    "from pcraster import *\n",
    "import os\n",
    "print(os.getcwd())\n",
    "os.chdir(\"./data\")"
   ]
  },
  {
   "cell_type": "markdown",
   "id": "reported-roman",
   "metadata": {},
   "source": [
    "## 2. Convert a CSV file to PCRaster map format\n",
    "Open the `boreholesdhxy.csv` file in the `data` folder in a text editor and check the contents.\n",
    "Which columns are the coordinates and which column gives the depth of the borehole?\n",
    "\n",
    "PCRaster has a few command line applications that are useful for these tasks. You can find these applications [here](https://pcraster.geo.uu.nl/pcraster/4.3.0/documentation/pcraster_manual/sphinx/applications.html). We will use <code>col2map</code> to convert the CSV file to a PCRaster map.\n",
    "\n",
    "The syntax of <code>col2map</code> is <code>col2map [options] columnfile PCRresult</code>.\n",
    "Here we'll use some options to indicate the output data type (Scalar) and order of the x, y and data column (v). We also need to indicate a clone map that has the raster properties (coordinate system, cell size, nr of rows/columns) of the desired output.\n",
    "\n",
    "We can run command line commands from Python using <code>os.system(stringWithCommand)</code>:"
   ]
  },
  {
   "cell_type": "code",
   "execution_count": 2,
   "id": "genuine-separation",
   "metadata": {},
   "outputs": [
    {
     "data": {
      "text/plain": [
       "0"
      ]
     },
     "execution_count": 2,
     "metadata": {},
     "output_type": "execute_result"
    }
   ],
   "source": [
    "command = \"col2map -S -x 2 -y 3 -v 1 boreholesdxy.csv boreholedepth.map --clone clone.map\"\n",
    "os.system(command)"
   ]
  },
  {
   "cell_type": "markdown",
   "id": "retired-polyester",
   "metadata": {},
   "source": [
    "Read the `boreholedepth.map` file into the variable `BoreholeDepth`."
   ]
  },
  {
   "cell_type": "markdown",
   "id": "weekly-scholar",
   "metadata": {},
   "source": [
    "### Visualise `BoreholeDepth` with Aguila. \n",
    "* Since we run this Jupyter Notebook locally, we can use the `aguila` python operation. \n",
    "* The map will popup in the background, so you might need to look for it."
   ]
  },
  {
   "cell_type": "code",
   "execution_count": 6,
   "id": "clinical-filing",
   "metadata": {},
   "outputs": [],
   "source": [
    "BoreholeDepth = readmap(\"boreholedepth.map\")"
   ]
  },
  {
   "cell_type": "code",
   "execution_count": 7,
   "id": "organized-internship",
   "metadata": {},
   "outputs": [],
   "source": [
    "aguila(BoreholeDepth)"
   ]
  },
  {
   "cell_type": "markdown",
   "id": "lesbian-tablet",
   "metadata": {},
   "source": [
    "## 3. Interpolate borehole depth with IDW\n",
    "We can now interpolate the borehole depth at the pixels. We'll first apply the Inverse Distance Weighting method. This has been implemented as the [inversedistance operation](https://pcraster.geo.uu.nl/pcraster/4.3.0/documentation/pcraster_manual/sphinx/op_inversedistance.html) in PCRaster.\n",
    "\n",
    "The syntax is: \n",
    "```Python\n",
    "Result = inversedistance( mask, points, idp, radius, maxNr)\n",
    "```\n",
    "\n",
    "Where \n",
    "* <code>mask</code> is a mask of the extent that will be interpolated. In our case we'll use the clone map. \n",
    "* <code>points</code> is the scalar raster layer with pixels that you want to interpolate. In our case <code>BoreholeDepth</code>.\n",
    "* <code>idp</code> is the exponent of the power function for the weights. An <code>idp</code> value of 2 is commonly used.\n",
    "* <code>radius</code> indicates the distance to a cell within it has to take interpolation points into account. If it's set to 0 there's no limitation.\n",
    "* <code>maxNr</code> limits the number of points used for the interpolation. If it's set to 0 there's no maximum.\n",
    "\n",
    "Let's first read the clone map that we'll use as the mask."
   ]
  },
  {
   "cell_type": "code",
   "execution_count": 8,
   "id": "velvet-mother",
   "metadata": {},
   "outputs": [],
   "source": [
    "Mask = readmap(\"clone.map\")"
   ]
  },
  {
   "cell_type": "markdown",
   "id": "dangerous-japanese",
   "metadata": {},
   "source": [
    "Now we interpolate the borehole depths with IDW using the following line:"
   ]
  },
  {
   "cell_type": "code",
   "execution_count": 9,
   "id": "frequent-patch",
   "metadata": {},
   "outputs": [],
   "source": [
    "BoreholeDepthIDW = inversedistance( Mask, BoreholeDepth, 2, 0, 0)"
   ]
  },
  {
   "cell_type": "markdown",
   "id": "excited-radius",
   "metadata": {},
   "source": [
    "Let's visualise the result with Aguila."
   ]
  },
  {
   "cell_type": "code",
   "execution_count": 10,
   "id": "stretch-upgrade",
   "metadata": {},
   "outputs": [],
   "source": [
    "aguila(BoreholeDepthIDW)"
   ]
  },
  {
   "cell_type": "markdown",
   "id": "conceptual-status",
   "metadata": {},
   "source": [
    "## 4. Interpolate borehole depth with Thiessen polygons\n",
    "<hr> \n",
    "\n",
    "Another interpolation method is using so called Thiessen polygons.\n",
    "\n",
    "In PCRaster this involves three steps:\n",
    "\n",
    "1. Assign a unique ID to each borehole\n",
    "2. Assign to each pixel the closest borehole ID\n",
    "3. Assign the borehole depth to the corresponding borehole IDs for all cells\n",
    "\n",
    "Let's first assign a unique ID to each borehole using the <code>uniqueid</code> operation. The input needs to be a boolean raster.\n",
    "\n",
    "To create a boolean raster of the boreholes we use the <code>defined</code> operation. This will give boolean True for all cells with a value and boolean False for all nodata cells."
   ]
  },
  {
   "cell_type": "code",
   "execution_count": 11,
   "id": "supported-fiber",
   "metadata": {},
   "outputs": [],
   "source": [
    "Boreholes = defined(BoreholeDepth)"
   ]
  },
  {
   "cell_type": "markdown",
   "id": "corrected-subscriber",
   "metadata": {},
   "source": [
    "Check the result with Aguila."
   ]
  },
  {
   "cell_type": "code",
   "execution_count": 13,
   "id": "serious-mongolia",
   "metadata": {},
   "outputs": [],
   "source": [
    "aguila(Boreholes)"
   ]
  },
  {
   "cell_type": "markdown",
   "id": "differential-texture",
   "metadata": {},
   "source": [
    "Now we assign a unique ID to each boolean True cell. \n",
    "- Note that we want the output to be nominal instead of scalar. \n",
    "- Therefore we wrap the <code>uniqueid</code> into the <code>nominal</code> operation."
   ]
  },
  {
   "cell_type": "code",
   "execution_count": 14,
   "id": "obvious-meter",
   "metadata": {},
   "outputs": [],
   "source": [
    "BoreholeID = nominal(uniqueid(Boreholes))"
   ]
  },
  {
   "cell_type": "code",
   "execution_count": 15,
   "id": "willing-thriller",
   "metadata": {},
   "outputs": [],
   "source": [
    "aguila(BoreholeID)"
   ]
  },
  {
   "cell_type": "markdown",
   "id": "spread-namibia",
   "metadata": {},
   "source": [
    "Let's assign to each cell its closes borehole ID. We use the <code>spreadzone</code> operation, which has the following syntax:\n",
    "\n",
    "<code>Result = spreadzone(points, initialfrictiondist, friction)</code>\n",
    "\n",
    "Where:\n",
    "\n",
    "* <code>points</code> is the raster with points to interpolate. In our case BoreholeID.\n",
    "* <code>initialfrictiondist</code> is the initial friction distance. We don't need that, so we make it 0.\n",
    "* <code>friction</code> is the friction for each cell, which we keep constant at 1."
   ]
  },
  {
   "cell_type": "code",
   "execution_count": 16,
   "id": "expected-objective",
   "metadata": {},
   "outputs": [],
   "source": [
    "ThiessenID = spreadzone(BoreholeID,0,1)"
   ]
  },
  {
   "cell_type": "code",
   "execution_count": 17,
   "id": "electrical-import",
   "metadata": {},
   "outputs": [],
   "source": [
    "aguila(ThiessenID)"
   ]
  },
  {
   "cell_type": "code",
   "execution_count": null,
   "id": "deadly-march",
   "metadata": {},
   "outputs": [],
   "source": []
  }
 ],
 "metadata": {
  "kernelspec": {
   "display_name": "condaPySpatial",
   "language": "python",
   "name": "condapyspatial"
  },
  "language_info": {
   "codemirror_mode": {
    "name": "ipython",
    "version": 3
   },
   "file_extension": ".py",
   "mimetype": "text/x-python",
   "name": "python",
   "nbconvert_exporter": "python",
   "pygments_lexer": "ipython3",
   "version": "3.8.8"
  }
 },
 "nbformat": 4,
 "nbformat_minor": 5
}
