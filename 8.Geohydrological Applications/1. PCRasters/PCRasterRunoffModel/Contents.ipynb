{
 "cells": [
  {
   "cell_type": "markdown",
   "metadata": {},
   "source": [
    "< [Introduction](Introduction.ipynb) >"
   ]
  },
  {
   "cell_type": "markdown",
   "metadata": {},
   "source": [
    "# Tutorial PCRaster Dynamic Modelling Framework\n",
    "\n",
    "\n",
    "# Contents\n",
    "\n",
    "1. [Introduction](Introduction.ipynb)\n",
    "2. [The PCRaster Dynamic Modelling Framework](PCRasterDynamicModellingFramework.ipynb)\n",
    "3. [Prepare the initial section of the model](STREAM_Initial.ipynb)\n",
    "4. [Building the dynamic model](STREAM_Dynamic.ipynb)"
   ]
  },
  {
   "cell_type": "markdown",
   "metadata": {},
   "source": [
    "< [Introduction](Introduction.ipynb) >"
   ]
  }
 ],
 "metadata": {
  "kernelspec": {
   "display_name": "Python 3",
   "language": "python",
   "name": "python3"
  },
  "language_info": {
   "codemirror_mode": {
    "name": "ipython",
    "version": 3
   },
   "file_extension": ".py",
   "mimetype": "text/x-python",
   "name": "python",
   "nbconvert_exporter": "python",
   "pygments_lexer": "ipython3",
   "version": "3.7.6"
  }
 },
 "nbformat": 4,
 "nbformat_minor": 4
}
