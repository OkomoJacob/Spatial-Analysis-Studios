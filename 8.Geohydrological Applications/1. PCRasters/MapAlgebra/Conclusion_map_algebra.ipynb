{
 "cells": [
  {
   "cell_type": "markdown",
   "metadata": {},
   "source": [
    "<!--NAVIGATION-->\n",
    "< [Combine the three conditions](Combine.ipynb) | [Contents](Contents.ipynb) >"
   ]
  },
  {
   "cell_type": "markdown",
   "metadata": {},
   "source": [
    "# 7. What is the advantage of scripting map algebra?"
   ]
  },
  {
   "cell_type": "markdown",
   "metadata": {},
   "source": [
    "The same procedure could be easily done in QGIS as you can see in [this tutorial](https://courses.gisopencourseware.org/mod/book/view.php?id=68). So what are then the advantages of scripting this instead of using a graphical user interface (GUI)?\n",
    "\n",
    "1. You have more control over the functions, because you determine each argument and operator that you use.\n",
    "2. The process becomes reproducable. Anyone else can run the script with the input data to obtain the same results. The code is transparent (open source).\n",
    "3. You can easily modify the critera and see how it affects the result.\n",
    "\n",
    "Therefore we're going to put all code that we used in this tutorial into one script, where certain processes are written as functions. You can try it first yourself. Below you'll find the answer."
   ]
  },
  {
   "cell_type": "code",
   "execution_count": null,
   "metadata": {},
   "outputs": [],
   "source": []
  },
  {
   "cell_type": "code",
   "execution_count": null,
   "metadata": {},
   "outputs": [],
   "source": [
    "# Import the library\n",
    "from pcraster import *\n",
    "\n",
    "def WithinDistance(raster,maxdistance):\n",
    "    ResultWithinDistance = spreadmaxzone(raster, 0, 1, maxdistance)\n",
    "    return ResultWithinDistance\n",
    "    \n",
    "def BeyondDistance(raster,mindistance):\n",
    "    ResultBeyondDistance = ~ spreadmaxzone(raster, 0, 1, mindistance)\n",
    "    return ResultBeyondDistance\n",
    "\n",
    "# Change to data folder if needed\n",
    "os.chdir(\"./data\")\n",
    "\n",
    "# Read all input maps\n",
    "Buildings = readmap(\"buildg.map\")\n",
    "Roads = readmap(\"roads.map\")\n",
    "GWLevel = readmap(\"gwlevel.map\")\n",
    "DTM = readmap(\"dtm.map\")\n",
    "\n",
    "# Set thresholds for conditions\n",
    "DistanceCondition1 = 150\n",
    "DistanceCondition2 = 300\n",
    "DepthCondition3 = 40\n",
    "\n",
    "# Condition 1: Wells within X Meters of Houses or Roads\n",
    "Houses = Buildings == 1\n",
    "Houses150m = WithinDistance(Houses,DistanceCondition1)\n",
    "\n",
    "IsRoad = Roads != 0\n",
    "Roads150m = WithinDistance(IsRoad,DistanceCondition1)\n",
    "\n",
    "# Condition 2: No Industry, Mine, or Landfill within X Meters from Wells\n",
    "Industry = lookupboolean(\"industry.tbl\", Buildings)\n",
    "IndustryMin300m = BeyondDistance(Industry,DistanceCondition2)\n",
    "\n",
    "# Condition 3: Wells Less than X Meters Deep\n",
    "WellDepth = DTM - GWLevel\n",
    "NotDeep = WellDepth < DepthCondition3\n",
    "\n",
    "# Combine conditions\n",
    "AccessibleWells = Houses150m & Roads150m & IndustryMin300m & NotDeep\n",
    "\n",
    "# Write result to disk and visualise\n",
    "report(AccessibleWells,\"accessiblewells.map\")\n",
    "plot(AccessibleWells,labels={0:\"Not accessible\",1:\"Accessible\"},title=\"Wells\",filename=None)"
   ]
  },
  {
   "cell_type": "markdown",
   "metadata": {},
   "source": [
    "Now you can play with the values for the conditions and check the results.\n",
    "What happens if we change the distance to houses and roads to 250 m?"
   ]
  },
  {
   "cell_type": "markdown",
   "metadata": {},
   "source": [
    "<!--NAVIGATION-->\n",
    "< [Combine the three conditions](Combine.ipynb) | [Contents](Contents.ipynb) >"
   ]
  }
 ],
 "metadata": {
  "kernelspec": {
   "display_name": "Python 3",
   "language": "python",
   "name": "python3"
  },
  "language_info": {
   "codemirror_mode": {
    "name": "ipython",
    "version": 3
   },
   "file_extension": ".py",
   "mimetype": "text/x-python",
   "name": "python",
   "nbconvert_exporter": "python",
   "pygments_lexer": "ipython3",
   "version": "3.7.9"
  }
 },
 "nbformat": 4,
 "nbformat_minor": 4
}
