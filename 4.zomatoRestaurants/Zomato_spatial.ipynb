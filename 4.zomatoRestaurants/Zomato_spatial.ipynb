{
 "cells": [
  {
   "cell_type": "markdown",
   "metadata": {},
   "source": [
    "## ZOMATO STORE SPATIAL ANALYSIS\n",
    "- In this Spatial Data Analysis problem, we're going to analyse the [Zomato Food Delivery Store](https://www.zomato.com/ncr)"
   ]
  },
  {
   "cell_type": "code",
   "execution_count": 6,
   "metadata": {},
   "outputs": [],
   "source": [
    "import pandas as pd\n",
    "import numpy as np\n",
    "import matplotlib.pyplot as plt\n",
    "import seaborn as sns\n",
    "\n",
    "### so that u dont have warnings\n",
    "from warnings import filterwarnings\n",
    "filterwarnings('ignore')"
   ]
  },
  {
   "cell_type": "code",
   "execution_count": 7,
   "metadata": {},
   "outputs": [
    {
     "ename": "ParserError",
     "evalue": "Error tokenizing data. C error: EOF inside string starting at row 2480",
     "output_type": "error",
     "traceback": [
      "\u001b[0;31m---------------------------------------------------------------------------\u001b[0m",
      "\u001b[0;31mParserError\u001b[0m                               Traceback (most recent call last)",
      "\u001b[0;32m<ipython-input-7-d5c137e5d65b>\u001b[0m in \u001b[0;36m<module>\u001b[0;34m\u001b[0m\n\u001b[0;32m----> 1\u001b[0;31m \u001b[0mdf\u001b[0m \u001b[0;34m=\u001b[0m \u001b[0mpd\u001b[0m\u001b[0;34m.\u001b[0m\u001b[0mread_csv\u001b[0m\u001b[0;34m(\u001b[0m\u001b[0;34m'data/zomato.csv'\u001b[0m\u001b[0;34m)\u001b[0m\u001b[0;34m\u001b[0m\u001b[0;34m\u001b[0m\u001b[0m\n\u001b[0m\u001b[1;32m      2\u001b[0m \u001b[0mdf\u001b[0m\u001b[0;34m.\u001b[0m\u001b[0mhead\u001b[0m\u001b[0;34m(\u001b[0m\u001b[0;36m2\u001b[0m\u001b[0;34m)\u001b[0m\u001b[0;34m\u001b[0m\u001b[0;34m\u001b[0m\u001b[0m\n",
      "\u001b[0;32m~/.local/lib/python3.8/site-packages/pandas/io/parsers.py\u001b[0m in \u001b[0;36mread_csv\u001b[0;34m(filepath_or_buffer, sep, delimiter, header, names, index_col, usecols, squeeze, prefix, mangle_dupe_cols, dtype, engine, converters, true_values, false_values, skipinitialspace, skiprows, skipfooter, nrows, na_values, keep_default_na, na_filter, verbose, skip_blank_lines, parse_dates, infer_datetime_format, keep_date_col, date_parser, dayfirst, cache_dates, iterator, chunksize, compression, thousands, decimal, lineterminator, quotechar, quoting, doublequote, escapechar, comment, encoding, dialect, error_bad_lines, warn_bad_lines, delim_whitespace, low_memory, memory_map, float_precision, storage_options)\u001b[0m\n\u001b[1;32m    608\u001b[0m     \u001b[0mkwds\u001b[0m\u001b[0;34m.\u001b[0m\u001b[0mupdate\u001b[0m\u001b[0;34m(\u001b[0m\u001b[0mkwds_defaults\u001b[0m\u001b[0;34m)\u001b[0m\u001b[0;34m\u001b[0m\u001b[0;34m\u001b[0m\u001b[0m\n\u001b[1;32m    609\u001b[0m \u001b[0;34m\u001b[0m\u001b[0m\n\u001b[0;32m--> 610\u001b[0;31m     \u001b[0;32mreturn\u001b[0m \u001b[0m_read\u001b[0m\u001b[0;34m(\u001b[0m\u001b[0mfilepath_or_buffer\u001b[0m\u001b[0;34m,\u001b[0m \u001b[0mkwds\u001b[0m\u001b[0;34m)\u001b[0m\u001b[0;34m\u001b[0m\u001b[0;34m\u001b[0m\u001b[0m\n\u001b[0m\u001b[1;32m    611\u001b[0m \u001b[0;34m\u001b[0m\u001b[0m\n\u001b[1;32m    612\u001b[0m \u001b[0;34m\u001b[0m\u001b[0m\n",
      "\u001b[0;32m~/.local/lib/python3.8/site-packages/pandas/io/parsers.py\u001b[0m in \u001b[0;36m_read\u001b[0;34m(filepath_or_buffer, kwds)\u001b[0m\n\u001b[1;32m    466\u001b[0m \u001b[0;34m\u001b[0m\u001b[0m\n\u001b[1;32m    467\u001b[0m     \u001b[0;32mwith\u001b[0m \u001b[0mparser\u001b[0m\u001b[0;34m:\u001b[0m\u001b[0;34m\u001b[0m\u001b[0;34m\u001b[0m\u001b[0m\n\u001b[0;32m--> 468\u001b[0;31m         \u001b[0;32mreturn\u001b[0m \u001b[0mparser\u001b[0m\u001b[0;34m.\u001b[0m\u001b[0mread\u001b[0m\u001b[0;34m(\u001b[0m\u001b[0mnrows\u001b[0m\u001b[0;34m)\u001b[0m\u001b[0;34m\u001b[0m\u001b[0;34m\u001b[0m\u001b[0m\n\u001b[0m\u001b[1;32m    469\u001b[0m \u001b[0;34m\u001b[0m\u001b[0m\n\u001b[1;32m    470\u001b[0m \u001b[0;34m\u001b[0m\u001b[0m\n",
      "\u001b[0;32m~/.local/lib/python3.8/site-packages/pandas/io/parsers.py\u001b[0m in \u001b[0;36mread\u001b[0;34m(self, nrows)\u001b[0m\n\u001b[1;32m   1055\u001b[0m     \u001b[0;32mdef\u001b[0m \u001b[0mread\u001b[0m\u001b[0;34m(\u001b[0m\u001b[0mself\u001b[0m\u001b[0;34m,\u001b[0m \u001b[0mnrows\u001b[0m\u001b[0;34m=\u001b[0m\u001b[0;32mNone\u001b[0m\u001b[0;34m)\u001b[0m\u001b[0;34m:\u001b[0m\u001b[0;34m\u001b[0m\u001b[0;34m\u001b[0m\u001b[0m\n\u001b[1;32m   1056\u001b[0m         \u001b[0mnrows\u001b[0m \u001b[0;34m=\u001b[0m \u001b[0mvalidate_integer\u001b[0m\u001b[0;34m(\u001b[0m\u001b[0;34m\"nrows\"\u001b[0m\u001b[0;34m,\u001b[0m \u001b[0mnrows\u001b[0m\u001b[0;34m)\u001b[0m\u001b[0;34m\u001b[0m\u001b[0;34m\u001b[0m\u001b[0m\n\u001b[0;32m-> 1057\u001b[0;31m         \u001b[0mindex\u001b[0m\u001b[0;34m,\u001b[0m \u001b[0mcolumns\u001b[0m\u001b[0;34m,\u001b[0m \u001b[0mcol_dict\u001b[0m \u001b[0;34m=\u001b[0m \u001b[0mself\u001b[0m\u001b[0;34m.\u001b[0m\u001b[0m_engine\u001b[0m\u001b[0;34m.\u001b[0m\u001b[0mread\u001b[0m\u001b[0;34m(\u001b[0m\u001b[0mnrows\u001b[0m\u001b[0;34m)\u001b[0m\u001b[0;34m\u001b[0m\u001b[0;34m\u001b[0m\u001b[0m\n\u001b[0m\u001b[1;32m   1058\u001b[0m \u001b[0;34m\u001b[0m\u001b[0m\n\u001b[1;32m   1059\u001b[0m         \u001b[0;32mif\u001b[0m \u001b[0mindex\u001b[0m \u001b[0;32mis\u001b[0m \u001b[0;32mNone\u001b[0m\u001b[0;34m:\u001b[0m\u001b[0;34m\u001b[0m\u001b[0;34m\u001b[0m\u001b[0m\n",
      "\u001b[0;32m~/.local/lib/python3.8/site-packages/pandas/io/parsers.py\u001b[0m in \u001b[0;36mread\u001b[0;34m(self, nrows)\u001b[0m\n\u001b[1;32m   2059\u001b[0m     \u001b[0;32mdef\u001b[0m \u001b[0mread\u001b[0m\u001b[0;34m(\u001b[0m\u001b[0mself\u001b[0m\u001b[0;34m,\u001b[0m \u001b[0mnrows\u001b[0m\u001b[0;34m=\u001b[0m\u001b[0;32mNone\u001b[0m\u001b[0;34m)\u001b[0m\u001b[0;34m:\u001b[0m\u001b[0;34m\u001b[0m\u001b[0;34m\u001b[0m\u001b[0m\n\u001b[1;32m   2060\u001b[0m         \u001b[0;32mtry\u001b[0m\u001b[0;34m:\u001b[0m\u001b[0;34m\u001b[0m\u001b[0;34m\u001b[0m\u001b[0m\n\u001b[0;32m-> 2061\u001b[0;31m             \u001b[0mdata\u001b[0m \u001b[0;34m=\u001b[0m \u001b[0mself\u001b[0m\u001b[0;34m.\u001b[0m\u001b[0m_reader\u001b[0m\u001b[0;34m.\u001b[0m\u001b[0mread\u001b[0m\u001b[0;34m(\u001b[0m\u001b[0mnrows\u001b[0m\u001b[0;34m)\u001b[0m\u001b[0;34m\u001b[0m\u001b[0;34m\u001b[0m\u001b[0m\n\u001b[0m\u001b[1;32m   2062\u001b[0m         \u001b[0;32mexcept\u001b[0m \u001b[0mStopIteration\u001b[0m\u001b[0;34m:\u001b[0m\u001b[0;34m\u001b[0m\u001b[0;34m\u001b[0m\u001b[0m\n\u001b[1;32m   2063\u001b[0m             \u001b[0;32mif\u001b[0m \u001b[0mself\u001b[0m\u001b[0;34m.\u001b[0m\u001b[0m_first_chunk\u001b[0m\u001b[0;34m:\u001b[0m\u001b[0;34m\u001b[0m\u001b[0;34m\u001b[0m\u001b[0m\n",
      "\u001b[0;32mpandas/_libs/parsers.pyx\u001b[0m in \u001b[0;36mpandas._libs.parsers.TextReader.read\u001b[0;34m()\u001b[0m\n",
      "\u001b[0;32mpandas/_libs/parsers.pyx\u001b[0m in \u001b[0;36mpandas._libs.parsers.TextReader._read_low_memory\u001b[0;34m()\u001b[0m\n",
      "\u001b[0;32mpandas/_libs/parsers.pyx\u001b[0m in \u001b[0;36mpandas._libs.parsers.TextReader._read_rows\u001b[0;34m()\u001b[0m\n",
      "\u001b[0;32mpandas/_libs/parsers.pyx\u001b[0m in \u001b[0;36mpandas._libs.parsers.TextReader._tokenize_rows\u001b[0;34m()\u001b[0m\n",
      "\u001b[0;32mpandas/_libs/parsers.pyx\u001b[0m in \u001b[0;36mpandas._libs.parsers.raise_parser_error\u001b[0;34m()\u001b[0m\n",
      "\u001b[0;31mParserError\u001b[0m: Error tokenizing data. C error: EOF inside string starting at row 2480"
     ]
    }
   ],
   "source": [
    "df = pd.read_csv('data/zomato.csv')\n",
    "df.head(2)"
   ]
  },
  {
   "cell_type": "code",
   "execution_count": 3,
   "metadata": {},
   "outputs": [
    {
     "data": {
      "text/plain": [
       "url                                0\n",
       "address                            0\n",
       "name                               0\n",
       "online_order                       0\n",
       "book_table                         0\n",
       "rate                            7775\n",
       "votes                              0\n",
       "phone                           1208\n",
       "location                          21\n",
       "rest_type                        227\n",
       "dish_liked                     28078\n",
       "cuisines                          45\n",
       "approx_cost(for two people)      346\n",
       "reviews_list                       0\n",
       "menu_item                          0\n",
       "listed_in(type)                    0\n",
       "listed_in(city)                    0\n",
       "dtype: int64"
      ]
     },
     "execution_count": 3,
     "metadata": {},
     "output_type": "execute_result"
    }
   ],
   "source": [
    "df.isna().sum()"
   ]
  },
  {
   "cell_type": "code",
   "execution_count": 4,
   "metadata": {},
   "outputs": [],
   "source": [
    "df.dropna(axis='index',subset=['location'],inplace=True)"
   ]
  },
  {
   "cell_type": "code",
   "execution_count": 5,
   "metadata": {},
   "outputs": [
    {
     "data": {
      "text/plain": [
       "url                                0\n",
       "address                            0\n",
       "name                               0\n",
       "online_order                       0\n",
       "book_table                         0\n",
       "rate                            7754\n",
       "votes                              0\n",
       "phone                           1187\n",
       "location                           0\n",
       "rest_type                        206\n",
       "dish_liked                     28057\n",
       "cuisines                          24\n",
       "approx_cost(for two people)      325\n",
       "reviews_list                       0\n",
       "menu_item                          0\n",
       "listed_in(type)                    0\n",
       "listed_in(city)                    0\n",
       "dtype: int64"
      ]
     },
     "execution_count": 5,
     "metadata": {},
     "output_type": "execute_result"
    }
   ],
   "source": [
    "df.isna().sum()"
   ]
  },
  {
   "cell_type": "code",
   "execution_count": 6,
   "metadata": {},
   "outputs": [
    {
     "data": {
      "text/plain": [
       "93"
      ]
     },
     "execution_count": 6,
     "metadata": {},
     "output_type": "execute_result"
    }
   ],
   "source": [
    "len(df['location'].unique())"
   ]
  },
  {
   "cell_type": "code",
   "execution_count": 7,
   "metadata": {},
   "outputs": [],
   "source": [
    "locations=pd.DataFrame({\"Name\":df['location'].unique()})"
   ]
  },
  {
   "cell_type": "code",
   "execution_count": 8,
   "metadata": {},
   "outputs": [
    {
     "data": {
      "text/html": [
       "<div>\n",
       "<style scoped>\n",
       "    .dataframe tbody tr th:only-of-type {\n",
       "        vertical-align: middle;\n",
       "    }\n",
       "\n",
       "    .dataframe tbody tr th {\n",
       "        vertical-align: top;\n",
       "    }\n",
       "\n",
       "    .dataframe thead th {\n",
       "        text-align: right;\n",
       "    }\n",
       "</style>\n",
       "<table border=\"1\" class=\"dataframe\">\n",
       "  <thead>\n",
       "    <tr style=\"text-align: right;\">\n",
       "      <th></th>\n",
       "      <th>Name</th>\n",
       "    </tr>\n",
       "  </thead>\n",
       "  <tbody>\n",
       "    <tr>\n",
       "      <th>0</th>\n",
       "      <td>Banashankari</td>\n",
       "    </tr>\n",
       "    <tr>\n",
       "      <th>1</th>\n",
       "      <td>Basavanagudi</td>\n",
       "    </tr>\n",
       "    <tr>\n",
       "      <th>2</th>\n",
       "      <td>Mysore Road</td>\n",
       "    </tr>\n",
       "    <tr>\n",
       "      <th>3</th>\n",
       "      <td>Jayanagar</td>\n",
       "    </tr>\n",
       "    <tr>\n",
       "      <th>4</th>\n",
       "      <td>Kumaraswamy Layout</td>\n",
       "    </tr>\n",
       "  </tbody>\n",
       "</table>\n",
       "</div>"
      ],
      "text/plain": [
       "                 Name\n",
       "0        Banashankari\n",
       "1        Basavanagudi\n",
       "2         Mysore Road\n",
       "3           Jayanagar\n",
       "4  Kumaraswamy Layout"
      ]
     },
     "execution_count": 8,
     "metadata": {},
     "output_type": "execute_result"
    }
   ],
   "source": [
    "locations.head()"
   ]
  },
  {
   "cell_type": "code",
   "execution_count": 9,
   "metadata": {},
   "outputs": [
    {
     "name": "stdout",
     "output_type": "stream",
     "text": [
      "Requirement already satisfied: geopy in c:\\users\\mcr\\anaconda3\\lib\\site-packages (2.0.0)\n",
      "Requirement already satisfied: geographiclib<2,>=1.49 in c:\\users\\mcr\\anaconda3\\lib\\site-packages (from geopy) (1.50)\n"
     ]
    }
   ],
   "source": [
    "!pip install geopy"
   ]
  },
  {
   "cell_type": "code",
   "execution_count": 10,
   "metadata": {},
   "outputs": [],
   "source": [
    "from geopy.geocoders import Nominatim\n"
   ]
  },
  {
   "cell_type": "code",
   "execution_count": 12,
   "metadata": {},
   "outputs": [],
   "source": [
    "geolocator=Nominatim(user_agent=\"app\")"
   ]
  },
  {
   "cell_type": "code",
   "execution_count": null,
   "metadata": {},
   "outputs": [],
   "source": [
    "'''lat_lon=[]\n",
    "for location in locations['Name']:\n",
    "    location = geolocator.geocode(location)\n",
    "    if location is None:\n",
    "        lat_lon.append(np.nan)\n",
    "    else:    \n",
    "        geo=(location.latitude,location.longitude)\n",
    "        lat_lon.append(geo)'''"
   ]
  },
  {
   "cell_type": "code",
   "execution_count": 13,
   "metadata": {},
   "outputs": [],
   "source": [
    "lat=[]\n",
    "lon=[]\n",
    "for location in locations['Name']:\n",
    "    location = geolocator.geocode(location)    \n",
    "    if location is None:\n",
    "        lat.append(np.nan)\n",
    "        lon.append(np.nan)\n",
    "    else:\n",
    "        lat.append(location.latitude)\n",
    "        lon.append(location.longitude)"
   ]
  },
  {
   "cell_type": "code",
   "execution_count": null,
   "metadata": {},
   "outputs": [],
   "source": []
  },
  {
   "cell_type": "code",
   "execution_count": 10,
   "metadata": {},
   "outputs": [],
   "source": [
    "locations['lat']=lat\n",
    "locations['lon']=lon"
   ]
  },
  {
   "cell_type": "code",
   "execution_count": 11,
   "metadata": {},
   "outputs": [
    {
     "data": {
      "text/html": [
       "<div>\n",
       "<style scoped>\n",
       "    .dataframe tbody tr th:only-of-type {\n",
       "        vertical-align: middle;\n",
       "    }\n",
       "\n",
       "    .dataframe tbody tr th {\n",
       "        vertical-align: top;\n",
       "    }\n",
       "\n",
       "    .dataframe thead th {\n",
       "        text-align: right;\n",
       "    }\n",
       "</style>\n",
       "<table border=\"1\" class=\"dataframe\">\n",
       "  <thead>\n",
       "    <tr style=\"text-align: right;\">\n",
       "      <th></th>\n",
       "      <th>Name</th>\n",
       "      <th>lat</th>\n",
       "      <th>lon</th>\n",
       "    </tr>\n",
       "  </thead>\n",
       "  <tbody>\n",
       "    <tr>\n",
       "      <th>0</th>\n",
       "      <td>Banashankari</td>\n",
       "      <td>15.887678</td>\n",
       "      <td>75.704678</td>\n",
       "    </tr>\n",
       "    <tr>\n",
       "      <th>1</th>\n",
       "      <td>Basavanagudi</td>\n",
       "      <td>13.834591</td>\n",
       "      <td>75.733936</td>\n",
       "    </tr>\n",
       "    <tr>\n",
       "      <th>2</th>\n",
       "      <td>Mysore Road</td>\n",
       "      <td>12.417263</td>\n",
       "      <td>76.671136</td>\n",
       "    </tr>\n",
       "    <tr>\n",
       "      <th>3</th>\n",
       "      <td>Jayanagar</td>\n",
       "      <td>27.643927</td>\n",
       "      <td>83.052805</td>\n",
       "    </tr>\n",
       "    <tr>\n",
       "      <th>4</th>\n",
       "      <td>Kumaraswamy Layout</td>\n",
       "      <td>12.906817</td>\n",
       "      <td>77.563525</td>\n",
       "    </tr>\n",
       "  </tbody>\n",
       "</table>\n",
       "</div>"
      ],
      "text/plain": [
       "                 Name        lat        lon\n",
       "0        Banashankari  15.887678  75.704678\n",
       "1        Basavanagudi  13.834591  75.733936\n",
       "2         Mysore Road  12.417263  76.671136\n",
       "3           Jayanagar  27.643927  83.052805\n",
       "4  Kumaraswamy Layout  12.906817  77.563525"
      ]
     },
     "execution_count": 11,
     "metadata": {},
     "output_type": "execute_result"
    }
   ],
   "source": [
    "locations.head()"
   ]
  },
  {
   "cell_type": "code",
   "execution_count": null,
   "metadata": {},
   "outputs": [],
   "source": [
    "locations.to_csv('E:\\Spatial Analysis\\Zomato/zomato_locations.csv',index=False)"
   ]
  },
  {
   "cell_type": "code",
   "execution_count": null,
   "metadata": {},
   "outputs": [],
   "source": [
    "##locations=pd.read_csv('E:\\Spatial Analysis\\Zomato/zomato_locations.csv')"
   ]
  },
  {
   "cell_type": "code",
   "execution_count": null,
   "metadata": {},
   "outputs": [],
   "source": [
    "##locations.head()"
   ]
  },
  {
   "cell_type": "markdown",
   "metadata": {},
   "source": [
    "#### We have found out latitude and longitude of each location listed in the dataset using geopy\n",
    "#### This is used to plot maps."
   ]
  },
  {
   "cell_type": "code",
   "execution_count": 12,
   "metadata": {},
   "outputs": [],
   "source": [
    "Rest_locations=pd.DataFrame(df['location'].value_counts().reset_index())"
   ]
  },
  {
   "cell_type": "code",
   "execution_count": 13,
   "metadata": {},
   "outputs": [
    {
     "data": {
      "text/html": [
       "<div>\n",
       "<style scoped>\n",
       "    .dataframe tbody tr th:only-of-type {\n",
       "        vertical-align: middle;\n",
       "    }\n",
       "\n",
       "    .dataframe tbody tr th {\n",
       "        vertical-align: top;\n",
       "    }\n",
       "\n",
       "    .dataframe thead th {\n",
       "        text-align: right;\n",
       "    }\n",
       "</style>\n",
       "<table border=\"1\" class=\"dataframe\">\n",
       "  <thead>\n",
       "    <tr style=\"text-align: right;\">\n",
       "      <th></th>\n",
       "      <th>Name</th>\n",
       "      <th>count</th>\n",
       "    </tr>\n",
       "  </thead>\n",
       "  <tbody>\n",
       "    <tr>\n",
       "      <th>0</th>\n",
       "      <td>BTM</td>\n",
       "      <td>5124</td>\n",
       "    </tr>\n",
       "    <tr>\n",
       "      <th>1</th>\n",
       "      <td>HSR</td>\n",
       "      <td>2523</td>\n",
       "    </tr>\n",
       "    <tr>\n",
       "      <th>2</th>\n",
       "      <td>Koramangala 5th Block</td>\n",
       "      <td>2504</td>\n",
       "    </tr>\n",
       "    <tr>\n",
       "      <th>3</th>\n",
       "      <td>JP Nagar</td>\n",
       "      <td>2235</td>\n",
       "    </tr>\n",
       "    <tr>\n",
       "      <th>4</th>\n",
       "      <td>Whitefield</td>\n",
       "      <td>2144</td>\n",
       "    </tr>\n",
       "  </tbody>\n",
       "</table>\n",
       "</div>"
      ],
      "text/plain": [
       "                    Name  count\n",
       "0                    BTM   5124\n",
       "1                    HSR   2523\n",
       "2  Koramangala 5th Block   2504\n",
       "3               JP Nagar   2235\n",
       "4             Whitefield   2144"
      ]
     },
     "execution_count": 13,
     "metadata": {},
     "output_type": "execute_result"
    }
   ],
   "source": [
    "Rest_locations.columns=['Name','count']\n",
    "Rest_locations.head()"
   ]
  },
  {
   "cell_type": "markdown",
   "metadata": {},
   "source": [
    "#### now combine both the dataframes"
   ]
  },
  {
   "cell_type": "code",
   "execution_count": 14,
   "metadata": {},
   "outputs": [
    {
     "data": {
      "text/plain": [
       "(93, 3)"
      ]
     },
     "execution_count": 14,
     "metadata": {},
     "output_type": "execute_result"
    }
   ],
   "source": [
    "locations.shape"
   ]
  },
  {
   "cell_type": "code",
   "execution_count": 15,
   "metadata": {},
   "outputs": [
    {
     "data": {
      "text/plain": [
       "(93, 2)"
      ]
     },
     "execution_count": 15,
     "metadata": {},
     "output_type": "execute_result"
    }
   ],
   "source": [
    "Rest_locations.shape"
   ]
  },
  {
   "cell_type": "code",
   "execution_count": 16,
   "metadata": {},
   "outputs": [
    {
     "data": {
      "text/html": [
       "<div>\n",
       "<style scoped>\n",
       "    .dataframe tbody tr th:only-of-type {\n",
       "        vertical-align: middle;\n",
       "    }\n",
       "\n",
       "    .dataframe tbody tr th {\n",
       "        vertical-align: top;\n",
       "    }\n",
       "\n",
       "    .dataframe thead th {\n",
       "        text-align: right;\n",
       "    }\n",
       "</style>\n",
       "<table border=\"1\" class=\"dataframe\">\n",
       "  <thead>\n",
       "    <tr style=\"text-align: right;\">\n",
       "      <th></th>\n",
       "      <th>Name</th>\n",
       "      <th>count</th>\n",
       "      <th>lat</th>\n",
       "      <th>lon</th>\n",
       "    </tr>\n",
       "  </thead>\n",
       "  <tbody>\n",
       "    <tr>\n",
       "      <th>0</th>\n",
       "      <td>BTM</td>\n",
       "      <td>5124</td>\n",
       "      <td>45.956023</td>\n",
       "      <td>-112.498565</td>\n",
       "    </tr>\n",
       "    <tr>\n",
       "      <th>1</th>\n",
       "      <td>HSR</td>\n",
       "      <td>2523</td>\n",
       "      <td>18.147500</td>\n",
       "      <td>41.538889</td>\n",
       "    </tr>\n",
       "    <tr>\n",
       "      <th>2</th>\n",
       "      <td>Koramangala 5th Block</td>\n",
       "      <td>2504</td>\n",
       "      <td>13.292399</td>\n",
       "      <td>77.751926</td>\n",
       "    </tr>\n",
       "    <tr>\n",
       "      <th>3</th>\n",
       "      <td>JP Nagar</td>\n",
       "      <td>2235</td>\n",
       "      <td>12.265594</td>\n",
       "      <td>76.646540</td>\n",
       "    </tr>\n",
       "    <tr>\n",
       "      <th>4</th>\n",
       "      <td>Whitefield</td>\n",
       "      <td>2144</td>\n",
       "      <td>44.373058</td>\n",
       "      <td>-71.611858</td>\n",
       "    </tr>\n",
       "  </tbody>\n",
       "</table>\n",
       "</div>"
      ],
      "text/plain": [
       "                    Name  count        lat         lon\n",
       "0                    BTM   5124  45.956023 -112.498565\n",
       "1                    HSR   2523  18.147500   41.538889\n",
       "2  Koramangala 5th Block   2504  13.292399   77.751926\n",
       "3               JP Nagar   2235  12.265594   76.646540\n",
       "4             Whitefield   2144  44.373058  -71.611858"
      ]
     },
     "execution_count": 16,
     "metadata": {},
     "output_type": "execute_result"
    }
   ],
   "source": [
    "Restaurant_locations=Rest_locations.merge(locations,on='Name',how=\"left\").dropna()\n",
    "Restaurant_locations.head()"
   ]
  },
  {
   "cell_type": "code",
   "execution_count": 17,
   "metadata": {},
   "outputs": [
    {
     "data": {
      "text/plain": [
       "5124"
      ]
     },
     "execution_count": 17,
     "metadata": {},
     "output_type": "execute_result"
    }
   ],
   "source": [
    "Restaurant_locations['count'].max()"
   ]
  },
  {
   "cell_type": "code",
   "execution_count": null,
   "metadata": {},
   "outputs": [],
   "source": [
    "!pip install folium"
   ]
  },
  {
   "cell_type": "code",
   "execution_count": 18,
   "metadata": {},
   "outputs": [],
   "source": [
    "def generateBaseMap(default_location=[12.97, 77.59], default_zoom_start=12):\n",
    "    base_map = folium.Map(location=default_location, zoom_start=default_zoom_start)\n",
    "    return base_map"
   ]
  },
  {
   "cell_type": "code",
   "execution_count": 19,
   "metadata": {},
   "outputs": [],
   "source": [
    "import folium\n",
    "from folium.plugins import HeatMap\n",
    "basemap=generateBaseMap()"
   ]
  },
  {
   "cell_type": "code",
   "execution_count": 20,
   "metadata": {},
   "outputs": [
    {
     "data": {
      "text/html": [
       "<div style=\"width:100%;\"><div style=\"position:relative;width:100%;height:0;padding-bottom:60%;\"><iframe src=\"about:blank\" style=\"position:absolute;width:100%;height:100%;left:0;top:0;border:none !important;\" data-html=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 onload=\"this.contentDocument.open();this.contentDocument.write(atob(this.getAttribute('data-html')));this.contentDocument.close();\" allowfullscreen webkitallowfullscreen mozallowfullscreen></iframe></div></div>"
      ],
      "text/plain": [
       "<folium.folium.Map at 0x8f81380d88>"
      ]
     },
     "execution_count": 20,
     "metadata": {},
     "output_type": "execute_result"
    }
   ],
   "source": [
    "basemap"
   ]
  },
  {
   "cell_type": "code",
   "execution_count": 21,
   "metadata": {},
   "outputs": [
    {
     "data": {
      "text/html": [
       "<div>\n",
       "<style scoped>\n",
       "    .dataframe tbody tr th:only-of-type {\n",
       "        vertical-align: middle;\n",
       "    }\n",
       "\n",
       "    .dataframe tbody tr th {\n",
       "        vertical-align: top;\n",
       "    }\n",
       "\n",
       "    .dataframe thead th {\n",
       "        text-align: right;\n",
       "    }\n",
       "</style>\n",
       "<table border=\"1\" class=\"dataframe\">\n",
       "  <thead>\n",
       "    <tr style=\"text-align: right;\">\n",
       "      <th></th>\n",
       "      <th>lat</th>\n",
       "      <th>lon</th>\n",
       "      <th>count</th>\n",
       "    </tr>\n",
       "  </thead>\n",
       "  <tbody>\n",
       "    <tr>\n",
       "      <th>0</th>\n",
       "      <td>45.956023</td>\n",
       "      <td>-112.498565</td>\n",
       "      <td>5124</td>\n",
       "    </tr>\n",
       "    <tr>\n",
       "      <th>1</th>\n",
       "      <td>18.147500</td>\n",
       "      <td>41.538889</td>\n",
       "      <td>2523</td>\n",
       "    </tr>\n",
       "    <tr>\n",
       "      <th>2</th>\n",
       "      <td>13.292399</td>\n",
       "      <td>77.751926</td>\n",
       "      <td>2504</td>\n",
       "    </tr>\n",
       "    <tr>\n",
       "      <th>3</th>\n",
       "      <td>12.265594</td>\n",
       "      <td>76.646540</td>\n",
       "      <td>2235</td>\n",
       "    </tr>\n",
       "    <tr>\n",
       "      <th>4</th>\n",
       "      <td>44.373058</td>\n",
       "      <td>-71.611858</td>\n",
       "      <td>2144</td>\n",
       "    </tr>\n",
       "    <tr>\n",
       "      <th>...</th>\n",
       "      <td>...</td>\n",
       "      <td>...</td>\n",
       "      <td>...</td>\n",
       "    </tr>\n",
       "    <tr>\n",
       "      <th>88</th>\n",
       "      <td>13.100698</td>\n",
       "      <td>77.596345</td>\n",
       "      <td>6</td>\n",
       "    </tr>\n",
       "    <tr>\n",
       "      <th>89</th>\n",
       "      <td>12.979120</td>\n",
       "      <td>77.591300</td>\n",
       "      <td>6</td>\n",
       "    </tr>\n",
       "    <tr>\n",
       "      <th>90</th>\n",
       "      <td>13.078474</td>\n",
       "      <td>77.606894</td>\n",
       "      <td>3</td>\n",
       "    </tr>\n",
       "    <tr>\n",
       "      <th>91</th>\n",
       "      <td>12.927441</td>\n",
       "      <td>77.515522</td>\n",
       "      <td>2</td>\n",
       "    </tr>\n",
       "    <tr>\n",
       "      <th>92</th>\n",
       "      <td>13.032942</td>\n",
       "      <td>77.527325</td>\n",
       "      <td>1</td>\n",
       "    </tr>\n",
       "  </tbody>\n",
       "</table>\n",
       "<p>92 rows × 3 columns</p>\n",
       "</div>"
      ],
      "text/plain": [
       "          lat         lon  count\n",
       "0   45.956023 -112.498565   5124\n",
       "1   18.147500   41.538889   2523\n",
       "2   13.292399   77.751926   2504\n",
       "3   12.265594   76.646540   2235\n",
       "4   44.373058  -71.611858   2144\n",
       "..        ...         ...    ...\n",
       "88  13.100698   77.596345      6\n",
       "89  12.979120   77.591300      6\n",
       "90  13.078474   77.606894      3\n",
       "91  12.927441   77.515522      2\n",
       "92  13.032942   77.527325      1\n",
       "\n",
       "[92 rows x 3 columns]"
      ]
     },
     "execution_count": 21,
     "metadata": {},
     "output_type": "execute_result"
    }
   ],
   "source": [
    "Restaurant_locations[['lat','lon','count']]"
   ]
  },
  {
   "cell_type": "markdown",
   "metadata": {},
   "source": [
    "#### Heatmap of Bengalore Restaurants"
   ]
  },
  {
   "cell_type": "code",
   "execution_count": 22,
   "metadata": {},
   "outputs": [
    {
     "data": {
      "text/plain": [
       "<folium.plugins.heat_map.HeatMap at 0x8f81c11d88>"
      ]
     },
     "execution_count": 22,
     "metadata": {},
     "output_type": "execute_result"
    }
   ],
   "source": [
    "HeatMap(Restaurant_locations[['lat','lon','count']],zoom=20,radius=15).add_to(basemap)"
   ]
  },
  {
   "cell_type": "code",
   "execution_count": 23,
   "metadata": {},
   "outputs": [
    {
     "data": {
      "text/html": [
       "<div style=\"width:100%;\"><div style=\"position:relative;width:100%;height:0;padding-bottom:60%;\"><iframe src=\"about:blank\" style=\"position:absolute;width:100%;height:100%;left:0;top:0;border:none !important;\" data-html=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 onload=\"this.contentDocument.open();this.contentDocument.write(atob(this.getAttribute('data-html')));this.contentDocument.close();\" allowfullscreen webkitallowfullscreen mozallowfullscreen></iframe></div></div>"
      ],
      "text/plain": [
       "<folium.folium.Map at 0x8f81380d88>"
      ]
     },
     "execution_count": 23,
     "metadata": {},
     "output_type": "execute_result"
    }
   ],
   "source": [
    "basemap"
   ]
  },
  {
   "cell_type": "raw",
   "metadata": {},
   "source": [
    "It is clear that restaurants tend to concentrate in central bangalore area.\n",
    "The clutter of restaurants lowers are we move away from central.\n",
    "So,potential restaurant entrepreneurs can refer this and find out good locations for their venture.\n",
    "note heatmap is good when we have latitude,longitude or imporatnce of that particular place or count of that place¶"
   ]
  },
  {
   "cell_type": "code",
   "execution_count": null,
   "metadata": {},
   "outputs": [],
   "source": []
  },
  {
   "cell_type": "markdown",
   "metadata": {},
   "source": [
    "##### Geo Analysis: where are the restaurants located in Bengaluru using Marker Cluster?"
   ]
  },
  {
   "cell_type": "code",
   "execution_count": 24,
   "metadata": {},
   "outputs": [],
   "source": [
    "from folium.plugins import FastMarkerCluster"
   ]
  },
  {
   "cell_type": "code",
   "execution_count": 25,
   "metadata": {},
   "outputs": [
    {
     "data": {
      "text/html": [
       "<div style=\"width:100%;\"><div style=\"position:relative;width:100%;height:0;padding-bottom:60%;\"><iframe src=\"about:blank\" style=\"position:absolute;width:100%;height:100%;left:0;top:0;border:none !important;\" data-html=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 onload=\"this.contentDocument.open();this.contentDocument.write(atob(this.getAttribute('data-html')));this.contentDocument.close();\" allowfullscreen webkitallowfullscreen mozallowfullscreen></iframe></div></div>"
      ],
      "text/plain": [
       "<folium.folium.Map at 0x8f81380d88>"
      ]
     },
     "execution_count": 25,
     "metadata": {},
     "output_type": "execute_result"
    }
   ],
   "source": [
    "# Plugin: FastMarkerCluster\n",
    "FastMarkerCluster(data=Restaurant_locations[['lat','lon','count']].values.tolist()).add_to(basemap)\n",
    "\n",
    "basemap"
   ]
  },
  {
   "cell_type": "code",
   "execution_count": null,
   "metadata": {},
   "outputs": [],
   "source": []
  },
  {
   "cell_type": "code",
   "execution_count": null,
   "metadata": {},
   "outputs": [],
   "source": []
  },
  {
   "cell_type": "markdown",
   "metadata": {},
   "source": [
    "#### Heat Map: where are the restaurants with high average rate?"
   ]
  },
  {
   "cell_type": "code",
   "execution_count": 26,
   "metadata": {},
   "outputs": [
    {
     "data": {
      "text/html": [
       "<div>\n",
       "<style scoped>\n",
       "    .dataframe tbody tr th:only-of-type {\n",
       "        vertical-align: middle;\n",
       "    }\n",
       "\n",
       "    .dataframe tbody tr th {\n",
       "        vertical-align: top;\n",
       "    }\n",
       "\n",
       "    .dataframe thead th {\n",
       "        text-align: right;\n",
       "    }\n",
       "</style>\n",
       "<table border=\"1\" class=\"dataframe\">\n",
       "  <thead>\n",
       "    <tr style=\"text-align: right;\">\n",
       "      <th></th>\n",
       "      <th>url</th>\n",
       "      <th>address</th>\n",
       "      <th>name</th>\n",
       "      <th>online_order</th>\n",
       "      <th>book_table</th>\n",
       "      <th>rate</th>\n",
       "      <th>votes</th>\n",
       "      <th>phone</th>\n",
       "      <th>location</th>\n",
       "      <th>rest_type</th>\n",
       "      <th>dish_liked</th>\n",
       "      <th>cuisines</th>\n",
       "      <th>approx_cost(for two people)</th>\n",
       "      <th>reviews_list</th>\n",
       "      <th>menu_item</th>\n",
       "      <th>listed_in(type)</th>\n",
       "      <th>listed_in(city)</th>\n",
       "    </tr>\n",
       "  </thead>\n",
       "  <tbody>\n",
       "    <tr>\n",
       "      <th>0</th>\n",
       "      <td>https://www.zomato.com/bangalore/jalsa-banasha...</td>\n",
       "      <td>942, 21st Main Road, 2nd Stage, Banashankari, ...</td>\n",
       "      <td>Jalsa</td>\n",
       "      <td>Yes</td>\n",
       "      <td>Yes</td>\n",
       "      <td>4.1/5</td>\n",
       "      <td>775</td>\n",
       "      <td>080 42297555\\r\\n+91 9743772233</td>\n",
       "      <td>Banashankari</td>\n",
       "      <td>Casual Dining</td>\n",
       "      <td>Pasta, Lunch Buffet, Masala Papad, Paneer Laja...</td>\n",
       "      <td>North Indian, Mughlai, Chinese</td>\n",
       "      <td>800</td>\n",
       "      <td>[('Rated 4.0', 'RATED\\n  A beautiful place to ...</td>\n",
       "      <td>[]</td>\n",
       "      <td>Buffet</td>\n",
       "      <td>Banashankari</td>\n",
       "    </tr>\n",
       "    <tr>\n",
       "      <th>1</th>\n",
       "      <td>https://www.zomato.com/bangalore/spice-elephan...</td>\n",
       "      <td>2nd Floor, 80 Feet Road, Near Big Bazaar, 6th ...</td>\n",
       "      <td>Spice Elephant</td>\n",
       "      <td>Yes</td>\n",
       "      <td>No</td>\n",
       "      <td>4.1/5</td>\n",
       "      <td>787</td>\n",
       "      <td>080 41714161</td>\n",
       "      <td>Banashankari</td>\n",
       "      <td>Casual Dining</td>\n",
       "      <td>Momos, Lunch Buffet, Chocolate Nirvana, Thai G...</td>\n",
       "      <td>Chinese, North Indian, Thai</td>\n",
       "      <td>800</td>\n",
       "      <td>[('Rated 4.0', 'RATED\\n  Had been here for din...</td>\n",
       "      <td>[]</td>\n",
       "      <td>Buffet</td>\n",
       "      <td>Banashankari</td>\n",
       "    </tr>\n",
       "    <tr>\n",
       "      <th>2</th>\n",
       "      <td>https://www.zomato.com/SanchurroBangalore?cont...</td>\n",
       "      <td>1112, Next to KIMS Medical College, 17th Cross...</td>\n",
       "      <td>San Churro Cafe</td>\n",
       "      <td>Yes</td>\n",
       "      <td>No</td>\n",
       "      <td>3.8/5</td>\n",
       "      <td>918</td>\n",
       "      <td>+91 9663487993</td>\n",
       "      <td>Banashankari</td>\n",
       "      <td>Cafe, Casual Dining</td>\n",
       "      <td>Churros, Cannelloni, Minestrone Soup, Hot Choc...</td>\n",
       "      <td>Cafe, Mexican, Italian</td>\n",
       "      <td>800</td>\n",
       "      <td>[('Rated 3.0', \"RATED\\n  Ambience is not that ...</td>\n",
       "      <td>[]</td>\n",
       "      <td>Buffet</td>\n",
       "      <td>Banashankari</td>\n",
       "    </tr>\n",
       "    <tr>\n",
       "      <th>3</th>\n",
       "      <td>https://www.zomato.com/bangalore/addhuri-udupi...</td>\n",
       "      <td>1st Floor, Annakuteera, 3rd Stage, Banashankar...</td>\n",
       "      <td>Addhuri Udupi Bhojana</td>\n",
       "      <td>No</td>\n",
       "      <td>No</td>\n",
       "      <td>3.7/5</td>\n",
       "      <td>88</td>\n",
       "      <td>+91 9620009302</td>\n",
       "      <td>Banashankari</td>\n",
       "      <td>Quick Bites</td>\n",
       "      <td>Masala Dosa</td>\n",
       "      <td>South Indian, North Indian</td>\n",
       "      <td>300</td>\n",
       "      <td>[('Rated 4.0', \"RATED\\n  Great food and proper...</td>\n",
       "      <td>[]</td>\n",
       "      <td>Buffet</td>\n",
       "      <td>Banashankari</td>\n",
       "    </tr>\n",
       "    <tr>\n",
       "      <th>4</th>\n",
       "      <td>https://www.zomato.com/bangalore/grand-village...</td>\n",
       "      <td>10, 3rd Floor, Lakshmi Associates, Gandhi Baza...</td>\n",
       "      <td>Grand Village</td>\n",
       "      <td>No</td>\n",
       "      <td>No</td>\n",
       "      <td>3.8/5</td>\n",
       "      <td>166</td>\n",
       "      <td>+91 8026612447\\r\\n+91 9901210005</td>\n",
       "      <td>Basavanagudi</td>\n",
       "      <td>Casual Dining</td>\n",
       "      <td>Panipuri, Gol Gappe</td>\n",
       "      <td>North Indian, Rajasthani</td>\n",
       "      <td>600</td>\n",
       "      <td>[('Rated 4.0', 'RATED\\n  Very good restaurant ...</td>\n",
       "      <td>[]</td>\n",
       "      <td>Buffet</td>\n",
       "      <td>Banashankari</td>\n",
       "    </tr>\n",
       "  </tbody>\n",
       "</table>\n",
       "</div>"
      ],
      "text/plain": [
       "                                                 url  \\\n",
       "0  https://www.zomato.com/bangalore/jalsa-banasha...   \n",
       "1  https://www.zomato.com/bangalore/spice-elephan...   \n",
       "2  https://www.zomato.com/SanchurroBangalore?cont...   \n",
       "3  https://www.zomato.com/bangalore/addhuri-udupi...   \n",
       "4  https://www.zomato.com/bangalore/grand-village...   \n",
       "\n",
       "                                             address                   name  \\\n",
       "0  942, 21st Main Road, 2nd Stage, Banashankari, ...                  Jalsa   \n",
       "1  2nd Floor, 80 Feet Road, Near Big Bazaar, 6th ...         Spice Elephant   \n",
       "2  1112, Next to KIMS Medical College, 17th Cross...        San Churro Cafe   \n",
       "3  1st Floor, Annakuteera, 3rd Stage, Banashankar...  Addhuri Udupi Bhojana   \n",
       "4  10, 3rd Floor, Lakshmi Associates, Gandhi Baza...          Grand Village   \n",
       "\n",
       "  online_order book_table   rate  votes                             phone  \\\n",
       "0          Yes        Yes  4.1/5    775    080 42297555\\r\\n+91 9743772233   \n",
       "1          Yes         No  4.1/5    787                      080 41714161   \n",
       "2          Yes         No  3.8/5    918                    +91 9663487993   \n",
       "3           No         No  3.7/5     88                    +91 9620009302   \n",
       "4           No         No  3.8/5    166  +91 8026612447\\r\\n+91 9901210005   \n",
       "\n",
       "       location            rest_type  \\\n",
       "0  Banashankari        Casual Dining   \n",
       "1  Banashankari        Casual Dining   \n",
       "2  Banashankari  Cafe, Casual Dining   \n",
       "3  Banashankari          Quick Bites   \n",
       "4  Basavanagudi        Casual Dining   \n",
       "\n",
       "                                          dish_liked  \\\n",
       "0  Pasta, Lunch Buffet, Masala Papad, Paneer Laja...   \n",
       "1  Momos, Lunch Buffet, Chocolate Nirvana, Thai G...   \n",
       "2  Churros, Cannelloni, Minestrone Soup, Hot Choc...   \n",
       "3                                        Masala Dosa   \n",
       "4                                Panipuri, Gol Gappe   \n",
       "\n",
       "                         cuisines approx_cost(for two people)  \\\n",
       "0  North Indian, Mughlai, Chinese                         800   \n",
       "1     Chinese, North Indian, Thai                         800   \n",
       "2          Cafe, Mexican, Italian                         800   \n",
       "3      South Indian, North Indian                         300   \n",
       "4        North Indian, Rajasthani                         600   \n",
       "\n",
       "                                        reviews_list menu_item  \\\n",
       "0  [('Rated 4.0', 'RATED\\n  A beautiful place to ...        []   \n",
       "1  [('Rated 4.0', 'RATED\\n  Had been here for din...        []   \n",
       "2  [('Rated 3.0', \"RATED\\n  Ambience is not that ...        []   \n",
       "3  [('Rated 4.0', \"RATED\\n  Great food and proper...        []   \n",
       "4  [('Rated 4.0', 'RATED\\n  Very good restaurant ...        []   \n",
       "\n",
       "  listed_in(type) listed_in(city)  \n",
       "0          Buffet    Banashankari  \n",
       "1          Buffet    Banashankari  \n",
       "2          Buffet    Banashankari  \n",
       "3          Buffet    Banashankari  \n",
       "4          Buffet    Banashankari  "
      ]
     },
     "execution_count": 26,
     "metadata": {},
     "output_type": "execute_result"
    }
   ],
   "source": [
    "df.head()"
   ]
  },
  {
   "cell_type": "code",
   "execution_count": 27,
   "metadata": {},
   "outputs": [
    {
     "data": {
      "text/plain": [
       "93"
      ]
     },
     "execution_count": 27,
     "metadata": {},
     "output_type": "execute_result"
    }
   ],
   "source": [
    "len(df['location'].unique())"
   ]
  },
  {
   "cell_type": "code",
   "execution_count": 28,
   "metadata": {},
   "outputs": [
    {
     "data": {
      "text/plain": [
       "array(['4.1/5', '3.8/5', '3.7/5', '3.6/5', '4.6/5', '4.0/5', '4.2/5',\n",
       "       '3.9/5', '3.1/5', '3.0/5', '3.2/5', '3.3/5', '2.8/5', '4.4/5',\n",
       "       '4.3/5', 'NEW', '2.9/5', '3.5/5', nan, '2.6/5', '3.8 /5', '3.4/5',\n",
       "       '4.5/5', '2.5/5', '2.7/5', '4.7/5', '2.4/5', '2.2/5', '2.3/5',\n",
       "       '3.4 /5', '-', '3.6 /5', '4.8/5', '3.9 /5', '4.2 /5', '4.0 /5',\n",
       "       '4.1 /5', '3.7 /5', '3.1 /5', '2.9 /5', '3.3 /5', '2.8 /5',\n",
       "       '3.5 /5', '2.7 /5', '2.5 /5', '3.2 /5', '2.6 /5', '4.5 /5',\n",
       "       '4.3 /5', '4.4 /5', '4.9/5', '2.1/5', '2.0/5', '1.8/5', '4.6 /5',\n",
       "       '4.9 /5', '3.0 /5', '4.8 /5', '2.3 /5', '4.7 /5', '2.4 /5',\n",
       "       '2.1 /5', '2.2 /5', '2.0 /5', '1.8 /5'], dtype=object)"
      ]
     },
     "execution_count": 28,
     "metadata": {},
     "output_type": "execute_result"
    }
   ],
   "source": [
    "df['rate'].unique()"
   ]
  },
  {
   "cell_type": "code",
   "execution_count": 29,
   "metadata": {},
   "outputs": [],
   "source": [
    "df.dropna(axis=0,subset=['rate'],inplace=True)"
   ]
  },
  {
   "cell_type": "code",
   "execution_count": 30,
   "metadata": {},
   "outputs": [
    {
     "data": {
      "text/plain": [
       "array(['4.1/5', '3.8/5', '3.7/5', '3.6/5', '4.6/5', '4.0/5', '4.2/5',\n",
       "       '3.9/5', '3.1/5', '3.0/5', '3.2/5', '3.3/5', '2.8/5', '4.4/5',\n",
       "       '4.3/5', 'NEW', '2.9/5', '3.5/5', '2.6/5', '3.8 /5', '3.4/5',\n",
       "       '4.5/5', '2.5/5', '2.7/5', '4.7/5', '2.4/5', '2.2/5', '2.3/5',\n",
       "       '3.4 /5', '-', '3.6 /5', '4.8/5', '3.9 /5', '4.2 /5', '4.0 /5',\n",
       "       '4.1 /5', '3.7 /5', '3.1 /5', '2.9 /5', '3.3 /5', '2.8 /5',\n",
       "       '3.5 /5', '2.7 /5', '2.5 /5', '3.2 /5', '2.6 /5', '4.5 /5',\n",
       "       '4.3 /5', '4.4 /5', '4.9/5', '2.1/5', '2.0/5', '1.8/5', '4.6 /5',\n",
       "       '4.9 /5', '3.0 /5', '4.8 /5', '2.3 /5', '4.7 /5', '2.4 /5',\n",
       "       '2.1 /5', '2.2 /5', '2.0 /5', '1.8 /5'], dtype=object)"
      ]
     },
     "execution_count": 30,
     "metadata": {},
     "output_type": "execute_result"
    }
   ],
   "source": [
    "df['rate'].unique()"
   ]
  },
  {
   "cell_type": "code",
   "execution_count": 31,
   "metadata": {},
   "outputs": [],
   "source": [
    "def split(x):\n",
    "    return x.split('/')[0]"
   ]
  },
  {
   "cell_type": "code",
   "execution_count": 32,
   "metadata": {},
   "outputs": [],
   "source": [
    "df['rating']=df['rate'].apply(split)"
   ]
  },
  {
   "cell_type": "code",
   "execution_count": 33,
   "metadata": {},
   "outputs": [
    {
     "data": {
      "text/plain": [
       "array(['4.1', '3.8', '3.7', '3.6', '4.6', '4.0', '4.2', '3.9', '3.1',\n",
       "       '3.0', '3.2', '3.3', '2.8', '4.4', '4.3', 'NEW', '2.9', '3.5',\n",
       "       '2.6', '3.8 ', '3.4', '4.5', '2.5', '2.7', '4.7', '2.4', '2.2',\n",
       "       '2.3', '3.4 ', '-', '3.6 ', '4.8', '3.9 ', '4.2 ', '4.0 ', '4.1 ',\n",
       "       '3.7 ', '3.1 ', '2.9 ', '3.3 ', '2.8 ', '3.5 ', '2.7 ', '2.5 ',\n",
       "       '3.2 ', '2.6 ', '4.5 ', '4.3 ', '4.4 ', '4.9', '2.1', '2.0', '1.8',\n",
       "       '4.6 ', '4.9 ', '3.0 ', '4.8 ', '2.3 ', '4.7 ', '2.4 ', '2.1 ',\n",
       "       '2.2 ', '2.0 ', '1.8 '], dtype=object)"
      ]
     },
     "execution_count": 33,
     "metadata": {},
     "output_type": "execute_result"
    }
   ],
   "source": [
    "df['rating'].unique()"
   ]
  },
  {
   "cell_type": "code",
   "execution_count": 34,
   "metadata": {},
   "outputs": [],
   "source": [
    "df.replace('NEW',0,inplace=True)"
   ]
  },
  {
   "cell_type": "code",
   "execution_count": 35,
   "metadata": {},
   "outputs": [],
   "source": [
    "df.replace('-',0,inplace=True)"
   ]
  },
  {
   "cell_type": "code",
   "execution_count": 36,
   "metadata": {},
   "outputs": [
    {
     "data": {
      "text/html": [
       "<div>\n",
       "<style scoped>\n",
       "    .dataframe tbody tr th:only-of-type {\n",
       "        vertical-align: middle;\n",
       "    }\n",
       "\n",
       "    .dataframe tbody tr th {\n",
       "        vertical-align: top;\n",
       "    }\n",
       "\n",
       "    .dataframe thead th {\n",
       "        text-align: right;\n",
       "    }\n",
       "</style>\n",
       "<table border=\"1\" class=\"dataframe\">\n",
       "  <thead>\n",
       "    <tr style=\"text-align: right;\">\n",
       "      <th></th>\n",
       "      <th>url</th>\n",
       "      <th>address</th>\n",
       "      <th>name</th>\n",
       "      <th>online_order</th>\n",
       "      <th>book_table</th>\n",
       "      <th>rate</th>\n",
       "      <th>votes</th>\n",
       "      <th>phone</th>\n",
       "      <th>location</th>\n",
       "      <th>rest_type</th>\n",
       "      <th>dish_liked</th>\n",
       "      <th>cuisines</th>\n",
       "      <th>approx_cost(for two people)</th>\n",
       "      <th>reviews_list</th>\n",
       "      <th>menu_item</th>\n",
       "      <th>listed_in(type)</th>\n",
       "      <th>listed_in(city)</th>\n",
       "      <th>rating</th>\n",
       "    </tr>\n",
       "  </thead>\n",
       "  <tbody>\n",
       "    <tr>\n",
       "      <th>0</th>\n",
       "      <td>https://www.zomato.com/bangalore/jalsa-banasha...</td>\n",
       "      <td>942, 21st Main Road, 2nd Stage, Banashankari, ...</td>\n",
       "      <td>Jalsa</td>\n",
       "      <td>Yes</td>\n",
       "      <td>Yes</td>\n",
       "      <td>4.1/5</td>\n",
       "      <td>775</td>\n",
       "      <td>080 42297555\\r\\n+91 9743772233</td>\n",
       "      <td>Banashankari</td>\n",
       "      <td>Casual Dining</td>\n",
       "      <td>Pasta, Lunch Buffet, Masala Papad, Paneer Laja...</td>\n",
       "      <td>North Indian, Mughlai, Chinese</td>\n",
       "      <td>800</td>\n",
       "      <td>[('Rated 4.0', 'RATED\\n  A beautiful place to ...</td>\n",
       "      <td>[]</td>\n",
       "      <td>Buffet</td>\n",
       "      <td>Banashankari</td>\n",
       "      <td>4.1</td>\n",
       "    </tr>\n",
       "    <tr>\n",
       "      <th>1</th>\n",
       "      <td>https://www.zomato.com/bangalore/spice-elephan...</td>\n",
       "      <td>2nd Floor, 80 Feet Road, Near Big Bazaar, 6th ...</td>\n",
       "      <td>Spice Elephant</td>\n",
       "      <td>Yes</td>\n",
       "      <td>No</td>\n",
       "      <td>4.1/5</td>\n",
       "      <td>787</td>\n",
       "      <td>080 41714161</td>\n",
       "      <td>Banashankari</td>\n",
       "      <td>Casual Dining</td>\n",
       "      <td>Momos, Lunch Buffet, Chocolate Nirvana, Thai G...</td>\n",
       "      <td>Chinese, North Indian, Thai</td>\n",
       "      <td>800</td>\n",
       "      <td>[('Rated 4.0', 'RATED\\n  Had been here for din...</td>\n",
       "      <td>[]</td>\n",
       "      <td>Buffet</td>\n",
       "      <td>Banashankari</td>\n",
       "      <td>4.1</td>\n",
       "    </tr>\n",
       "    <tr>\n",
       "      <th>2</th>\n",
       "      <td>https://www.zomato.com/SanchurroBangalore?cont...</td>\n",
       "      <td>1112, Next to KIMS Medical College, 17th Cross...</td>\n",
       "      <td>San Churro Cafe</td>\n",
       "      <td>Yes</td>\n",
       "      <td>No</td>\n",
       "      <td>3.8/5</td>\n",
       "      <td>918</td>\n",
       "      <td>+91 9663487993</td>\n",
       "      <td>Banashankari</td>\n",
       "      <td>Cafe, Casual Dining</td>\n",
       "      <td>Churros, Cannelloni, Minestrone Soup, Hot Choc...</td>\n",
       "      <td>Cafe, Mexican, Italian</td>\n",
       "      <td>800</td>\n",
       "      <td>[('Rated 3.0', \"RATED\\n  Ambience is not that ...</td>\n",
       "      <td>[]</td>\n",
       "      <td>Buffet</td>\n",
       "      <td>Banashankari</td>\n",
       "      <td>3.8</td>\n",
       "    </tr>\n",
       "    <tr>\n",
       "      <th>3</th>\n",
       "      <td>https://www.zomato.com/bangalore/addhuri-udupi...</td>\n",
       "      <td>1st Floor, Annakuteera, 3rd Stage, Banashankar...</td>\n",
       "      <td>Addhuri Udupi Bhojana</td>\n",
       "      <td>No</td>\n",
       "      <td>No</td>\n",
       "      <td>3.7/5</td>\n",
       "      <td>88</td>\n",
       "      <td>+91 9620009302</td>\n",
       "      <td>Banashankari</td>\n",
       "      <td>Quick Bites</td>\n",
       "      <td>Masala Dosa</td>\n",
       "      <td>South Indian, North Indian</td>\n",
       "      <td>300</td>\n",
       "      <td>[('Rated 4.0', \"RATED\\n  Great food and proper...</td>\n",
       "      <td>[]</td>\n",
       "      <td>Buffet</td>\n",
       "      <td>Banashankari</td>\n",
       "      <td>3.7</td>\n",
       "    </tr>\n",
       "    <tr>\n",
       "      <th>4</th>\n",
       "      <td>https://www.zomato.com/bangalore/grand-village...</td>\n",
       "      <td>10, 3rd Floor, Lakshmi Associates, Gandhi Baza...</td>\n",
       "      <td>Grand Village</td>\n",
       "      <td>No</td>\n",
       "      <td>No</td>\n",
       "      <td>3.8/5</td>\n",
       "      <td>166</td>\n",
       "      <td>+91 8026612447\\r\\n+91 9901210005</td>\n",
       "      <td>Basavanagudi</td>\n",
       "      <td>Casual Dining</td>\n",
       "      <td>Panipuri, Gol Gappe</td>\n",
       "      <td>North Indian, Rajasthani</td>\n",
       "      <td>600</td>\n",
       "      <td>[('Rated 4.0', 'RATED\\n  Very good restaurant ...</td>\n",
       "      <td>[]</td>\n",
       "      <td>Buffet</td>\n",
       "      <td>Banashankari</td>\n",
       "      <td>3.8</td>\n",
       "    </tr>\n",
       "  </tbody>\n",
       "</table>\n",
       "</div>"
      ],
      "text/plain": [
       "                                                 url  \\\n",
       "0  https://www.zomato.com/bangalore/jalsa-banasha...   \n",
       "1  https://www.zomato.com/bangalore/spice-elephan...   \n",
       "2  https://www.zomato.com/SanchurroBangalore?cont...   \n",
       "3  https://www.zomato.com/bangalore/addhuri-udupi...   \n",
       "4  https://www.zomato.com/bangalore/grand-village...   \n",
       "\n",
       "                                             address                   name  \\\n",
       "0  942, 21st Main Road, 2nd Stage, Banashankari, ...                  Jalsa   \n",
       "1  2nd Floor, 80 Feet Road, Near Big Bazaar, 6th ...         Spice Elephant   \n",
       "2  1112, Next to KIMS Medical College, 17th Cross...        San Churro Cafe   \n",
       "3  1st Floor, Annakuteera, 3rd Stage, Banashankar...  Addhuri Udupi Bhojana   \n",
       "4  10, 3rd Floor, Lakshmi Associates, Gandhi Baza...          Grand Village   \n",
       "\n",
       "  online_order book_table   rate  votes                             phone  \\\n",
       "0          Yes        Yes  4.1/5    775    080 42297555\\r\\n+91 9743772233   \n",
       "1          Yes         No  4.1/5    787                      080 41714161   \n",
       "2          Yes         No  3.8/5    918                    +91 9663487993   \n",
       "3           No         No  3.7/5     88                    +91 9620009302   \n",
       "4           No         No  3.8/5    166  +91 8026612447\\r\\n+91 9901210005   \n",
       "\n",
       "       location            rest_type  \\\n",
       "0  Banashankari        Casual Dining   \n",
       "1  Banashankari        Casual Dining   \n",
       "2  Banashankari  Cafe, Casual Dining   \n",
       "3  Banashankari          Quick Bites   \n",
       "4  Basavanagudi        Casual Dining   \n",
       "\n",
       "                                          dish_liked  \\\n",
       "0  Pasta, Lunch Buffet, Masala Papad, Paneer Laja...   \n",
       "1  Momos, Lunch Buffet, Chocolate Nirvana, Thai G...   \n",
       "2  Churros, Cannelloni, Minestrone Soup, Hot Choc...   \n",
       "3                                        Masala Dosa   \n",
       "4                                Panipuri, Gol Gappe   \n",
       "\n",
       "                         cuisines approx_cost(for two people)  \\\n",
       "0  North Indian, Mughlai, Chinese                         800   \n",
       "1     Chinese, North Indian, Thai                         800   \n",
       "2          Cafe, Mexican, Italian                         800   \n",
       "3      South Indian, North Indian                         300   \n",
       "4        North Indian, Rajasthani                         600   \n",
       "\n",
       "                                        reviews_list menu_item  \\\n",
       "0  [('Rated 4.0', 'RATED\\n  A beautiful place to ...        []   \n",
       "1  [('Rated 4.0', 'RATED\\n  Had been here for din...        []   \n",
       "2  [('Rated 3.0', \"RATED\\n  Ambience is not that ...        []   \n",
       "3  [('Rated 4.0', \"RATED\\n  Great food and proper...        []   \n",
       "4  [('Rated 4.0', 'RATED\\n  Very good restaurant ...        []   \n",
       "\n",
       "  listed_in(type) listed_in(city) rating  \n",
       "0          Buffet    Banashankari    4.1  \n",
       "1          Buffet    Banashankari    4.1  \n",
       "2          Buffet    Banashankari    3.8  \n",
       "3          Buffet    Banashankari    3.7  \n",
       "4          Buffet    Banashankari    3.8  "
      ]
     },
     "execution_count": 36,
     "metadata": {},
     "output_type": "execute_result"
    }
   ],
   "source": [
    "df.head()"
   ]
  },
  {
   "cell_type": "code",
   "execution_count": 37,
   "metadata": {},
   "outputs": [
    {
     "ename": "TypeError",
     "evalue": "can only concatenate str (not \"int\") to str",
     "output_type": "error",
     "traceback": [
      "\u001b[1;31m---------------------------------------------------------------------------\u001b[0m",
      "\u001b[1;31mTypeError\u001b[0m                                 Traceback (most recent call last)",
      "\u001b[1;32m<ipython-input-37-cfb156189c63>\u001b[0m in \u001b[0;36m<module>\u001b[1;34m\u001b[0m\n\u001b[1;32m----> 1\u001b[1;33m \u001b[0mdf\u001b[0m\u001b[1;33m.\u001b[0m\u001b[0mgroupby\u001b[0m\u001b[1;33m(\u001b[0m\u001b[1;33m[\u001b[0m\u001b[1;34m'location'\u001b[0m\u001b[1;33m]\u001b[0m\u001b[1;33m)\u001b[0m\u001b[1;33m[\u001b[0m\u001b[1;34m'rating'\u001b[0m\u001b[1;33m]\u001b[0m\u001b[1;33m.\u001b[0m\u001b[0msum\u001b[0m\u001b[1;33m(\u001b[0m\u001b[1;33m)\u001b[0m\u001b[1;33m\u001b[0m\u001b[1;33m\u001b[0m\u001b[0m\n\u001b[0m",
      "\u001b[1;32m~\\Anaconda3\\lib\\site-packages\\pandas\\core\\groupby\\groupby.py\u001b[0m in \u001b[0;36msum\u001b[1;34m(self, numeric_only, min_count)\u001b[0m\n\u001b[0;32m   1538\u001b[0m     \u001b[1;32mdef\u001b[0m \u001b[0msum\u001b[0m\u001b[1;33m(\u001b[0m\u001b[0mself\u001b[0m\u001b[1;33m,\u001b[0m \u001b[0mnumeric_only\u001b[0m\u001b[1;33m:\u001b[0m \u001b[0mbool\u001b[0m \u001b[1;33m=\u001b[0m \u001b[1;32mTrue\u001b[0m\u001b[1;33m,\u001b[0m \u001b[0mmin_count\u001b[0m\u001b[1;33m:\u001b[0m \u001b[0mint\u001b[0m \u001b[1;33m=\u001b[0m \u001b[1;36m0\u001b[0m\u001b[1;33m)\u001b[0m\u001b[1;33m:\u001b[0m\u001b[1;33m\u001b[0m\u001b[1;33m\u001b[0m\u001b[0m\n\u001b[0;32m   1539\u001b[0m         return self._agg_general(\n\u001b[1;32m-> 1540\u001b[1;33m             \u001b[0mnumeric_only\u001b[0m\u001b[1;33m=\u001b[0m\u001b[0mnumeric_only\u001b[0m\u001b[1;33m,\u001b[0m \u001b[0mmin_count\u001b[0m\u001b[1;33m=\u001b[0m\u001b[0mmin_count\u001b[0m\u001b[1;33m,\u001b[0m \u001b[0malias\u001b[0m\u001b[1;33m=\u001b[0m\u001b[1;34m\"add\"\u001b[0m\u001b[1;33m,\u001b[0m \u001b[0mnpfunc\u001b[0m\u001b[1;33m=\u001b[0m\u001b[0mnp\u001b[0m\u001b[1;33m.\u001b[0m\u001b[0msum\u001b[0m\u001b[1;33m\u001b[0m\u001b[1;33m\u001b[0m\u001b[0m\n\u001b[0m\u001b[0;32m   1541\u001b[0m         )\n\u001b[0;32m   1542\u001b[0m \u001b[1;33m\u001b[0m\u001b[0m\n",
      "\u001b[1;32m~\\Anaconda3\\lib\\site-packages\\pandas\\core\\groupby\\groupby.py\u001b[0m in \u001b[0;36m_agg_general\u001b[1;34m(self, numeric_only, min_count, alias, npfunc)\u001b[0m\n\u001b[0;32m   1013\u001b[0m \u001b[1;33m\u001b[0m\u001b[0m\n\u001b[0;32m   1014\u001b[0m         \u001b[1;31m# apply a non-cython aggregation\u001b[0m\u001b[1;33m\u001b[0m\u001b[1;33m\u001b[0m\u001b[1;33m\u001b[0m\u001b[0m\n\u001b[1;32m-> 1015\u001b[1;33m         \u001b[0mresult\u001b[0m \u001b[1;33m=\u001b[0m \u001b[0mself\u001b[0m\u001b[1;33m.\u001b[0m\u001b[0maggregate\u001b[0m\u001b[1;33m(\u001b[0m\u001b[1;32mlambda\u001b[0m \u001b[0mx\u001b[0m\u001b[1;33m:\u001b[0m \u001b[0mnpfunc\u001b[0m\u001b[1;33m(\u001b[0m\u001b[0mx\u001b[0m\u001b[1;33m,\u001b[0m \u001b[0maxis\u001b[0m\u001b[1;33m=\u001b[0m\u001b[0mself\u001b[0m\u001b[1;33m.\u001b[0m\u001b[0maxis\u001b[0m\u001b[1;33m)\u001b[0m\u001b[1;33m)\u001b[0m\u001b[1;33m\u001b[0m\u001b[1;33m\u001b[0m\u001b[0m\n\u001b[0m\u001b[0;32m   1016\u001b[0m         \u001b[1;32mreturn\u001b[0m \u001b[0mresult\u001b[0m\u001b[1;33m\u001b[0m\u001b[1;33m\u001b[0m\u001b[0m\n\u001b[0;32m   1017\u001b[0m \u001b[1;33m\u001b[0m\u001b[0m\n",
      "\u001b[1;32m~\\Anaconda3\\lib\\site-packages\\pandas\\core\\groupby\\generic.py\u001b[0m in \u001b[0;36maggregate\u001b[1;34m(self, func, engine, engine_kwargs, *args, **kwargs)\u001b[0m\n\u001b[0;32m    259\u001b[0m             \u001b[1;32mtry\u001b[0m\u001b[1;33m:\u001b[0m\u001b[1;33m\u001b[0m\u001b[1;33m\u001b[0m\u001b[0m\n\u001b[0;32m    260\u001b[0m                 return self._python_agg_general(\n\u001b[1;32m--> 261\u001b[1;33m                     \u001b[0mfunc\u001b[0m\u001b[1;33m,\u001b[0m \u001b[1;33m*\u001b[0m\u001b[0margs\u001b[0m\u001b[1;33m,\u001b[0m \u001b[0mengine\u001b[0m\u001b[1;33m=\u001b[0m\u001b[0mengine\u001b[0m\u001b[1;33m,\u001b[0m \u001b[0mengine_kwargs\u001b[0m\u001b[1;33m=\u001b[0m\u001b[0mengine_kwargs\u001b[0m\u001b[1;33m,\u001b[0m \u001b[1;33m**\u001b[0m\u001b[0mkwargs\u001b[0m\u001b[1;33m\u001b[0m\u001b[1;33m\u001b[0m\u001b[0m\n\u001b[0m\u001b[0;32m    262\u001b[0m                 )\n\u001b[0;32m    263\u001b[0m             \u001b[1;32mexcept\u001b[0m \u001b[1;33m(\u001b[0m\u001b[0mValueError\u001b[0m\u001b[1;33m,\u001b[0m \u001b[0mKeyError\u001b[0m\u001b[1;33m)\u001b[0m\u001b[1;33m:\u001b[0m\u001b[1;33m\u001b[0m\u001b[1;33m\u001b[0m\u001b[0m\n",
      "\u001b[1;32m~\\Anaconda3\\lib\\site-packages\\pandas\\core\\groupby\\groupby.py\u001b[0m in \u001b[0;36m_python_agg_general\u001b[1;34m(self, func, engine, engine_kwargs, *args, **kwargs)\u001b[0m\n\u001b[0;32m   1090\u001b[0m \u001b[1;33m\u001b[0m\u001b[0m\n\u001b[0;32m   1091\u001b[0m         \u001b[1;32mif\u001b[0m \u001b[0mlen\u001b[0m\u001b[1;33m(\u001b[0m\u001b[0moutput\u001b[0m\u001b[1;33m)\u001b[0m \u001b[1;33m==\u001b[0m \u001b[1;36m0\u001b[0m\u001b[1;33m:\u001b[0m\u001b[1;33m\u001b[0m\u001b[1;33m\u001b[0m\u001b[0m\n\u001b[1;32m-> 1092\u001b[1;33m             \u001b[1;32mreturn\u001b[0m \u001b[0mself\u001b[0m\u001b[1;33m.\u001b[0m\u001b[0m_python_apply_general\u001b[0m\u001b[1;33m(\u001b[0m\u001b[0mf\u001b[0m\u001b[1;33m,\u001b[0m \u001b[0mself\u001b[0m\u001b[1;33m.\u001b[0m\u001b[0m_selected_obj\u001b[0m\u001b[1;33m)\u001b[0m\u001b[1;33m\u001b[0m\u001b[1;33m\u001b[0m\u001b[0m\n\u001b[0m\u001b[0;32m   1093\u001b[0m \u001b[1;33m\u001b[0m\u001b[0m\n\u001b[0;32m   1094\u001b[0m         \u001b[1;32mif\u001b[0m \u001b[0mself\u001b[0m\u001b[1;33m.\u001b[0m\u001b[0mgrouper\u001b[0m\u001b[1;33m.\u001b[0m\u001b[0m_filter_empty_groups\u001b[0m\u001b[1;33m:\u001b[0m\u001b[1;33m\u001b[0m\u001b[1;33m\u001b[0m\u001b[0m\n",
      "\u001b[1;32m~\\Anaconda3\\lib\\site-packages\\pandas\\core\\groupby\\groupby.py\u001b[0m in \u001b[0;36m_python_apply_general\u001b[1;34m(self, f, data)\u001b[0m\n\u001b[0;32m    890\u001b[0m             \u001b[0mdata\u001b[0m \u001b[0mafter\u001b[0m \u001b[0mapplying\u001b[0m \u001b[0mf\u001b[0m\u001b[1;33m\u001b[0m\u001b[1;33m\u001b[0m\u001b[0m\n\u001b[0;32m    891\u001b[0m         \"\"\"\n\u001b[1;32m--> 892\u001b[1;33m         \u001b[0mkeys\u001b[0m\u001b[1;33m,\u001b[0m \u001b[0mvalues\u001b[0m\u001b[1;33m,\u001b[0m \u001b[0mmutated\u001b[0m \u001b[1;33m=\u001b[0m \u001b[0mself\u001b[0m\u001b[1;33m.\u001b[0m\u001b[0mgrouper\u001b[0m\u001b[1;33m.\u001b[0m\u001b[0mapply\u001b[0m\u001b[1;33m(\u001b[0m\u001b[0mf\u001b[0m\u001b[1;33m,\u001b[0m \u001b[0mdata\u001b[0m\u001b[1;33m,\u001b[0m \u001b[0mself\u001b[0m\u001b[1;33m.\u001b[0m\u001b[0maxis\u001b[0m\u001b[1;33m)\u001b[0m\u001b[1;33m\u001b[0m\u001b[1;33m\u001b[0m\u001b[0m\n\u001b[0m\u001b[0;32m    893\u001b[0m \u001b[1;33m\u001b[0m\u001b[0m\n\u001b[0;32m    894\u001b[0m         return self._wrap_applied_output(\n",
      "\u001b[1;32m~\\Anaconda3\\lib\\site-packages\\pandas\\core\\groupby\\ops.py\u001b[0m in \u001b[0;36mapply\u001b[1;34m(self, f, data, axis)\u001b[0m\n\u001b[0;32m    211\u001b[0m             \u001b[1;31m# group might be modified\u001b[0m\u001b[1;33m\u001b[0m\u001b[1;33m\u001b[0m\u001b[1;33m\u001b[0m\u001b[0m\n\u001b[0;32m    212\u001b[0m             \u001b[0mgroup_axes\u001b[0m \u001b[1;33m=\u001b[0m \u001b[0mgroup\u001b[0m\u001b[1;33m.\u001b[0m\u001b[0maxes\u001b[0m\u001b[1;33m\u001b[0m\u001b[1;33m\u001b[0m\u001b[0m\n\u001b[1;32m--> 213\u001b[1;33m             \u001b[0mres\u001b[0m \u001b[1;33m=\u001b[0m \u001b[0mf\u001b[0m\u001b[1;33m(\u001b[0m\u001b[0mgroup\u001b[0m\u001b[1;33m)\u001b[0m\u001b[1;33m\u001b[0m\u001b[1;33m\u001b[0m\u001b[0m\n\u001b[0m\u001b[0;32m    214\u001b[0m             \u001b[1;32mif\u001b[0m \u001b[1;32mnot\u001b[0m \u001b[0m_is_indexed_like\u001b[0m\u001b[1;33m(\u001b[0m\u001b[0mres\u001b[0m\u001b[1;33m,\u001b[0m \u001b[0mgroup_axes\u001b[0m\u001b[1;33m)\u001b[0m\u001b[1;33m:\u001b[0m\u001b[1;33m\u001b[0m\u001b[1;33m\u001b[0m\u001b[0m\n\u001b[0;32m    215\u001b[0m                 \u001b[0mmutated\u001b[0m \u001b[1;33m=\u001b[0m \u001b[1;32mTrue\u001b[0m\u001b[1;33m\u001b[0m\u001b[1;33m\u001b[0m\u001b[0m\n",
      "\u001b[1;32m~\\Anaconda3\\lib\\site-packages\\pandas\\core\\groupby\\groupby.py\u001b[0m in \u001b[0;36m<lambda>\u001b[1;34m(x)\u001b[0m\n\u001b[0;32m   1058\u001b[0m         \u001b[0mfunc\u001b[0m \u001b[1;33m=\u001b[0m \u001b[0mself\u001b[0m\u001b[1;33m.\u001b[0m\u001b[0m_is_builtin_func\u001b[0m\u001b[1;33m(\u001b[0m\u001b[0mfunc\u001b[0m\u001b[1;33m)\u001b[0m\u001b[1;33m\u001b[0m\u001b[1;33m\u001b[0m\u001b[0m\n\u001b[0;32m   1059\u001b[0m         \u001b[1;32mif\u001b[0m \u001b[0mengine\u001b[0m \u001b[1;33m!=\u001b[0m \u001b[1;34m\"numba\"\u001b[0m\u001b[1;33m:\u001b[0m\u001b[1;33m\u001b[0m\u001b[1;33m\u001b[0m\u001b[0m\n\u001b[1;32m-> 1060\u001b[1;33m             \u001b[0mf\u001b[0m \u001b[1;33m=\u001b[0m \u001b[1;32mlambda\u001b[0m \u001b[0mx\u001b[0m\u001b[1;33m:\u001b[0m \u001b[0mfunc\u001b[0m\u001b[1;33m(\u001b[0m\u001b[0mx\u001b[0m\u001b[1;33m,\u001b[0m \u001b[1;33m*\u001b[0m\u001b[0margs\u001b[0m\u001b[1;33m,\u001b[0m \u001b[1;33m**\u001b[0m\u001b[0mkwargs\u001b[0m\u001b[1;33m)\u001b[0m\u001b[1;33m\u001b[0m\u001b[1;33m\u001b[0m\u001b[0m\n\u001b[0m\u001b[0;32m   1061\u001b[0m \u001b[1;33m\u001b[0m\u001b[0m\n\u001b[0;32m   1062\u001b[0m         \u001b[1;31m# iterate through \"columns\" ex exclusions to populate output dict\u001b[0m\u001b[1;33m\u001b[0m\u001b[1;33m\u001b[0m\u001b[1;33m\u001b[0m\u001b[0m\n",
      "\u001b[1;32m~\\Anaconda3\\lib\\site-packages\\pandas\\core\\groupby\\groupby.py\u001b[0m in \u001b[0;36m<lambda>\u001b[1;34m(x)\u001b[0m\n\u001b[0;32m   1013\u001b[0m \u001b[1;33m\u001b[0m\u001b[0m\n\u001b[0;32m   1014\u001b[0m         \u001b[1;31m# apply a non-cython aggregation\u001b[0m\u001b[1;33m\u001b[0m\u001b[1;33m\u001b[0m\u001b[1;33m\u001b[0m\u001b[0m\n\u001b[1;32m-> 1015\u001b[1;33m         \u001b[0mresult\u001b[0m \u001b[1;33m=\u001b[0m \u001b[0mself\u001b[0m\u001b[1;33m.\u001b[0m\u001b[0maggregate\u001b[0m\u001b[1;33m(\u001b[0m\u001b[1;32mlambda\u001b[0m \u001b[0mx\u001b[0m\u001b[1;33m:\u001b[0m \u001b[0mnpfunc\u001b[0m\u001b[1;33m(\u001b[0m\u001b[0mx\u001b[0m\u001b[1;33m,\u001b[0m \u001b[0maxis\u001b[0m\u001b[1;33m=\u001b[0m\u001b[0mself\u001b[0m\u001b[1;33m.\u001b[0m\u001b[0maxis\u001b[0m\u001b[1;33m)\u001b[0m\u001b[1;33m)\u001b[0m\u001b[1;33m\u001b[0m\u001b[1;33m\u001b[0m\u001b[0m\n\u001b[0m\u001b[0;32m   1016\u001b[0m         \u001b[1;32mreturn\u001b[0m \u001b[0mresult\u001b[0m\u001b[1;33m\u001b[0m\u001b[1;33m\u001b[0m\u001b[0m\n\u001b[0;32m   1017\u001b[0m \u001b[1;33m\u001b[0m\u001b[0m\n",
      "\u001b[1;32m<__array_function__ internals>\u001b[0m in \u001b[0;36msum\u001b[1;34m(*args, **kwargs)\u001b[0m\n",
      "\u001b[1;32m~\\Anaconda3\\lib\\site-packages\\numpy\\core\\fromnumeric.py\u001b[0m in \u001b[0;36msum\u001b[1;34m(a, axis, dtype, out, keepdims, initial, where)\u001b[0m\n\u001b[0;32m   2240\u001b[0m \u001b[1;33m\u001b[0m\u001b[0m\n\u001b[0;32m   2241\u001b[0m     return _wrapreduction(a, np.add, 'sum', axis, dtype, out, keepdims=keepdims,\n\u001b[1;32m-> 2242\u001b[1;33m                           initial=initial, where=where)\n\u001b[0m\u001b[0;32m   2243\u001b[0m \u001b[1;33m\u001b[0m\u001b[0m\n\u001b[0;32m   2244\u001b[0m \u001b[1;33m\u001b[0m\u001b[0m\n",
      "\u001b[1;32m~\\Anaconda3\\lib\\site-packages\\numpy\\core\\fromnumeric.py\u001b[0m in \u001b[0;36m_wrapreduction\u001b[1;34m(obj, ufunc, method, axis, dtype, out, **kwargs)\u001b[0m\n\u001b[0;32m     83\u001b[0m                 \u001b[1;32mreturn\u001b[0m \u001b[0mreduction\u001b[0m\u001b[1;33m(\u001b[0m\u001b[0maxis\u001b[0m\u001b[1;33m=\u001b[0m\u001b[0maxis\u001b[0m\u001b[1;33m,\u001b[0m \u001b[0mdtype\u001b[0m\u001b[1;33m=\u001b[0m\u001b[0mdtype\u001b[0m\u001b[1;33m,\u001b[0m \u001b[0mout\u001b[0m\u001b[1;33m=\u001b[0m\u001b[0mout\u001b[0m\u001b[1;33m,\u001b[0m \u001b[1;33m**\u001b[0m\u001b[0mpasskwargs\u001b[0m\u001b[1;33m)\u001b[0m\u001b[1;33m\u001b[0m\u001b[1;33m\u001b[0m\u001b[0m\n\u001b[0;32m     84\u001b[0m             \u001b[1;32melse\u001b[0m\u001b[1;33m:\u001b[0m\u001b[1;33m\u001b[0m\u001b[1;33m\u001b[0m\u001b[0m\n\u001b[1;32m---> 85\u001b[1;33m                 \u001b[1;32mreturn\u001b[0m \u001b[0mreduction\u001b[0m\u001b[1;33m(\u001b[0m\u001b[0maxis\u001b[0m\u001b[1;33m=\u001b[0m\u001b[0maxis\u001b[0m\u001b[1;33m,\u001b[0m \u001b[0mout\u001b[0m\u001b[1;33m=\u001b[0m\u001b[0mout\u001b[0m\u001b[1;33m,\u001b[0m \u001b[1;33m**\u001b[0m\u001b[0mpasskwargs\u001b[0m\u001b[1;33m)\u001b[0m\u001b[1;33m\u001b[0m\u001b[1;33m\u001b[0m\u001b[0m\n\u001b[0m\u001b[0;32m     86\u001b[0m \u001b[1;33m\u001b[0m\u001b[0m\n\u001b[0;32m     87\u001b[0m     \u001b[1;32mreturn\u001b[0m \u001b[0mufunc\u001b[0m\u001b[1;33m.\u001b[0m\u001b[0mreduce\u001b[0m\u001b[1;33m(\u001b[0m\u001b[0mobj\u001b[0m\u001b[1;33m,\u001b[0m \u001b[0maxis\u001b[0m\u001b[1;33m,\u001b[0m \u001b[0mdtype\u001b[0m\u001b[1;33m,\u001b[0m \u001b[0mout\u001b[0m\u001b[1;33m,\u001b[0m \u001b[1;33m**\u001b[0m\u001b[0mpasskwargs\u001b[0m\u001b[1;33m)\u001b[0m\u001b[1;33m\u001b[0m\u001b[1;33m\u001b[0m\u001b[0m\n",
      "\u001b[1;32m~\\Anaconda3\\lib\\site-packages\\pandas\\core\\generic.py\u001b[0m in \u001b[0;36mstat_func\u001b[1;34m(self, axis, skipna, level, numeric_only, min_count, **kwargs)\u001b[0m\n\u001b[0;32m  11426\u001b[0m             \u001b[0mskipna\u001b[0m\u001b[1;33m=\u001b[0m\u001b[0mskipna\u001b[0m\u001b[1;33m,\u001b[0m\u001b[1;33m\u001b[0m\u001b[1;33m\u001b[0m\u001b[0m\n\u001b[0;32m  11427\u001b[0m             \u001b[0mnumeric_only\u001b[0m\u001b[1;33m=\u001b[0m\u001b[0mnumeric_only\u001b[0m\u001b[1;33m,\u001b[0m\u001b[1;33m\u001b[0m\u001b[1;33m\u001b[0m\u001b[0m\n\u001b[1;32m> 11428\u001b[1;33m             \u001b[0mmin_count\u001b[0m\u001b[1;33m=\u001b[0m\u001b[0mmin_count\u001b[0m\u001b[1;33m,\u001b[0m\u001b[1;33m\u001b[0m\u001b[1;33m\u001b[0m\u001b[0m\n\u001b[0m\u001b[0;32m  11429\u001b[0m         )\n\u001b[0;32m  11430\u001b[0m \u001b[1;33m\u001b[0m\u001b[0m\n",
      "\u001b[1;32m~\\Anaconda3\\lib\\site-packages\\pandas\\core\\series.py\u001b[0m in \u001b[0;36m_reduce\u001b[1;34m(self, op, name, axis, skipna, numeric_only, filter_type, **kwds)\u001b[0m\n\u001b[0;32m   4234\u001b[0m                 )\n\u001b[0;32m   4235\u001b[0m             \u001b[1;32mwith\u001b[0m \u001b[0mnp\u001b[0m\u001b[1;33m.\u001b[0m\u001b[0merrstate\u001b[0m\u001b[1;33m(\u001b[0m\u001b[0mall\u001b[0m\u001b[1;33m=\u001b[0m\u001b[1;34m\"ignore\"\u001b[0m\u001b[1;33m)\u001b[0m\u001b[1;33m:\u001b[0m\u001b[1;33m\u001b[0m\u001b[1;33m\u001b[0m\u001b[0m\n\u001b[1;32m-> 4236\u001b[1;33m                 \u001b[1;32mreturn\u001b[0m \u001b[0mop\u001b[0m\u001b[1;33m(\u001b[0m\u001b[0mdelegate\u001b[0m\u001b[1;33m,\u001b[0m \u001b[0mskipna\u001b[0m\u001b[1;33m=\u001b[0m\u001b[0mskipna\u001b[0m\u001b[1;33m,\u001b[0m \u001b[1;33m**\u001b[0m\u001b[0mkwds\u001b[0m\u001b[1;33m)\u001b[0m\u001b[1;33m\u001b[0m\u001b[1;33m\u001b[0m\u001b[0m\n\u001b[0m\u001b[0;32m   4237\u001b[0m \u001b[1;33m\u001b[0m\u001b[0m\n\u001b[0;32m   4238\u001b[0m     \u001b[1;32mdef\u001b[0m \u001b[0m_reindex_indexer\u001b[0m\u001b[1;33m(\u001b[0m\u001b[0mself\u001b[0m\u001b[1;33m,\u001b[0m \u001b[0mnew_index\u001b[0m\u001b[1;33m,\u001b[0m \u001b[0mindexer\u001b[0m\u001b[1;33m,\u001b[0m \u001b[0mcopy\u001b[0m\u001b[1;33m)\u001b[0m\u001b[1;33m:\u001b[0m\u001b[1;33m\u001b[0m\u001b[1;33m\u001b[0m\u001b[0m\n",
      "\u001b[1;32m~\\Anaconda3\\lib\\site-packages\\pandas\\core\\nanops.py\u001b[0m in \u001b[0;36m_f\u001b[1;34m(*args, **kwargs)\u001b[0m\n\u001b[0;32m     69\u001b[0m             \u001b[1;32mtry\u001b[0m\u001b[1;33m:\u001b[0m\u001b[1;33m\u001b[0m\u001b[1;33m\u001b[0m\u001b[0m\n\u001b[0;32m     70\u001b[0m                 \u001b[1;32mwith\u001b[0m \u001b[0mnp\u001b[0m\u001b[1;33m.\u001b[0m\u001b[0merrstate\u001b[0m\u001b[1;33m(\u001b[0m\u001b[0minvalid\u001b[0m\u001b[1;33m=\u001b[0m\u001b[1;34m\"ignore\"\u001b[0m\u001b[1;33m)\u001b[0m\u001b[1;33m:\u001b[0m\u001b[1;33m\u001b[0m\u001b[1;33m\u001b[0m\u001b[0m\n\u001b[1;32m---> 71\u001b[1;33m                     \u001b[1;32mreturn\u001b[0m \u001b[0mf\u001b[0m\u001b[1;33m(\u001b[0m\u001b[1;33m*\u001b[0m\u001b[0margs\u001b[0m\u001b[1;33m,\u001b[0m \u001b[1;33m**\u001b[0m\u001b[0mkwargs\u001b[0m\u001b[1;33m)\u001b[0m\u001b[1;33m\u001b[0m\u001b[1;33m\u001b[0m\u001b[0m\n\u001b[0m\u001b[0;32m     72\u001b[0m             \u001b[1;32mexcept\u001b[0m \u001b[0mValueError\u001b[0m \u001b[1;32mas\u001b[0m \u001b[0me\u001b[0m\u001b[1;33m:\u001b[0m\u001b[1;33m\u001b[0m\u001b[1;33m\u001b[0m\u001b[0m\n\u001b[0;32m     73\u001b[0m                 \u001b[1;31m# we want to transform an object array\u001b[0m\u001b[1;33m\u001b[0m\u001b[1;33m\u001b[0m\u001b[1;33m\u001b[0m\u001b[0m\n",
      "\u001b[1;32m~\\Anaconda3\\lib\\site-packages\\pandas\\core\\nanops.py\u001b[0m in \u001b[0;36mnansum\u001b[1;34m(values, axis, skipna, min_count, mask)\u001b[0m\n\u001b[0;32m    507\u001b[0m     \u001b[1;32melif\u001b[0m \u001b[0mis_timedelta64_dtype\u001b[0m\u001b[1;33m(\u001b[0m\u001b[0mdtype\u001b[0m\u001b[1;33m)\u001b[0m\u001b[1;33m:\u001b[0m\u001b[1;33m\u001b[0m\u001b[1;33m\u001b[0m\u001b[0m\n\u001b[0;32m    508\u001b[0m         \u001b[0mdtype_sum\u001b[0m \u001b[1;33m=\u001b[0m \u001b[0mnp\u001b[0m\u001b[1;33m.\u001b[0m\u001b[0mfloat64\u001b[0m\u001b[1;33m\u001b[0m\u001b[1;33m\u001b[0m\u001b[0m\n\u001b[1;32m--> 509\u001b[1;33m     \u001b[0mthe_sum\u001b[0m \u001b[1;33m=\u001b[0m \u001b[0mvalues\u001b[0m\u001b[1;33m.\u001b[0m\u001b[0msum\u001b[0m\u001b[1;33m(\u001b[0m\u001b[0maxis\u001b[0m\u001b[1;33m,\u001b[0m \u001b[0mdtype\u001b[0m\u001b[1;33m=\u001b[0m\u001b[0mdtype_sum\u001b[0m\u001b[1;33m)\u001b[0m\u001b[1;33m\u001b[0m\u001b[1;33m\u001b[0m\u001b[0m\n\u001b[0m\u001b[0;32m    510\u001b[0m     \u001b[0mthe_sum\u001b[0m \u001b[1;33m=\u001b[0m \u001b[0m_maybe_null_out\u001b[0m\u001b[1;33m(\u001b[0m\u001b[0mthe_sum\u001b[0m\u001b[1;33m,\u001b[0m \u001b[0maxis\u001b[0m\u001b[1;33m,\u001b[0m \u001b[0mmask\u001b[0m\u001b[1;33m,\u001b[0m \u001b[0mvalues\u001b[0m\u001b[1;33m.\u001b[0m\u001b[0mshape\u001b[0m\u001b[1;33m,\u001b[0m \u001b[0mmin_count\u001b[0m\u001b[1;33m=\u001b[0m\u001b[0mmin_count\u001b[0m\u001b[1;33m)\u001b[0m\u001b[1;33m\u001b[0m\u001b[1;33m\u001b[0m\u001b[0m\n\u001b[0;32m    511\u001b[0m \u001b[1;33m\u001b[0m\u001b[0m\n",
      "\u001b[1;32m~\\Anaconda3\\lib\\site-packages\\numpy\\core\\_methods.py\u001b[0m in \u001b[0;36m_sum\u001b[1;34m(a, axis, dtype, out, keepdims, initial, where)\u001b[0m\n\u001b[0;32m     45\u001b[0m def _sum(a, axis=None, dtype=None, out=None, keepdims=False,\n\u001b[0;32m     46\u001b[0m          initial=_NoValue, where=True):\n\u001b[1;32m---> 47\u001b[1;33m     \u001b[1;32mreturn\u001b[0m \u001b[0mumr_sum\u001b[0m\u001b[1;33m(\u001b[0m\u001b[0ma\u001b[0m\u001b[1;33m,\u001b[0m \u001b[0maxis\u001b[0m\u001b[1;33m,\u001b[0m \u001b[0mdtype\u001b[0m\u001b[1;33m,\u001b[0m \u001b[0mout\u001b[0m\u001b[1;33m,\u001b[0m \u001b[0mkeepdims\u001b[0m\u001b[1;33m,\u001b[0m \u001b[0minitial\u001b[0m\u001b[1;33m,\u001b[0m \u001b[0mwhere\u001b[0m\u001b[1;33m)\u001b[0m\u001b[1;33m\u001b[0m\u001b[1;33m\u001b[0m\u001b[0m\n\u001b[0m\u001b[0;32m     48\u001b[0m \u001b[1;33m\u001b[0m\u001b[0m\n\u001b[0;32m     49\u001b[0m def _prod(a, axis=None, dtype=None, out=None, keepdims=False,\n",
      "\u001b[1;31mTypeError\u001b[0m: can only concatenate str (not \"int\") to str"
     ]
    }
   ],
   "source": [
    "df.groupby(['location'])['rating'].sum()"
   ]
  },
  {
   "cell_type": "code",
   "execution_count": 38,
   "metadata": {},
   "outputs": [
    {
     "data": {
      "text/plain": [
       "url                            object\n",
       "address                        object\n",
       "name                           object\n",
       "online_order                   object\n",
       "book_table                     object\n",
       "rate                           object\n",
       "votes                           int64\n",
       "phone                          object\n",
       "location                       object\n",
       "rest_type                      object\n",
       "dish_liked                     object\n",
       "cuisines                       object\n",
       "approx_cost(for two people)    object\n",
       "reviews_list                   object\n",
       "menu_item                      object\n",
       "listed_in(type)                object\n",
       "listed_in(city)                object\n",
       "rating                         object\n",
       "dtype: object"
      ]
     },
     "execution_count": 38,
     "metadata": {},
     "output_type": "execute_result"
    }
   ],
   "source": [
    "df.dtypes"
   ]
  },
  {
   "cell_type": "code",
   "execution_count": 39,
   "metadata": {},
   "outputs": [],
   "source": [
    "df['rating']=pd.to_numeric(df['rating'])"
   ]
  },
  {
   "cell_type": "code",
   "execution_count": 40,
   "metadata": {},
   "outputs": [
    {
     "data": {
      "text/plain": [
       "dtype('float64')"
      ]
     },
     "execution_count": 40,
     "metadata": {},
     "output_type": "execute_result"
    }
   ],
   "source": [
    "df['rating'].dtype"
   ]
  },
  {
   "cell_type": "code",
   "execution_count": 41,
   "metadata": {},
   "outputs": [
    {
     "data": {
      "text/plain": [
       "location\n",
       "Lavelle Road             4.042886\n",
       "St. Marks Road           4.017201\n",
       "Koramangala 3rd Block    3.978756\n",
       "Sankey Road              3.965385\n",
       "Church Street            3.963091\n",
       "                           ...   \n",
       "Electronic City          3.041909\n",
       "Bommanahalli             2.926752\n",
       "Hebbal                   2.880000\n",
       "North Bangalore          2.385714\n",
       "West Bangalore           2.020000\n",
       "Name: rating, Length: 92, dtype: float64"
      ]
     },
     "execution_count": 41,
     "metadata": {},
     "output_type": "execute_result"
    }
   ],
   "source": [
    "df.groupby(['location'])['rating'].mean().sort_values(ascending=False)"
   ]
  },
  {
   "cell_type": "code",
   "execution_count": 42,
   "metadata": {},
   "outputs": [
    {
     "data": {
      "text/plain": [
       "location\n",
       "BTM                  3.296128\n",
       "Banashankari         3.373292\n",
       "Banaswadi            3.362926\n",
       "Bannerghatta Road    3.271677\n",
       "Basavanagudi         3.478185\n",
       "                       ...   \n",
       "West Bangalore       2.020000\n",
       "Whitefield           3.384170\n",
       "Wilson Garden        3.257635\n",
       "Yelahanka            3.640000\n",
       "Yeshwantpur          3.502679\n",
       "Name: rating, Length: 92, dtype: float64"
      ]
     },
     "execution_count": 42,
     "metadata": {},
     "output_type": "execute_result"
    }
   ],
   "source": [
    "df.groupby(['location'])['rating'].mean()"
   ]
  },
  {
   "cell_type": "code",
   "execution_count": 43,
   "metadata": {},
   "outputs": [],
   "source": [
    "avg_rating=df.groupby(['location'])['rating'].mean().values"
   ]
  },
  {
   "cell_type": "code",
   "execution_count": 44,
   "metadata": {},
   "outputs": [
    {
     "data": {
      "text/plain": [
       "array([3.29612767, 3.37329193, 3.36292585, 3.27167674, 3.47818471,\n",
       "       3.44551724, 3.30983302, 2.92675159, 3.59584871, 3.3746988 ,\n",
       "       3.21515152, 3.625     , 3.96309091, 3.44615385, 3.10970874,\n",
       "       3.90105263, 3.38554779, 3.24333333, 3.05472973, 3.04190871,\n",
       "       3.56487889, 3.27927928, 3.48406955, 2.88      , 3.09389313,\n",
       "       3.68783784, 3.3202381 , 3.65216942, 3.79642857, 3.41292591,\n",
       "       3.48695652, 3.61525029, 3.42977099, 3.21818182, 3.47362637,\n",
       "       3.52914439, 3.49980952, 3.47894737, 3.72222222, 3.60645161,\n",
       "       3.26393782, 3.54565217, 3.97875648, 3.81435185, 3.90151197,\n",
       "       3.66246625, 3.74784206, 3.6075    , 3.3202381 , 3.80740741,\n",
       "       4.04288577, 3.74055024, 3.4375    , 3.2940678 , 3.66823708,\n",
       "       3.40053227, 3.45555556, 3.4       , 3.33333333, 3.583174  ,\n",
       "       2.38571429, 3.38911917, 3.18181818, 3.2       , 3.278125  ,\n",
       "       3.7270073 , 3.42238193, 3.85      , 3.10714286, 3.84457237,\n",
       "       3.68801262, 3.83965517, 3.4787234 , 3.36      , 3.96538462,\n",
       "       3.47355822, 3.70492958, 3.32358974, 3.49891697, 3.41978022,\n",
       "       4.01720117, 3.09539474, 3.54139845, 3.51111111, 3.29892473,\n",
       "       3.58095238, 3.24929577, 2.02      , 3.38417011, 3.25763547,\n",
       "       3.64      , 3.50267857])"
      ]
     },
     "execution_count": 44,
     "metadata": {},
     "output_type": "execute_result"
    }
   ],
   "source": [
    "avg_rating"
   ]
  },
  {
   "cell_type": "code",
   "execution_count": 45,
   "metadata": {},
   "outputs": [
    {
     "data": {
      "text/plain": [
       "Index(['BTM', 'Banashankari', 'Banaswadi', 'Bannerghatta Road', 'Basavanagudi',\n",
       "       'Basaveshwara Nagar', 'Bellandur', 'Bommanahalli', 'Brigade Road',\n",
       "       'Brookefield', 'CV Raman Nagar', 'Central Bangalore', 'Church Street',\n",
       "       'City Market', 'Commercial Street', 'Cunningham Road', 'Domlur',\n",
       "       'East Bangalore', 'Ejipura', 'Electronic City', 'Frazer Town',\n",
       "       'HBR Layout', 'HSR', 'Hebbal', 'Hennur', 'Hosur Road',\n",
       "       'ITPL Main Road, Whitefield', 'Indiranagar', 'Infantry Road',\n",
       "       'JP Nagar', 'Jalahalli', 'Jayanagar', 'Jeevan Bhima Nagar', 'KR Puram',\n",
       "       'Kaggadasapura', 'Kalyan Nagar', 'Kammanahalli', 'Kanakapura Road',\n",
       "       'Kengeri', 'Koramangala', 'Koramangala 1st Block',\n",
       "       'Koramangala 2nd Block', 'Koramangala 3rd Block',\n",
       "       'Koramangala 4th Block', 'Koramangala 5th Block',\n",
       "       'Koramangala 6th Block', 'Koramangala 7th Block',\n",
       "       'Koramangala 8th Block', 'Kumaraswamy Layout', 'Langford Town',\n",
       "       'Lavelle Road', 'MG Road', 'Magadi Road', 'Majestic', 'Malleshwaram',\n",
       "       'Marathahalli', 'Mysore Road', 'Nagarbhavi', 'Nagawara', 'New BEL Road',\n",
       "       'North Bangalore', 'Old Airport Road', 'Old Madras Road', 'Peenya',\n",
       "       'RT Nagar', 'Race Course Road', 'Rajajinagar', 'Rajarajeshwari Nagar',\n",
       "       'Rammurthy Nagar', 'Residency Road', 'Richmond Road', 'Sadashiv Nagar',\n",
       "       'Sahakara Nagar', 'Sanjay Nagar', 'Sankey Road', 'Sarjapur Road',\n",
       "       'Seshadripuram', 'Shanti Nagar', 'Shivajinagar', 'South Bangalore',\n",
       "       'St. Marks Road', 'Thippasandra', 'Ulsoor', 'Uttarahalli',\n",
       "       'Varthur Main Road, Whitefield', 'Vasanth Nagar', 'Vijay Nagar',\n",
       "       'West Bangalore', 'Whitefield', 'Wilson Garden', 'Yelahanka',\n",
       "       'Yeshwantpur'],\n",
       "      dtype='object', name='location')"
      ]
     },
     "execution_count": 45,
     "metadata": {},
     "output_type": "execute_result"
    }
   ],
   "source": [
    "loc=df.groupby(['location'])['rating'].mean().index\n",
    "loc"
   ]
  },
  {
   "cell_type": "code",
   "execution_count": 46,
   "metadata": {},
   "outputs": [],
   "source": [
    "geolocator=Nominatim(user_agent=\"app\")"
   ]
  },
  {
   "cell_type": "code",
   "execution_count": 47,
   "metadata": {},
   "outputs": [],
   "source": [
    "lat=[]\n",
    "lon=[]\n",
    "for location in loc:\n",
    "    location = geolocator.geocode(location)    \n",
    "    if location is None:\n",
    "        lat.append(np.nan)\n",
    "        lon.append(np.nan)\n",
    "    else:\n",
    "        lat.append(location.latitude)\n",
    "        lon.append(location.longitude)"
   ]
  },
  {
   "cell_type": "code",
   "execution_count": 48,
   "metadata": {},
   "outputs": [],
   "source": [
    "rating=pd.DataFrame()"
   ]
  },
  {
   "cell_type": "code",
   "execution_count": 49,
   "metadata": {},
   "outputs": [],
   "source": [
    "rating['location']=loc\n",
    "rating['lat']=lat\n",
    "rating['lon']=lon\n",
    "rating['avg_rating']=avg_rating"
   ]
  },
  {
   "cell_type": "code",
   "execution_count": 50,
   "metadata": {},
   "outputs": [
    {
     "data": {
      "text/html": [
       "<div>\n",
       "<style scoped>\n",
       "    .dataframe tbody tr th:only-of-type {\n",
       "        vertical-align: middle;\n",
       "    }\n",
       "\n",
       "    .dataframe tbody tr th {\n",
       "        vertical-align: top;\n",
       "    }\n",
       "\n",
       "    .dataframe thead th {\n",
       "        text-align: right;\n",
       "    }\n",
       "</style>\n",
       "<table border=\"1\" class=\"dataframe\">\n",
       "  <thead>\n",
       "    <tr style=\"text-align: right;\">\n",
       "      <th></th>\n",
       "      <th>location</th>\n",
       "      <th>lat</th>\n",
       "      <th>lon</th>\n",
       "      <th>avg_rating</th>\n",
       "    </tr>\n",
       "  </thead>\n",
       "  <tbody>\n",
       "    <tr>\n",
       "      <th>0</th>\n",
       "      <td>BTM</td>\n",
       "      <td>45.956023</td>\n",
       "      <td>-112.498565</td>\n",
       "      <td>3.296128</td>\n",
       "    </tr>\n",
       "    <tr>\n",
       "      <th>1</th>\n",
       "      <td>Banashankari</td>\n",
       "      <td>15.887678</td>\n",
       "      <td>75.704678</td>\n",
       "      <td>3.373292</td>\n",
       "    </tr>\n",
       "    <tr>\n",
       "      <th>2</th>\n",
       "      <td>Banaswadi</td>\n",
       "      <td>13.014162</td>\n",
       "      <td>77.651854</td>\n",
       "      <td>3.362926</td>\n",
       "    </tr>\n",
       "    <tr>\n",
       "      <th>3</th>\n",
       "      <td>Bannerghatta Road</td>\n",
       "      <td>12.935802</td>\n",
       "      <td>77.601392</td>\n",
       "      <td>3.271677</td>\n",
       "    </tr>\n",
       "    <tr>\n",
       "      <th>4</th>\n",
       "      <td>Basavanagudi</td>\n",
       "      <td>13.834591</td>\n",
       "      <td>75.733936</td>\n",
       "      <td>3.478185</td>\n",
       "    </tr>\n",
       "  </tbody>\n",
       "</table>\n",
       "</div>"
      ],
      "text/plain": [
       "            location        lat         lon  avg_rating\n",
       "0                BTM  45.956023 -112.498565    3.296128\n",
       "1       Banashankari  15.887678   75.704678    3.373292\n",
       "2          Banaswadi  13.014162   77.651854    3.362926\n",
       "3  Bannerghatta Road  12.935802   77.601392    3.271677\n",
       "4       Basavanagudi  13.834591   75.733936    3.478185"
      ]
     },
     "execution_count": 50,
     "metadata": {},
     "output_type": "execute_result"
    }
   ],
   "source": [
    "rating.head()"
   ]
  },
  {
   "cell_type": "code",
   "execution_count": 51,
   "metadata": {},
   "outputs": [
    {
     "data": {
      "text/plain": [
       "location      0\n",
       "lat           1\n",
       "lon           1\n",
       "avg_rating    0\n",
       "dtype: int64"
      ]
     },
     "execution_count": 51,
     "metadata": {},
     "output_type": "execute_result"
    }
   ],
   "source": [
    "rating.isna().sum()"
   ]
  },
  {
   "cell_type": "code",
   "execution_count": 52,
   "metadata": {},
   "outputs": [],
   "source": [
    "rating=rating.dropna()"
   ]
  },
  {
   "cell_type": "code",
   "execution_count": 53,
   "metadata": {},
   "outputs": [
    {
     "data": {
      "text/html": [
       "<div style=\"width:100%;\"><div style=\"position:relative;width:100%;height:0;padding-bottom:60%;\"><iframe src=\"about:blank\" style=\"position:absolute;width:100%;height:100%;left:0;top:0;border:none !important;\" data-html=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 onload=\"this.contentDocument.open();this.contentDocument.write(atob(this.getAttribute('data-html')));this.contentDocument.close();\" allowfullscreen webkitallowfullscreen mozallowfullscreen></iframe></div></div>"
      ],
      "text/plain": [
       "<folium.folium.Map at 0x8f81380d88>"
      ]
     },
     "execution_count": 53,
     "metadata": {},
     "output_type": "execute_result"
    }
   ],
   "source": [
    "HeatMap(rating[['lat','lon','avg_rating']],zoom=20,radius=15).add_to(basemap)\n",
    "basemap"
   ]
  },
  {
   "cell_type": "markdown",
   "metadata": {},
   "source": [
    "### Above are the restaurants with high average rate"
   ]
  },
  {
   "cell_type": "code",
   "execution_count": null,
   "metadata": {},
   "outputs": [],
   "source": []
  },
  {
   "cell_type": "code",
   "execution_count": null,
   "metadata": {},
   "outputs": [],
   "source": []
  },
  {
   "cell_type": "markdown",
   "metadata": {},
   "source": [
    "#### Heatmap of North Indian restaurants"
   ]
  },
  {
   "cell_type": "code",
   "execution_count": 54,
   "metadata": {},
   "outputs": [
    {
     "data": {
      "text/html": [
       "<div>\n",
       "<style scoped>\n",
       "    .dataframe tbody tr th:only-of-type {\n",
       "        vertical-align: middle;\n",
       "    }\n",
       "\n",
       "    .dataframe tbody tr th {\n",
       "        vertical-align: top;\n",
       "    }\n",
       "\n",
       "    .dataframe thead th {\n",
       "        text-align: right;\n",
       "    }\n",
       "</style>\n",
       "<table border=\"1\" class=\"dataframe\">\n",
       "  <thead>\n",
       "    <tr style=\"text-align: right;\">\n",
       "      <th></th>\n",
       "      <th>url</th>\n",
       "      <th>address</th>\n",
       "      <th>name</th>\n",
       "      <th>online_order</th>\n",
       "      <th>book_table</th>\n",
       "      <th>rate</th>\n",
       "      <th>votes</th>\n",
       "      <th>phone</th>\n",
       "      <th>location</th>\n",
       "      <th>rest_type</th>\n",
       "      <th>dish_liked</th>\n",
       "      <th>cuisines</th>\n",
       "      <th>approx_cost(for two people)</th>\n",
       "      <th>reviews_list</th>\n",
       "      <th>menu_item</th>\n",
       "      <th>listed_in(type)</th>\n",
       "      <th>listed_in(city)</th>\n",
       "      <th>rating</th>\n",
       "    </tr>\n",
       "  </thead>\n",
       "  <tbody>\n",
       "    <tr>\n",
       "      <th>0</th>\n",
       "      <td>https://www.zomato.com/bangalore/jalsa-banasha...</td>\n",
       "      <td>942, 21st Main Road, 2nd Stage, Banashankari, ...</td>\n",
       "      <td>Jalsa</td>\n",
       "      <td>Yes</td>\n",
       "      <td>Yes</td>\n",
       "      <td>4.1/5</td>\n",
       "      <td>775</td>\n",
       "      <td>080 42297555\\r\\n+91 9743772233</td>\n",
       "      <td>Banashankari</td>\n",
       "      <td>Casual Dining</td>\n",
       "      <td>Pasta, Lunch Buffet, Masala Papad, Paneer Laja...</td>\n",
       "      <td>North Indian, Mughlai, Chinese</td>\n",
       "      <td>800</td>\n",
       "      <td>[('Rated 4.0', 'RATED\\n  A beautiful place to ...</td>\n",
       "      <td>[]</td>\n",
       "      <td>Buffet</td>\n",
       "      <td>Banashankari</td>\n",
       "      <td>4.1</td>\n",
       "    </tr>\n",
       "    <tr>\n",
       "      <th>1</th>\n",
       "      <td>https://www.zomato.com/bangalore/spice-elephan...</td>\n",
       "      <td>2nd Floor, 80 Feet Road, Near Big Bazaar, 6th ...</td>\n",
       "      <td>Spice Elephant</td>\n",
       "      <td>Yes</td>\n",
       "      <td>No</td>\n",
       "      <td>4.1/5</td>\n",
       "      <td>787</td>\n",
       "      <td>080 41714161</td>\n",
       "      <td>Banashankari</td>\n",
       "      <td>Casual Dining</td>\n",
       "      <td>Momos, Lunch Buffet, Chocolate Nirvana, Thai G...</td>\n",
       "      <td>Chinese, North Indian, Thai</td>\n",
       "      <td>800</td>\n",
       "      <td>[('Rated 4.0', 'RATED\\n  Had been here for din...</td>\n",
       "      <td>[]</td>\n",
       "      <td>Buffet</td>\n",
       "      <td>Banashankari</td>\n",
       "      <td>4.1</td>\n",
       "    </tr>\n",
       "    <tr>\n",
       "      <th>2</th>\n",
       "      <td>https://www.zomato.com/SanchurroBangalore?cont...</td>\n",
       "      <td>1112, Next to KIMS Medical College, 17th Cross...</td>\n",
       "      <td>San Churro Cafe</td>\n",
       "      <td>Yes</td>\n",
       "      <td>No</td>\n",
       "      <td>3.8/5</td>\n",
       "      <td>918</td>\n",
       "      <td>+91 9663487993</td>\n",
       "      <td>Banashankari</td>\n",
       "      <td>Cafe, Casual Dining</td>\n",
       "      <td>Churros, Cannelloni, Minestrone Soup, Hot Choc...</td>\n",
       "      <td>Cafe, Mexican, Italian</td>\n",
       "      <td>800</td>\n",
       "      <td>[('Rated 3.0', \"RATED\\n  Ambience is not that ...</td>\n",
       "      <td>[]</td>\n",
       "      <td>Buffet</td>\n",
       "      <td>Banashankari</td>\n",
       "      <td>3.8</td>\n",
       "    </tr>\n",
       "    <tr>\n",
       "      <th>3</th>\n",
       "      <td>https://www.zomato.com/bangalore/addhuri-udupi...</td>\n",
       "      <td>1st Floor, Annakuteera, 3rd Stage, Banashankar...</td>\n",
       "      <td>Addhuri Udupi Bhojana</td>\n",
       "      <td>No</td>\n",
       "      <td>No</td>\n",
       "      <td>3.7/5</td>\n",
       "      <td>88</td>\n",
       "      <td>+91 9620009302</td>\n",
       "      <td>Banashankari</td>\n",
       "      <td>Quick Bites</td>\n",
       "      <td>Masala Dosa</td>\n",
       "      <td>South Indian, North Indian</td>\n",
       "      <td>300</td>\n",
       "      <td>[('Rated 4.0', \"RATED\\n  Great food and proper...</td>\n",
       "      <td>[]</td>\n",
       "      <td>Buffet</td>\n",
       "      <td>Banashankari</td>\n",
       "      <td>3.7</td>\n",
       "    </tr>\n",
       "    <tr>\n",
       "      <th>4</th>\n",
       "      <td>https://www.zomato.com/bangalore/grand-village...</td>\n",
       "      <td>10, 3rd Floor, Lakshmi Associates, Gandhi Baza...</td>\n",
       "      <td>Grand Village</td>\n",
       "      <td>No</td>\n",
       "      <td>No</td>\n",
       "      <td>3.8/5</td>\n",
       "      <td>166</td>\n",
       "      <td>+91 8026612447\\r\\n+91 9901210005</td>\n",
       "      <td>Basavanagudi</td>\n",
       "      <td>Casual Dining</td>\n",
       "      <td>Panipuri, Gol Gappe</td>\n",
       "      <td>North Indian, Rajasthani</td>\n",
       "      <td>600</td>\n",
       "      <td>[('Rated 4.0', 'RATED\\n  Very good restaurant ...</td>\n",
       "      <td>[]</td>\n",
       "      <td>Buffet</td>\n",
       "      <td>Banashankari</td>\n",
       "      <td>3.8</td>\n",
       "    </tr>\n",
       "  </tbody>\n",
       "</table>\n",
       "</div>"
      ],
      "text/plain": [
       "                                                 url  \\\n",
       "0  https://www.zomato.com/bangalore/jalsa-banasha...   \n",
       "1  https://www.zomato.com/bangalore/spice-elephan...   \n",
       "2  https://www.zomato.com/SanchurroBangalore?cont...   \n",
       "3  https://www.zomato.com/bangalore/addhuri-udupi...   \n",
       "4  https://www.zomato.com/bangalore/grand-village...   \n",
       "\n",
       "                                             address                   name  \\\n",
       "0  942, 21st Main Road, 2nd Stage, Banashankari, ...                  Jalsa   \n",
       "1  2nd Floor, 80 Feet Road, Near Big Bazaar, 6th ...         Spice Elephant   \n",
       "2  1112, Next to KIMS Medical College, 17th Cross...        San Churro Cafe   \n",
       "3  1st Floor, Annakuteera, 3rd Stage, Banashankar...  Addhuri Udupi Bhojana   \n",
       "4  10, 3rd Floor, Lakshmi Associates, Gandhi Baza...          Grand Village   \n",
       "\n",
       "  online_order book_table   rate  votes                             phone  \\\n",
       "0          Yes        Yes  4.1/5    775    080 42297555\\r\\n+91 9743772233   \n",
       "1          Yes         No  4.1/5    787                      080 41714161   \n",
       "2          Yes         No  3.8/5    918                    +91 9663487993   \n",
       "3           No         No  3.7/5     88                    +91 9620009302   \n",
       "4           No         No  3.8/5    166  +91 8026612447\\r\\n+91 9901210005   \n",
       "\n",
       "       location            rest_type  \\\n",
       "0  Banashankari        Casual Dining   \n",
       "1  Banashankari        Casual Dining   \n",
       "2  Banashankari  Cafe, Casual Dining   \n",
       "3  Banashankari          Quick Bites   \n",
       "4  Basavanagudi        Casual Dining   \n",
       "\n",
       "                                          dish_liked  \\\n",
       "0  Pasta, Lunch Buffet, Masala Papad, Paneer Laja...   \n",
       "1  Momos, Lunch Buffet, Chocolate Nirvana, Thai G...   \n",
       "2  Churros, Cannelloni, Minestrone Soup, Hot Choc...   \n",
       "3                                        Masala Dosa   \n",
       "4                                Panipuri, Gol Gappe   \n",
       "\n",
       "                         cuisines approx_cost(for two people)  \\\n",
       "0  North Indian, Mughlai, Chinese                         800   \n",
       "1     Chinese, North Indian, Thai                         800   \n",
       "2          Cafe, Mexican, Italian                         800   \n",
       "3      South Indian, North Indian                         300   \n",
       "4        North Indian, Rajasthani                         600   \n",
       "\n",
       "                                        reviews_list menu_item  \\\n",
       "0  [('Rated 4.0', 'RATED\\n  A beautiful place to ...        []   \n",
       "1  [('Rated 4.0', 'RATED\\n  Had been here for din...        []   \n",
       "2  [('Rated 3.0', \"RATED\\n  Ambience is not that ...        []   \n",
       "3  [('Rated 4.0', \"RATED\\n  Great food and proper...        []   \n",
       "4  [('Rated 4.0', 'RATED\\n  Very good restaurant ...        []   \n",
       "\n",
       "  listed_in(type) listed_in(city)  rating  \n",
       "0          Buffet    Banashankari     4.1  \n",
       "1          Buffet    Banashankari     4.1  \n",
       "2          Buffet    Banashankari     3.8  \n",
       "3          Buffet    Banashankari     3.7  \n",
       "4          Buffet    Banashankari     3.8  "
      ]
     },
     "execution_count": 54,
     "metadata": {},
     "output_type": "execute_result"
    }
   ],
   "source": [
    "df.head()"
   ]
  },
  {
   "cell_type": "code",
   "execution_count": 55,
   "metadata": {},
   "outputs": [
    {
     "data": {
      "text/html": [
       "<div>\n",
       "<style scoped>\n",
       "    .dataframe tbody tr th:only-of-type {\n",
       "        vertical-align: middle;\n",
       "    }\n",
       "\n",
       "    .dataframe tbody tr th {\n",
       "        vertical-align: top;\n",
       "    }\n",
       "\n",
       "    .dataframe thead th {\n",
       "        text-align: right;\n",
       "    }\n",
       "</style>\n",
       "<table border=\"1\" class=\"dataframe\">\n",
       "  <thead>\n",
       "    <tr style=\"text-align: right;\">\n",
       "      <th></th>\n",
       "      <th>url</th>\n",
       "      <th>address</th>\n",
       "      <th>name</th>\n",
       "      <th>online_order</th>\n",
       "      <th>book_table</th>\n",
       "      <th>rate</th>\n",
       "      <th>votes</th>\n",
       "      <th>phone</th>\n",
       "      <th>location</th>\n",
       "      <th>rest_type</th>\n",
       "      <th>dish_liked</th>\n",
       "      <th>cuisines</th>\n",
       "      <th>approx_cost(for two people)</th>\n",
       "      <th>reviews_list</th>\n",
       "      <th>menu_item</th>\n",
       "      <th>listed_in(type)</th>\n",
       "      <th>listed_in(city)</th>\n",
       "      <th>rating</th>\n",
       "    </tr>\n",
       "  </thead>\n",
       "  <tbody>\n",
       "    <tr>\n",
       "      <th>5</th>\n",
       "      <td>https://www.zomato.com/bangalore/timepass-dinn...</td>\n",
       "      <td>37, 5-1, 4th Floor, Bosco Court, Gandhi Bazaar...</td>\n",
       "      <td>Timepass Dinner</td>\n",
       "      <td>Yes</td>\n",
       "      <td>No</td>\n",
       "      <td>3.8/5</td>\n",
       "      <td>286</td>\n",
       "      <td>+91 9980040002\\r\\n+91 9980063005</td>\n",
       "      <td>Basavanagudi</td>\n",
       "      <td>Casual Dining</td>\n",
       "      <td>Onion Rings, Pasta, Kadhai Paneer, Salads, Sal...</td>\n",
       "      <td>North Indian</td>\n",
       "      <td>600</td>\n",
       "      <td>[('Rated 3.0', 'RATED\\n  Food 3/5\\nAmbience 3/...</td>\n",
       "      <td>[]</td>\n",
       "      <td>Buffet</td>\n",
       "      <td>Banashankari</td>\n",
       "      <td>3.8</td>\n",
       "    </tr>\n",
       "    <tr>\n",
       "      <th>50</th>\n",
       "      <td>https://www.zomato.com/bangalore/petoo-banasha...</td>\n",
       "      <td>276, Ground Floor, 100 Feet Outer Ring Road, B...</td>\n",
       "      <td>Petoo</td>\n",
       "      <td>No</td>\n",
       "      <td>No</td>\n",
       "      <td>3.7/5</td>\n",
       "      <td>21</td>\n",
       "      <td>+91 8026893211</td>\n",
       "      <td>Banashankari</td>\n",
       "      <td>Quick Bites</td>\n",
       "      <td>NaN</td>\n",
       "      <td>North Indian</td>\n",
       "      <td>450</td>\n",
       "      <td>[('Rated 2.0', 'RATED\\n  This is a neatly made...</td>\n",
       "      <td>[]</td>\n",
       "      <td>Delivery</td>\n",
       "      <td>Banashankari</td>\n",
       "      <td>3.7</td>\n",
       "    </tr>\n",
       "    <tr>\n",
       "      <th>72</th>\n",
       "      <td>https://www.zomato.com/bangalore/spicy-tandoor...</td>\n",
       "      <td>Opposite ICICi Bank, Hanuman Nagar, Banashanka...</td>\n",
       "      <td>Spicy Tandoor</td>\n",
       "      <td>No</td>\n",
       "      <td>No</td>\n",
       "      <td>0</td>\n",
       "      <td>0</td>\n",
       "      <td>+91 8050884222</td>\n",
       "      <td>Banashankari</td>\n",
       "      <td>Quick Bites</td>\n",
       "      <td>NaN</td>\n",
       "      <td>North Indian</td>\n",
       "      <td>150</td>\n",
       "      <td>[('Rated 4.0', 'RATED\\n  cost for chicken roll...</td>\n",
       "      <td>[]</td>\n",
       "      <td>Delivery</td>\n",
       "      <td>Banashankari</td>\n",
       "      <td>0.0</td>\n",
       "    </tr>\n",
       "    <tr>\n",
       "      <th>87</th>\n",
       "      <td>https://www.zomato.com/bangalore/krishna-sagar...</td>\n",
       "      <td>38, 22nd Main, 22nd Cross, Opposite BDA, 2nd S...</td>\n",
       "      <td>Krishna Sagar</td>\n",
       "      <td>No</td>\n",
       "      <td>No</td>\n",
       "      <td>3.5/5</td>\n",
       "      <td>31</td>\n",
       "      <td>+91 8892752997\\r\\n+91 7204780429</td>\n",
       "      <td>Banashankari</td>\n",
       "      <td>Quick Bites</td>\n",
       "      <td>NaN</td>\n",
       "      <td>North Indian</td>\n",
       "      <td>200</td>\n",
       "      <td>[('Rated 1.0', 'RATED\\n  Worst experience with...</td>\n",
       "      <td>[]</td>\n",
       "      <td>Delivery</td>\n",
       "      <td>Banashankari</td>\n",
       "      <td>3.5</td>\n",
       "    </tr>\n",
       "    <tr>\n",
       "      <th>94</th>\n",
       "      <td>https://www.zomato.com/bangalore/nandhini-delu...</td>\n",
       "      <td>304, Opposite Apollo Public School, 100 Feet R...</td>\n",
       "      <td>Nandhini Deluxe</td>\n",
       "      <td>No</td>\n",
       "      <td>No</td>\n",
       "      <td>2.6/5</td>\n",
       "      <td>283</td>\n",
       "      <td>080 26890011\\r\\n080 26890033</td>\n",
       "      <td>Banashankari</td>\n",
       "      <td>Casual Dining</td>\n",
       "      <td>Biryani, Chicken Guntur, Thali, Buttermilk, Ma...</td>\n",
       "      <td>North Indian</td>\n",
       "      <td>600</td>\n",
       "      <td>[('Rated 3.0', 'RATED\\n  Ididnt like much.\\n\\n...</td>\n",
       "      <td>[]</td>\n",
       "      <td>Delivery</td>\n",
       "      <td>Banashankari</td>\n",
       "      <td>2.6</td>\n",
       "    </tr>\n",
       "  </tbody>\n",
       "</table>\n",
       "</div>"
      ],
      "text/plain": [
       "                                                  url  \\\n",
       "5   https://www.zomato.com/bangalore/timepass-dinn...   \n",
       "50  https://www.zomato.com/bangalore/petoo-banasha...   \n",
       "72  https://www.zomato.com/bangalore/spicy-tandoor...   \n",
       "87  https://www.zomato.com/bangalore/krishna-sagar...   \n",
       "94  https://www.zomato.com/bangalore/nandhini-delu...   \n",
       "\n",
       "                                              address             name  \\\n",
       "5   37, 5-1, 4th Floor, Bosco Court, Gandhi Bazaar...  Timepass Dinner   \n",
       "50  276, Ground Floor, 100 Feet Outer Ring Road, B...            Petoo   \n",
       "72  Opposite ICICi Bank, Hanuman Nagar, Banashanka...    Spicy Tandoor   \n",
       "87  38, 22nd Main, 22nd Cross, Opposite BDA, 2nd S...    Krishna Sagar   \n",
       "94  304, Opposite Apollo Public School, 100 Feet R...  Nandhini Deluxe   \n",
       "\n",
       "   online_order book_table   rate  votes                             phone  \\\n",
       "5           Yes         No  3.8/5    286  +91 9980040002\\r\\n+91 9980063005   \n",
       "50           No         No  3.7/5     21                    +91 8026893211   \n",
       "72           No         No      0      0                    +91 8050884222   \n",
       "87           No         No  3.5/5     31  +91 8892752997\\r\\n+91 7204780429   \n",
       "94           No         No  2.6/5    283      080 26890011\\r\\n080 26890033   \n",
       "\n",
       "        location      rest_type  \\\n",
       "5   Basavanagudi  Casual Dining   \n",
       "50  Banashankari    Quick Bites   \n",
       "72  Banashankari    Quick Bites   \n",
       "87  Banashankari    Quick Bites   \n",
       "94  Banashankari  Casual Dining   \n",
       "\n",
       "                                           dish_liked      cuisines  \\\n",
       "5   Onion Rings, Pasta, Kadhai Paneer, Salads, Sal...  North Indian   \n",
       "50                                                NaN  North Indian   \n",
       "72                                                NaN  North Indian   \n",
       "87                                                NaN  North Indian   \n",
       "94  Biryani, Chicken Guntur, Thali, Buttermilk, Ma...  North Indian   \n",
       "\n",
       "   approx_cost(for two people)  \\\n",
       "5                          600   \n",
       "50                         450   \n",
       "72                         150   \n",
       "87                         200   \n",
       "94                         600   \n",
       "\n",
       "                                         reviews_list menu_item  \\\n",
       "5   [('Rated 3.0', 'RATED\\n  Food 3/5\\nAmbience 3/...        []   \n",
       "50  [('Rated 2.0', 'RATED\\n  This is a neatly made...        []   \n",
       "72  [('Rated 4.0', 'RATED\\n  cost for chicken roll...        []   \n",
       "87  [('Rated 1.0', 'RATED\\n  Worst experience with...        []   \n",
       "94  [('Rated 3.0', 'RATED\\n  Ididnt like much.\\n\\n...        []   \n",
       "\n",
       "   listed_in(type) listed_in(city)  rating  \n",
       "5           Buffet    Banashankari     3.8  \n",
       "50        Delivery    Banashankari     3.7  \n",
       "72        Delivery    Banashankari     0.0  \n",
       "87        Delivery    Banashankari     3.5  \n",
       "94        Delivery    Banashankari     2.6  "
      ]
     },
     "execution_count": 55,
     "metadata": {},
     "output_type": "execute_result"
    }
   ],
   "source": [
    "df2= df[df['cuisines']=='North Indian']\n",
    "df2.head()"
   ]
  },
  {
   "cell_type": "code",
   "execution_count": 56,
   "metadata": {},
   "outputs": [
    {
     "data": {
      "text/html": [
       "<div>\n",
       "<style scoped>\n",
       "    .dataframe tbody tr th:only-of-type {\n",
       "        vertical-align: middle;\n",
       "    }\n",
       "\n",
       "    .dataframe tbody tr th {\n",
       "        vertical-align: top;\n",
       "    }\n",
       "\n",
       "    .dataframe thead th {\n",
       "        text-align: right;\n",
       "    }\n",
       "</style>\n",
       "<table border=\"1\" class=\"dataframe\">\n",
       "  <thead>\n",
       "    <tr style=\"text-align: right;\">\n",
       "      <th></th>\n",
       "      <th>Name</th>\n",
       "      <th>count</th>\n",
       "    </tr>\n",
       "  </thead>\n",
       "  <tbody>\n",
       "    <tr>\n",
       "      <th>0</th>\n",
       "      <td>BTM</td>\n",
       "      <td>274</td>\n",
       "    </tr>\n",
       "    <tr>\n",
       "      <th>1</th>\n",
       "      <td>Banashankari</td>\n",
       "      <td>35</td>\n",
       "    </tr>\n",
       "    <tr>\n",
       "      <th>2</th>\n",
       "      <td>Banaswadi</td>\n",
       "      <td>9</td>\n",
       "    </tr>\n",
       "    <tr>\n",
       "      <th>3</th>\n",
       "      <td>Bannerghatta Road</td>\n",
       "      <td>60</td>\n",
       "    </tr>\n",
       "    <tr>\n",
       "      <th>4</th>\n",
       "      <td>Basavanagudi</td>\n",
       "      <td>17</td>\n",
       "    </tr>\n",
       "  </tbody>\n",
       "</table>\n",
       "</div>"
      ],
      "text/plain": [
       "                Name  count\n",
       "0                BTM    274\n",
       "1       Banashankari     35\n",
       "2          Banaswadi      9\n",
       "3  Bannerghatta Road     60\n",
       "4       Basavanagudi     17"
      ]
     },
     "execution_count": 56,
     "metadata": {},
     "output_type": "execute_result"
    }
   ],
   "source": [
    "north_india=df2.groupby('location')['url'].count().reset_index()\n",
    "north_india.columns=['Name','count']\n",
    "north_india.head()"
   ]
  },
  {
   "cell_type": "code",
   "execution_count": 57,
   "metadata": {},
   "outputs": [],
   "source": [
    "north_india=north_india.merge(locations,on=\"Name\",how='left').dropna()"
   ]
  },
  {
   "cell_type": "code",
   "execution_count": 58,
   "metadata": {},
   "outputs": [
    {
     "data": {
      "text/html": [
       "<div>\n",
       "<style scoped>\n",
       "    .dataframe tbody tr th:only-of-type {\n",
       "        vertical-align: middle;\n",
       "    }\n",
       "\n",
       "    .dataframe tbody tr th {\n",
       "        vertical-align: top;\n",
       "    }\n",
       "\n",
       "    .dataframe thead th {\n",
       "        text-align: right;\n",
       "    }\n",
       "</style>\n",
       "<table border=\"1\" class=\"dataframe\">\n",
       "  <thead>\n",
       "    <tr style=\"text-align: right;\">\n",
       "      <th></th>\n",
       "      <th>Name</th>\n",
       "      <th>count</th>\n",
       "      <th>lat</th>\n",
       "      <th>lon</th>\n",
       "    </tr>\n",
       "  </thead>\n",
       "  <tbody>\n",
       "    <tr>\n",
       "      <th>0</th>\n",
       "      <td>BTM</td>\n",
       "      <td>274</td>\n",
       "      <td>45.956023</td>\n",
       "      <td>-112.498565</td>\n",
       "    </tr>\n",
       "    <tr>\n",
       "      <th>1</th>\n",
       "      <td>Banashankari</td>\n",
       "      <td>35</td>\n",
       "      <td>15.887678</td>\n",
       "      <td>75.704678</td>\n",
       "    </tr>\n",
       "    <tr>\n",
       "      <th>2</th>\n",
       "      <td>Banaswadi</td>\n",
       "      <td>9</td>\n",
       "      <td>13.014162</td>\n",
       "      <td>77.651854</td>\n",
       "    </tr>\n",
       "    <tr>\n",
       "      <th>3</th>\n",
       "      <td>Bannerghatta Road</td>\n",
       "      <td>60</td>\n",
       "      <td>12.935802</td>\n",
       "      <td>77.601392</td>\n",
       "    </tr>\n",
       "    <tr>\n",
       "      <th>4</th>\n",
       "      <td>Basavanagudi</td>\n",
       "      <td>17</td>\n",
       "      <td>13.834591</td>\n",
       "      <td>75.733936</td>\n",
       "    </tr>\n",
       "  </tbody>\n",
       "</table>\n",
       "</div>"
      ],
      "text/plain": [
       "                Name  count        lat         lon\n",
       "0                BTM    274  45.956023 -112.498565\n",
       "1       Banashankari     35  15.887678   75.704678\n",
       "2          Banaswadi      9  13.014162   77.651854\n",
       "3  Bannerghatta Road     60  12.935802   77.601392\n",
       "4       Basavanagudi     17  13.834591   75.733936"
      ]
     },
     "execution_count": 58,
     "metadata": {},
     "output_type": "execute_result"
    }
   ],
   "source": [
    "north_india.head()"
   ]
  },
  {
   "cell_type": "code",
   "execution_count": 60,
   "metadata": {},
   "outputs": [
    {
     "data": {
      "text/html": [
       "<div style=\"width:100%;\"><div style=\"position:relative;width:100%;height:0;padding-bottom:60%;\"><iframe src=\"about:blank\" style=\"position:absolute;width:100%;height:100%;left:0;top:0;border:none !important;\" data-html=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 onload=\"this.contentDocument.open();this.contentDocument.write(atob(this.getAttribute('data-html')));this.contentDocument.close();\" allowfullscreen webkitallowfullscreen mozallowfullscreen></iframe></div></div>"
      ],
      "text/plain": [
       "<folium.folium.Map at 0x8f8272ea08>"
      ]
     },
     "execution_count": 60,
     "metadata": {},
     "output_type": "execute_result"
    }
   ],
   "source": [
    "basemap=generateBaseMap()\n",
    "HeatMap(north_india[['lat','lon','count']].values.tolist(),zoom=20,radius=15).add_to(basemap)\n",
    "basemap"
   ]
  },
  {
   "cell_type": "code",
   "execution_count": null,
   "metadata": {},
   "outputs": [],
   "source": []
  },
  {
   "cell_type": "markdown",
   "metadata": {},
   "source": [
    "#### Automate Above Stuffs, & create for South India, & many other zones"
   ]
  },
  {
   "cell_type": "code",
   "execution_count": 61,
   "metadata": {},
   "outputs": [],
   "source": [
    "def Heatmap_Zone(zone):\n",
    "    df3=df[df['cuisines']==zone]\n",
    "    df_zone=df3.groupby(['location'],as_index=False)['url'].agg('count')\n",
    "    df_zone.columns=['Name','count']\n",
    "    df_zone=df_zone.merge(locations,on=\"Name\",how='left').dropna()\n",
    "    basemap=generateBaseMap()\n",
    "    HeatMap(df_zone[['lat','lon','count']].values.tolist(),zoom=20,radius=15).add_to(basemap)\n",
    "    return basemap"
   ]
  },
  {
   "cell_type": "code",
   "execution_count": 62,
   "metadata": {},
   "outputs": [
    {
     "data": {
      "text/plain": [
       "array(['North Indian, Mughlai, Chinese', 'Chinese, North Indian, Thai',\n",
       "       'Cafe, Mexican, Italian', ..., 'Tibetan, Nepalese',\n",
       "       'North Indian, Street Food, Biryani',\n",
       "       'North Indian, Chinese, Arabian, Momos'], dtype=object)"
      ]
     },
     "execution_count": 62,
     "metadata": {},
     "output_type": "execute_result"
    }
   ],
   "source": [
    "df['cuisines'].unique()"
   ]
  },
  {
   "cell_type": "code",
   "execution_count": 63,
   "metadata": {},
   "outputs": [
    {
     "data": {
      "text/html": [
       "<div style=\"width:100%;\"><div style=\"position:relative;width:100%;height:0;padding-bottom:60%;\"><iframe src=\"about:blank\" style=\"position:absolute;width:100%;height:100%;left:0;top:0;border:none !important;\" data-html=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 onload=\"this.contentDocument.open();this.contentDocument.write(atob(this.getAttribute('data-html')));this.contentDocument.close();\" allowfullscreen webkitallowfullscreen mozallowfullscreen></iframe></div></div>"
      ],
      "text/plain": [
       "<folium.folium.Map at 0x8f81c215c8>"
      ]
     },
     "execution_count": 63,
     "metadata": {},
     "output_type": "execute_result"
    }
   ],
   "source": [
    "Heatmap_Zone('South Indian')"
   ]
  },
  {
   "cell_type": "code",
   "execution_count": null,
   "metadata": {},
   "outputs": [],
   "source": []
  },
  {
   "cell_type": "code",
   "execution_count": null,
   "metadata": {},
   "outputs": [],
   "source": []
  },
  {
   "cell_type": "code",
   "execution_count": null,
   "metadata": {},
   "outputs": [],
   "source": []
  }
 ],
 "metadata": {
  "kernelspec": {
   "display_name": "Python 3",
   "language": "python",
   "name": "python3"
  },
  "language_info": {
   "codemirror_mode": {
    "name": "ipython",
    "version": 3
   },
   "file_extension": ".py",
   "mimetype": "text/x-python",
   "name": "python",
   "nbconvert_exporter": "python",
   "pygments_lexer": "ipython3",
   "version": "3.8.5"
  }
 },
 "nbformat": 4,
 "nbformat_minor": 2
}
